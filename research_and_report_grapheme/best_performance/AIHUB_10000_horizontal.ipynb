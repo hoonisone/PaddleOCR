{
 "cells": [
  {
   "cell_type": "code",
   "execution_count": 24,
   "metadata": {},
   "outputs": [
    {
     "name": "stdout",
     "output_type": "stream",
     "text": [
      "C     Character 0.834 0.92 0.958\n",
      "C+F   Character 0.861 0.938 0.968\n",
      "C+FM  Character 0.873 0.943 0.973\n",
      "C+FML Character 0.877 0.944 0.971\n",
      "C+FML Grapheme  0.885 0.945 0.972\n",
      "G     Grapheme  0.895 0.948 0.975\n"
     ]
    }
   ],
   "source": [
    "from database import *\n",
    "import pandas as pd\n",
    "import matplotlib.pyplot as plt\n",
    "workdb = WorkDB()\n",
    "\n",
    "def print_c(work):\n",
    "    df = workdb.get_best_report(work, criteria=\"test\", metric=\"character_acc\")\n",
    "    acc = round(df[df[\"task\"]==\"test\"][\"character_acc\"][0], 3)\n",
    "    cned = round(df[df[\"task\"]==\"test\"][\"character_C_NED\"][0], 3)\n",
    "    gned = round(df[df[\"task\"]==\"test\"][\"character_G_NED\"][0], 3)\n",
    "    print(f\"{work.split('_')[-1]:<5}\", \"Character\", acc, cned, gned)\n",
    "    \n",
    "def print_g(work):\n",
    "    df = workdb.get_best_report(work, criteria=\"test\", metric=\"composed_acc\")\n",
    "    acc = round(df[df[\"task\"]==\"test\"][\"composed_acc\"][0], 3)\n",
    "    cned = round(df[df[\"task\"]==\"test\"][\"composed_C_NED\"][0], 3)\n",
    "    gned = round(df[df[\"task\"]==\"test\"][\"composed_G_NED\"][0], 3)\n",
    "    print(f\"{work.split('_')[-1]:<5}\", \"Grapheme \", acc, cned, gned)\n",
    "    \n",
    "print_c(\"rec_grapheme_10000_horizontal_C\")\n",
    "print_c(\"rec_grapheme_10000_horizontal_C+F\")\n",
    "print_c(\"rec_grapheme_10000_horizontal_C+FM\")\n",
    "print_c(\"rec_grapheme_10000_horizontal_C+FML\")\n",
    "\n",
    "print_g(\"rec_grapheme_10000_horizontal_C+FML\")\n",
    "print_g(\"rec_grapheme_10000_horizontal_G\")\n",
    "\n",
    "\n"
   ]
  },
  {
   "cell_type": "code",
   "execution_count": 20,
   "metadata": {},
   "outputs": [
    {
     "data": {
      "text/html": [
       "<div>\n",
       "<style scoped>\n",
       "    .dataframe tbody tr th:only-of-type {\n",
       "        vertical-align: middle;\n",
       "    }\n",
       "\n",
       "    .dataframe tbody tr th {\n",
       "        vertical-align: top;\n",
       "    }\n",
       "\n",
       "    .dataframe thead th {\n",
       "        text-align: right;\n",
       "    }\n",
       "</style>\n",
       "<table border=\"1\" class=\"dataframe\">\n",
       "  <thead>\n",
       "    <tr style=\"text-align: right;\">\n",
       "      <th></th>\n",
       "      <th>work_id</th>\n",
       "      <th>version</th>\n",
       "      <th>task</th>\n",
       "      <th>character_acc</th>\n",
       "      <th>character_C_NED</th>\n",
       "      <th>character_G_NED</th>\n",
       "      <th>fps</th>\n",
       "    </tr>\n",
       "  </thead>\n",
       "  <tbody>\n",
       "    <tr>\n",
       "      <th>0</th>\n",
       "      <td>rec_grapheme_10000_horizontal_C</td>\n",
       "      <td>216.0</td>\n",
       "      <td>train</td>\n",
       "      <td>0.993750</td>\n",
       "      <td>0.997917</td>\n",
       "      <td>0.998611</td>\n",
       "      <td>2145.251351</td>\n",
       "    </tr>\n",
       "    <tr>\n",
       "      <th>0</th>\n",
       "      <td>rec_grapheme_10000_horizontal_C</td>\n",
       "      <td>216.0</td>\n",
       "      <td>eval</td>\n",
       "      <td>0.848361</td>\n",
       "      <td>0.927310</td>\n",
       "      <td>0.961118</td>\n",
       "      <td>433.576573</td>\n",
       "    </tr>\n",
       "    <tr>\n",
       "      <th>0</th>\n",
       "      <td>rec_grapheme_10000_horizontal_C</td>\n",
       "      <td>216.0</td>\n",
       "      <td>test</td>\n",
       "      <td>0.825820</td>\n",
       "      <td>0.915930</td>\n",
       "      <td>0.955934</td>\n",
       "      <td>551.459513</td>\n",
       "    </tr>\n",
       "  </tbody>\n",
       "</table>\n",
       "</div>"
      ],
      "text/plain": [
       "                           work_id  version   task  character_acc  \\\n",
       "0  rec_grapheme_10000_horizontal_C    216.0  train       0.993750   \n",
       "0  rec_grapheme_10000_horizontal_C    216.0   eval       0.848361   \n",
       "0  rec_grapheme_10000_horizontal_C    216.0   test       0.825820   \n",
       "\n",
       "   character_C_NED  character_G_NED          fps  \n",
       "0         0.997917         0.998611  2145.251351  \n",
       "0         0.927310         0.961118   433.576573  \n",
       "0         0.915930         0.955934   551.459513  "
      ]
     },
     "execution_count": 20,
     "metadata": {},
     "output_type": "execute_result"
    }
   ],
   "source": [
    "df"
   ]
  },
  {
   "cell_type": "code",
   "execution_count": null,
   "metadata": {},
   "outputs": [],
   "source": []
  }
 ],
 "metadata": {
  "kernelspec": {
   "display_name": ".venv",
   "language": "python",
   "name": "python3"
  },
  "language_info": {
   "codemirror_mode": {
    "name": "ipython",
    "version": 3
   },
   "file_extension": ".py",
   "mimetype": "text/x-python",
   "name": "python",
   "nbconvert_exporter": "python",
   "pygments_lexer": "ipython3",
   "version": "3.7.14"
  }
 },
 "nbformat": 4,
 "nbformat_minor": 2
}
