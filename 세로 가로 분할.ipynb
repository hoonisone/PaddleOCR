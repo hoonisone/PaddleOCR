{
 "cells": [
  {
   "cell_type": "code",
   "execution_count": null,
   "metadata": {},
   "outputs": [],
   "source": [
    "from pathlib import Path\n",
    "from PIL import Image\n",
    "with open(Path(\"/home/labelsets/full_dataset_str_v1/test_label.txt\")) as f:\n",
    "    lines = [line.rstrip(\"\\n\") for line in f.readlines()]\n",
    "\n",
    "Path(\"/home/horizontal\").mkdir(parents=True, exist_ok=True)\n",
    "Path(\"/home/square\").mkdir(parents=True, exist_ok=True)\n",
    "Path(\"/home/vertical\").mkdir(parents=True, exist_ok=True)\n",
    "\n",
    "vn, sn, hn = 0, 0, 0\n",
    "for line in lines:\n",
    "    image_path, label = line.split(\"\\t\")\n",
    "    image = Image.open(Path(\"/home/datasets\")/image_path)\n",
    "    w, h = image.size\n",
    "    if h > w*2: # vertical\n",
    "        vn += 1\n",
    "        image.save(f\"/home/vertical/{vn}.png\")\n",
    "        with open(\"/home/vertical_test_label.txt\", \"a\") as f:\n",
    "            f.write(line+\"\\n\")\n",
    "        with open(\"/home/vertical_test_infer.txt\", \"a\") as f:\n",
    "            f.write(image_path+\"\\n\")\n",
    "    elif h*2 > w: # vertical\n",
    "        sn += 1\n",
    "        image.save(f\"/home/square/{sn}.png\")\n",
    "        with open(\"/home/square_test_label.txt\", \"a\") as f:\n",
    "            f.write(line+\"\\n\")\n",
    "        with open(\"/home/square_test_infer.txt\", \"a\") as f:\n",
    "            f.write(image_path+\"\\n\")\n",
    "    else: # horizental\n",
    "        hn += 1\n",
    "        image.save(f\"/home/horizontal/{hn}.png\")\n",
    "        with open(\"/home/horizontal_test_label.txt\", \"a\") as f:\n",
    "            f.write(line+\"\\n\")\n",
    "\n",
    "        with open(\"/home/horizontal_test_infer.txt\", \"a\") as f:\n",
    "            f.write(image_path+\"\\n\")\n",
    "print(vn, sn, hn)\n",
    "\n",
    "\n"
   ]
  }
 ],
 "metadata": {
  "language_info": {
   "name": "python"
  }
 },
 "nbformat": 4,
 "nbformat_minor": 2
}
