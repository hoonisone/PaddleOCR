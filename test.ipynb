{
 "cells": [
  {
   "cell_type": "code",
   "execution_count": 1,
   "metadata": {},
   "outputs": [
    {
     "name": "stdout",
     "output_type": "stream",
     "text": [
      "['ai_hub_korean_image_det', 'ai_hub_korean_image_rec', 'ICDAR2015', 'test1', 'test2']\n",
      "\n",
      "ai_hub_korean_image_det\n",
      "{'task': ['STD'], 'labelfiles': ['label.txt'], 'options': [], 'name': 'ai_hub_korean_image_det'}\n"
     ]
    }
   ],
   "source": [
    "from database import *\n",
    "\n",
    "mdb = DatasetDB()\n",
    "print(mdb.get_all_id())\n",
    "print()\n",
    "id = mdb.get_all_id()[0]\n",
    "print(id)\n",
    "print(mdb.get_config(id))"
   ]
  },
  {
   "cell_type": "code",
   "execution_count": 12,
   "metadata": {},
   "outputs": [
    {
     "name": "stdout",
     "output_type": "stream",
     "text": [
      "train1\\source\\간판\\세로형간판\\간판_세로형간판_000001.jpg\t[{\"transcription\": \"\\uc18c\\ub9dd\", \"points\": [[762, 306], [849, 306], [849, 518], [762, 518]]}, {\"transcription\": \"\\ubbf8\\uc6a9\\uc2e4\", \"points\": [[754, 547], [837, 547], [837, 900], [754, 900]]}, {\"transcription\": \"xxx\", \"points\": [[730, 1053], [845, 1053], [845, 1147], [730, 1147]]}, {\"transcription\": \"xxx\", \"points\": [[871, 1078], [1047, 1078], [1047, 1139], [871, 1139]]}, {\"transcription\": \"xxx\", \"points\": [[1177, 732], [1479, 732], [1479, 794], [1177, 794]]}, {\"transcription\": \"xxx\", \"points\": [[1429, 707], [1502, 707], [1502, 748], [1429, 748]]}, {\"transcription\": \"xxx\", \"points\": [[1342, 1075], [1428, 1075], [1428, 1160], [1342, 1160]]}, {\"transcription\": \"xxx\", \"points\": [[184, 345], [361, 345], [361, 611], [184, 611]]}, {\"transcription\": \"xxx\", \"points\": [[121, 291], [184, 291], [184, 342], [121, 342]]}, {\"transcription\": \"xxx\", \"points\": [[365, 194], [460, 194], [460, 252], [365, 252]]}, {\"transcription\": \"xxx\", \"points\": [[391, 536], [443, 536], [443, 587], [391, 587]]}, {\"transcription\": \"xxx\", \"points\": [[355, 610], [517, 610], [517, 684], [355, 684]]}, {\"transcription\": \"xxx\", \"points\": [[172, 748], [240, 748], [240, 802], [172, 802]]}, {\"transcription\": \"xxx\", \"points\": [[0, 168], [736, 168], [736, 1154], [0, 1154]]}, {\"transcription\": \"xxx\", \"points\": [[998, 1], [1600, 1], [1600, 1092], [998, 1092]]}]\n",
      "2. split and save label files\n",
      "labelsets\\aihub_det_only_sign\n"
     ]
    }
   ],
   "source": [
    "from database import *\n",
    "labeldb = LabelsetDB()\n",
    "# labeldb.make(\"test\", [\"test1\", \"test2\"], [16, 4, 80], random_seed=100)\n",
    "labeldb.make(\"aihub_det_only_sign\", [\"ai_hub_korean_det\"], [80, 10, 10], random_seed=100)\n",
    "# name = labeldb.get_all_id()[0]\n",
    "# print(name)\n",
    "# print(labeldb.get_config(\"test\"))\n",
    "\n",
    "# labeldb.make_k_fold([\"test\"], \"test_k_fold\", 5)\n",
    "# labeldb.make_k_fold([\"test_k_fold_5_1\", \"test_k_fold_5_2\"], \"test_k_fold2\", 5)\n",
    "# labeldb.make_k_fold([\"test_k_fold2_5_1\", \"test_k_fold2_5_2\"], \"test_k_fold2\", 5)\n",
    "# print(labeldb.get_config(\"test_k_fold2_5_1\"))\n",
    "\n",
    "# print(LabelsetDB().get(\"ai_hub_det_08_02_90_random_k_fold_5_1\"))"
   ]
  },
  {
   "cell_type": "code",
   "execution_count": 3,
   "metadata": {},
   "outputs": [
    {
     "data": {
      "text/plain": [
       "{'inference_model': './models/MobileNetV3_large_x0_5/inference_model/inference',\n",
       " 'inference_model_dir': './models/MobileNetV3_large_x0_5/inference_model',\n",
       " 'name': 'MobileNetV3_large_x0_5',\n",
       " 'pretrained': 'pretrained_model'}"
      ]
     },
     "execution_count": 3,
     "metadata": {},
     "output_type": "execute_result"
    }
   ],
   "source": [
    "from database import *\n",
    "modeldb = ModelDB()\n",
    "import os\n",
    "# modeldb.get_config(\"en_PP-OCRv3_det\")\n",
    "modeldb.get_all_id()\n",
    "modeldb.get_config(\"MobileNetV3_large_x0_5\")\n",
    "# for id in modeldb.get_all_id():\n",
    "#     print(id)\n",
    "#     modeldb.make_inference_model(id)"
   ]
  },
  {
   "cell_type": "code",
   "execution_count": 1,
   "metadata": {},
   "outputs": [
    {
     "name": "stdout",
     "output_type": "stream",
     "text": [
      "E:\\workspace\\paddleocr\\models\\en_PP-OCRv3_det\\inference_model\\Student\\inference.pdmodel True\n",
      "E:\\workspace\\paddleocr\\models\\en_PP-OCRv3_det\\inference_model\\Student True\n",
      "E:\\workspace\\paddleocr\\models\\en_PP-OCRv3_det\\inference_model\\Student\\inference.pdiparams True\n",
      "E:\\workspace\\paddleocr\\models\\en_PP-OCRv3_det\\pretrained_model True\n",
      "E:\\workspace\\paddleocr\\models\\en_PP-OCRv3_det\\pretrained_model\\pretrained.pdparams True\n",
      "en_PP-OCRv3_det False\n",
      "E:\\workspace\\paddleocr\\models\\korean_PP-OCRv3_rec\\inference_model\\inference.pdmodel True\n",
      "E:\\workspace\\paddleocr\\models\\korean_PP-OCRv3_rec\\inference_model True\n",
      "E:\\workspace\\paddleocr\\models\\korean_PP-OCRv3_rec\\inference_model\\inference.pdiparams True\n",
      "E:\\workspace\\paddleocr\\models\\korean_PP-OCRv3_rec\\pretrained_model True\n",
      "E:\\workspace\\paddleocr\\models\\korean_PP-OCRv3_rec\\pretrained_model\\pretrained.pdparams True\n",
      "korean_PP-OCRv3_rec False\n",
      "E:\\workspace\\paddleocr\\models\\ml_PP-OCRv3_det\\inference_model\\Student\\inference.pdmodel True\n",
      "E:\\workspace\\paddleocr\\models\\ml_PP-OCRv3_det\\inference_model\\Student True\n",
      "E:\\workspace\\paddleocr\\models\\ml_PP-OCRv3_det\\inference_model\\Student\\inference.pdiparams True\n",
      "E:\\workspace\\paddleocr\\models\\ml_PP-OCRv3_det\\pretrained_model True\n",
      "E:\\workspace\\paddleocr\\models\\ml_PP-OCRv3_det\\pretrained_model\\pretrained.pdparams True\n",
      "ml_PP-OCRv3_det False\n",
      "MobileNetV3_large_x0_5 False\n",
      "E:\\workspace\\paddleocr\\models\\MobileNetV3_large_x0_5\\inference_model\\inference.pdmodel True\n",
      "E:\\workspace\\paddleocr\\models\\MobileNetV3_large_x0_5\\inference_model True\n",
      "E:\\workspace\\paddleocr\\models\\MobileNetV3_large_x0_5\\inference_model\\inference.pdiparams True\n",
      "E:\\workspace\\paddleocr\\models\\MobileNetV3_large_x0_5\\pretrained_model True\n",
      "E:\\workspace\\paddleocr\\models\\MobileNetV3_large_x0_5\\pretrained_model\\pretrained.pdparams True\n"
     ]
    }
   ],
   "source": [
    "from database import *\n",
    "from pathlib import Path\n",
    "modeldb = ModelDB()\n",
    "\n",
    "\n",
    "for name in modeldb.get_all_id():\n",
    "    modeldb.check_config(name)"
   ]
  },
  {
   "cell_type": "code",
   "execution_count": 13,
   "metadata": {},
   "outputs": [],
   "source": [
    "from database import *\n",
    "workdb = WorkDB()\n",
    "modeldb = ModelDB()\n",
    "labelsetdb = LabelsetDB()\n",
    "\n",
    "workdb.get_all_id()\n",
    "workdb.make(\"test\", [\"aihub_det_only_sign\"], \"MobileNetV3_large_x0_5\")\n",
    "workdb.train(\"test\", 10) "
   ]
  },
  {
   "cell_type": "code",
   "execution_count": 4,
   "metadata": {},
   "outputs": [
    {
     "data": {
      "text/plain": [
       "{'name': 'en_PP-OCRv3_det', 'pretrained': 'pretrained'}"
      ]
     },
     "execution_count": 4,
     "metadata": {},
     "output_type": "execute_result"
    }
   ],
   "source": [
    "ModelDB().get_config(ModelDB().get_all_id()[0])"
   ]
  },
  {
   "cell_type": "code",
   "execution_count": 1,
   "metadata": {},
   "outputs": [
    {
     "data": {
      "text/plain": [
       "'python E:\\\\workspace\\\\paddleocr\\\\code\\\\PaddleOCR\\\\tools\\\\train.py -c E:\\\\workspace\\\\paddleocr\\\\works\\\\test\\\\config.yml -o Global.epoch_num=10'"
      ]
     },
     "execution_count": 1,
     "metadata": {},
     "output_type": "execute_result"
    }
   ],
   "source": [
    "from database import *\n",
    "import project\n",
    "from pathlib import Path\n",
    "config = \"configs\\det\\det_mv3_db.yml\"\n",
    "labelsets = [\"test\", \"test_k_fold_5_1\"]\n",
    "model = \"MobileNetV3_large_x0_5\"\n",
    "name = \"test\"\n",
    "WorkDB().make(name, labelsets, model, config)\n",
    "\n",
    "WorkDB().train(\"test\", 10)\n"
   ]
  },
  {
   "cell_type": "code",
   "execution_count": null,
   "metadata": {},
   "outputs": [],
   "source": [
    "\n",
    "from database import *\n",
    "from pathlib import Path\n",
    "\n",
    "def full_infer(image_dir, det_model_dir, rec_model_dir, save_dir):\n",
    "    code = 'code/PaddleOCR/tools/infer/predict_system.py'\n",
    "    det_algorithm=\"DB\"\n",
    "\n",
    "    # rec_model_dir = \"E:/workspace/paddleocr/outputs/rec___korean_PP-OCRv3_rec___rec_08_02_90_random_k_fold_5_1___default_config___finetune/trained_model/inference_model\"\n",
    "    rec_char_dict_path = \"E:/workspace/paddleocr/code/PaddleOCR/ppocr/utils/dict/korean_dict.txt\"\n",
    "    vis_font_path = \"C:\\Windows\\Fonts\\malgun.ttf\"\n",
    "\n",
    "    command = f\"\"\"python {code} --image_dir={image_dir} \\\n",
    "    --det_model_dir={det_model_dir} \\\n",
    "    --det_algorithm={det_algorithm} \\\n",
    "    --rec_model_dir={rec_model_dir} \\\n",
    "    --rec_image_shape=\"3, 32, 100\" \\\n",
    "    --rec_char_dict_path={rec_char_dict_path} \\\n",
    "    --vis_font_path={vis_font_path} \\\n",
    "    --draw_img_save_dir={save_dir} \\\n",
    "    --drop_score=0.3 \\\n",
    "    --det_db_box_thresh=0.4\"\"\"\n",
    "    \n",
    "    path = Path(project.PROJECT_ROOT)/\"inference/run.sh\"\n",
    "    path.parent.mkdir(parents=True, exist_ok=True)\n",
    "    with open(path, \"a\") as f:\n",
    "        f.write(command+\"\\n\")\n",
    "    \n",
    "modeldb = ModelDB()\n",
    "workdb = WorkDB()\n",
    "\n",
    "# det_model_dir = modeldb.get_config(\"MobileNetV3_large_x0_5\")[\"inference_model_dir\"] \n",
    "# rec_model_dir = modeldb.get_config(\"korean_PP-OCRv3_rec\")[\"inference_model_dir\"]\n",
    "# save_dir = f\"{project.PROJECT_ROOT}/inference/Mobile_PaddleOCR_pretrained\"\n",
    "# full_infer(det_model_dir, rec_model_dir, save_dir)\n",
    "\n",
    "# image_dir = \"./origin_datasets/sangmu_real_image_det(cropped)\"\n",
    "# det_model_dir = modeldb.get_config(\"ml_PP-OCRv3_det\")[\"inference_model_dir\"]\n",
    "# rec_model_dir = modeldb.get_config(\"korean_PP-OCRv3_rec\")[\"inference_model_dir\"]\n",
    "# save_dir = f\"{project.PROJECT_ROOT}/inference/PaddleOCR_PaddleOCR_pretrained_sangmu\"\n",
    "# full_infer(image_dir, det_model_dir, rec_model_dir, save_dir)\n",
    "\n",
    "image_dir = \"./origin_datasets/sangmu_real_image_det(cropped)\"\n",
    "det_model_dir = workdb.get_config(\"det___ml_PP-OCRv3_det___ai_hub_det_08_02_90_random_k_fold_5_1___default_config___finetune\")[\"inference_model_dir\"]\n",
    "rec_model_dir = workdb.get_config(\"rec___korean_PP-OCRv3_rec___rec_08_02_90_random_k_fold_5_1___default_config___finetune\")[\"inference_model_dir\"]\n",
    "save_dir = f\"{project.PROJECT_ROOT}/inference/PPOCR_PPOCR_tuned_sangmu\"\n",
    "full_infer(image_dir, det_model_dir, rec_model_dir, save_dir)\n",
    "\n",
    "image_dir = \"./datasets/ai_hub_korean_det_partial_test/images\"\n",
    "det_model_dir = workdb.get_config(\"det___ml_PP-OCRv3_det___ai_hub_det_08_02_90_random_k_fold_5_1___default_config___finetune\")[\"inference_model_dir\"]\n",
    "rec_model_dir = workdb.get_config(\"rec___korean_PP-OCRv3_rec___rec_08_02_90_random_k_fold_5_1___default_config___finetune\")[\"inference_model_dir\"]\n",
    "save_dir = f\"{project.PROJECT_ROOT}/inference/PPOCR_PPOCR_tuned_aihub\"\n",
    "full_infer(image_dir, det_model_dir, rec_model_dir, save_dir)\n",
    "\n"
   ]
  },
  {
   "cell_type": "code",
   "execution_count": 4,
   "metadata": {},
   "outputs": [
    {
     "data": {
      "text/plain": [
       "False"
      ]
     },
     "execution_count": 4,
     "metadata": {},
     "output_type": "execute_result"
    }
   ],
   "source": [
    "from pathlib import Path\n",
    "\n",
    "Path(\"./datasets/ai_hub_korean_image_det/train2/source/간판/돌출간판/돌출간판1/간판_돌출간판_001449.jpg\").exists()"
   ]
  },
  {
   "cell_type": "code",
   "execution_count": 10,
   "metadata": {},
   "outputs": [
    {
     "name": "stdout",
     "output_type": "stream",
     "text": [
      "80242 25621 55803\n"
     ]
    }
   ],
   "source": [
    "with open(\"E:/workspace/paddleocr/datasets/ai_hub_korean_det/label2.txt\") as f:\n",
    "    lines = [line.rstrip(\"\\n\") for line in f.readlines()]\n",
    "\n",
    "a, b, c = 0, 0, 0\n",
    "for line in lines:\n",
    "    if \"가로형간판\" in line:\n",
    "        a+= 1\n",
    "    elif \"세로형간판\" in line:\n",
    "        b+= 1\n",
    "    elif \"돌출간판\" in line:\n",
    "        c+= 1\n",
    "print(a, b, c)"
   ]
  },
  {
   "cell_type": "code",
   "execution_count": 11,
   "metadata": {},
   "outputs": [],
   "source": [
    "with open(\"E:/workspace/paddleocr/datasets/ai_hub_korean_det/label3.txt\", encoding=\"cp949\") as f:\n",
    "    with open(\"E:/workspace/paddleocr/datasets/ai_hub_korean_det/label2.txt\", \"w\", encoding=\"utf-8\") as f2:\n",
    "        for line in f.readlines():\n",
    "            f2.write(line)"
   ]
  },
  {
   "cell_type": "code",
   "execution_count": 4,
   "metadata": {},
   "outputs": [
    {
     "name": "stdout",
     "output_type": "stream",
     "text": [
      "*******Checked Dir List*******\n",
      "datasets\\ai_hub_korean_det\\train1\\source\\간판\\세로형간판\n",
      "datasets\\ai_hub_korean_det\\val1\\source\\간판\\세로형간판\n",
      "datasets\\ai_hub_korean_det\\train2\\source\\간판\\가로형간판\\가로형간판1\n",
      "datasets\\ai_hub_korean_det\\train2\\source\\간판\\돌출간판\\돌출간판1\n",
      "datasets\\ai_hub_korean_det\\train2\\source\\간판\\세로형간판\n",
      "datasets\\ai_hub_korean_det\\val2\\source\\간판\\세로형간판\n",
      "******************************\n"
     ]
    }
   ],
   "source": [
    "from dataset.aihub.hangul_real_image_dataset import *\n",
    "dataset = HangulRealImageDataset()\n"
   ]
  },
  {
   "cell_type": "code",
   "execution_count": 6,
   "metadata": {},
   "outputs": [],
   "source": [
    "dataset = HangulRealImage_BoxDetectionDataset(dataset)"
   ]
  },
  {
   "cell_type": "code",
   "execution_count": 29,
   "metadata": {},
   "outputs": [
    {
     "data": {
      "text/plain": [
       "[{'bbox': [[762, 306], [849, 306], [849, 518], [762, 518]], 'label': '소망'},\n",
       " {'bbox': [[754, 547], [837, 547], [837, 900], [754, 900]], 'label': '미용실'},\n",
       " {'bbox': [[730, 1053], [845, 1053], [845, 1147], [730, 1147]],\n",
       "  'label': 'xxx'},\n",
       " {'bbox': [[871, 1078], [1047, 1078], [1047, 1139], [871, 1139]],\n",
       "  'label': 'xxx'},\n",
       " {'bbox': [[1177, 732], [1479, 732], [1479, 794], [1177, 794]],\n",
       "  'label': 'xxx'},\n",
       " {'bbox': [[1429, 707], [1502, 707], [1502, 748], [1429, 748]],\n",
       "  'label': 'xxx'},\n",
       " {'bbox': [[1342, 1075], [1428, 1075], [1428, 1160], [1342, 1160]],\n",
       "  'label': 'xxx'},\n",
       " {'bbox': [[184, 345], [361, 345], [361, 611], [184, 611]], 'label': 'xxx'},\n",
       " {'bbox': [[121, 291], [184, 291], [184, 342], [121, 342]], 'label': 'xxx'},\n",
       " {'bbox': [[365, 194], [460, 194], [460, 252], [365, 252]], 'label': 'xxx'},\n",
       " {'bbox': [[391, 536], [443, 536], [443, 587], [391, 587]], 'label': 'xxx'},\n",
       " {'bbox': [[355, 610], [517, 610], [517, 684], [355, 684]], 'label': 'xxx'},\n",
       " {'bbox': [[172, 748], [240, 748], [240, 802], [172, 802]], 'label': 'xxx'},\n",
       " {'bbox': [[0, 168], [736, 168], [736, 1154], [0, 1154]], 'label': 'xxx'},\n",
       " {'bbox': [[998, 1], [1600, 1], [1600, 1092], [998, 1092]], 'label': 'xxx'}]"
      ]
     },
     "execution_count": 29,
     "metadata": {},
     "output_type": "execute_result"
    }
   ],
   "source": [
    "x, y = dataset[0]\n",
    "dataset.show_xy(x, y)\n",
    "y"
   ]
  },
  {
   "cell_type": "code",
   "execution_count": null,
   "metadata": {},
   "outputs": [],
   "source": []
  }
 ],
 "metadata": {
  "kernelspec": {
   "display_name": "paddlelabel",
   "language": "python",
   "name": "python3"
  },
  "language_info": {
   "codemirror_mode": {
    "name": "ipython",
    "version": 3
   },
   "file_extension": ".py",
   "mimetype": "text/x-python",
   "name": "python",
   "nbconvert_exporter": "python",
   "pygments_lexer": "ipython3",
   "version": "3.10.13"
  }
 },
 "nbformat": 4,
 "nbformat_minor": 2
}
