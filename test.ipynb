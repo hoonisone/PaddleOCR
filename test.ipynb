{
 "cells": [
  {
   "cell_type": "code",
   "execution_count": null,
   "metadata": {},
   "outputs": [],
   "source": [
    "import cv2\n",
    "import numpy as np\n",
    "from PIL import Image\n",
    "\n",
    "pts1 = np.array([[20,20],[130,70],[90,90],[80,130]],dtype=np.int32)\n",
    "img = Image.open(\"./1.jpg\")\n",
    "img = np.array(img)\n",
    "cv2.polylines(img, [pts1], True, (255, 255, 255), 4)\n"
   ]
  },
  {
   "cell_type": "code",
   "execution_count": null,
   "metadata": {},
   "outputs": [],
   "source": [
    "import cv2\n",
    "import numpy as np\n",
    "from matplotlib import pyplot as plt\n",
    "# 0으로 채워진 이미지(array) 생성\n",
    "image = np.zeros((150,150,3),np.uint8)\n",
    "img = Image.open(\"./1.jpg\")\n",
    "image = np.array(img)\n",
    "\n",
    "# 다각형의 좌표를 순서대로 입력, 입력 순서대로 선을 그리게 된다\n",
    "pts1 = np.array([[783.0, 40.0], [1177.0, 51.0], [1174.0, 200.0], [780.0, 189.0]],dtype=np.int32)\n",
    "\n",
    "# cv2의 polylines로 다각형 그리기\n",
    "# cv2.polylines(원본그림, 좌표리스트, 마지막점과 첫점 연결 여부, 선색, 선 굵기)\n",
    "cv2.polylines(image,[pts1],True,(255,255,255),4)\n",
    "plt.imshow(image)"
   ]
  },
  {
   "cell_type": "code",
   "execution_count": null,
   "metadata": {},
   "outputs": [],
   "source": [
    "# root = \"E:/workspace/paddleocr/outputs/det___ml_PP-OCRv3_det___ai_hub_det_08_02_90_random_k_fold_5_1___default_config___finetune\"\n",
    "# root = \"E:/workspace/paddleocr/outputs/det___MobileNetV3_large_x0_5___ai_hub_det_08_02_90_random_k_fold_5_1___default_config___finetune\"\n",
    "root = \"E:/workspace/paddleocr/outputs/rec___korean_PP-OCRv3_rec___rec_08_02_90_random_k_fold_5_1___default_config___finetune\"\n",
    "config = root+\"/trained_model/config.yml\"\n",
    "checkpoint = root+\"/trained_model/best_model/model\"\n",
    "pretrained = root+\"/trained_model/best_model/model\"\n",
    "save_inferencd = root+\"/trained_model/inference_model\"\n",
    "\n",
    "command = f\"python code/PaddleOCR/tools/export_model.py -c {config}  -o Global.pretrained_model={pretrained} Global.save_inference_dir={save_inferencd} Global.checkpoints={checkpoint}\"\n",
    "\n",
    "# import os\n",
    "# os.system(command)\n",
    "command"
   ]
  },
  {
   "cell_type": "code",
   "execution_count": null,
   "metadata": {},
   "outputs": [],
   "source": []
  },
  {
   "cell_type": "code",
   "execution_count": 22,
   "metadata": {},
   "outputs": [],
   "source": [
    "from pathlib import Path\n",
    "import shutil\n",
    "\n",
    "path = \"E:/workspace/paddleocr/labelsets/ai_hub_korean_image_det_16_04_80/infer_label.txt\"\n",
    "with open(path) as f:\n",
    "    lines = [line.rstrip('\\n') for line in f.readlines()]\n",
    "\n",
    "for i, line in enumerate(lines[:1000]):\n",
    "    path = Path(\"./datasets\")/line\n",
    "    target = f\"E:/workspace/paddleocr/temp/{i}.jpg\"\n",
    "    shutil.copy(path, target)\n",
    "    "
   ]
  },
  {
   "cell_type": "code",
   "execution_count": 6,
   "metadata": {},
   "outputs": [
    {
     "name": "stdout",
     "output_type": "stream",
     "text": [
      "./works/rec___korean_PP-OCRv3_rec___rec_08_02_90_random_k_fold_5_1___default_config___finetune/inference_model/best\n"
     ]
    }
   ],
   "source": [
    "\n",
    "from database import *\n",
    "from pathlib import Path\n",
    "\n",
    "def full_infer(image_dir, det_model_dir, rec_model_dir, save_dir):\n",
    "    code = 'code/PaddleOCR/tools/infer/predict_system.py'\n",
    "    det_algorithm=\"DB\"\n",
    "\n",
    "    # rec_model_dir = \"E:/workspace/paddleocr/outputs/rec___korean_PP-OCRv3_rec___rec_08_02_90_random_k_fold_5_1___default_config___finetune/trained_model/inference_model\"\n",
    "    # rec_char_dict_path = \"E:/workspace/paddleocr/code/PaddleOCR/ppocr/utils/dict/korean_dict.txt\"\n",
    "    vis_font_path = \"C:\\Windows\\Fonts\\malgun.ttf\"\n",
    "\n",
    "    command = f\"\"\"python {code} --image_dir={image_dir} \\\n",
    "    --det_model_dir={det_model_dir} \\\n",
    "    --det_algorithm={det_algorithm} \\\n",
    "    --rec_model_dir={rec_model_dir} \\\n",
    "    --rec_image_shape=\"3, 32, 100\" \\\n",
    "    --rec_char_dict_path={rec_char_dict_path} \\\n",
    "    --vis_font_path={vis_font_path} \\\n",
    "    --draw_img_save_dir={save_dir} \\\n",
    "    --drop_score=0.3 \\\n",
    "    --det_db_box_thresh=0.4\"\"\"\n",
    "    \n",
    "    path = Path(project.PROJECT_ROOT)/\"inference/run.sh\"\n",
    "    path.parent.mkdir(parents=True, exist_ok=True)\n",
    "    with open(path, \"a\") as f:\n",
    "        f.write(command+\"\\n\")\n",
    "    \n",
    "modeldb = ModelDB()\n",
    "workdb = WorkDB()\n",
    "\n",
    "# det_model_dir = modeldb.get_config(\"MobileNetV3_large_x0_5\")[\"inference_model_dir\"] \n",
    "# rec_model_dir = modeldb.get_config(\"korean_PP-OCRv3_rec\")[\"inference_model_dir\"]\n",
    "# save_dir = f\"{project.PROJECT_ROOT}/inference/Mobile_PaddleOCR_pretrained\"\n",
    "# full_infer(det_model_dir, rec_model_dir, save_dir)\n",
    "\n",
    "# image_dir = \"./origin_datasets/sangmu_real_image_det(cropped)\"\n",
    "# det_model_dir = modeldb.get_config(\"ml_PP-OCRv3_det\")[\"inference_model_dir\"]\n",
    "# rec_model_dir = modeldb.get_config(\"korean_PP-OCRv3_rec\")[\"inference_model_dir\"]\n",
    "# save_dir = f\"{project.PROJECT_ROOT}/inference/PaddleOCR_PaddleOCR_pretrained_sangmu\"\n",
    "# full_infer(image_dir, det_model_dir, rec_model_dir, save_dir)\n",
    "\n",
    "image_dir = \"./origin_datasets/sangmu_real_image_det(cropped)\"\n",
    "det_model_dir = workdb.get_config(\"det___ml_PP-OCRv3_det___ai_hub_det_08_02_90_random_k_fold_5_1___default_config___finetune\")[\"inference_model_dir\"]\n",
    "rec_model_dir = workdb.get_config(\"rec___korean_PP-OCRv3_rec___rec_08_02_90_random_k_fold_5_1___default_config___finetune\")[\"inference_model_dir\"]\n",
    "save_dir = f\"{project.PROJECT_ROOT}/inference/PPOCR_PPOCR_tuned_sangmu\"\n",
    "full_infer(image_dir, det_model_dir, rec_model_dir, save_dir)\n",
    "\n",
    "image_dir = \"./datasets/ai_hub_korean_det_partial_test/images\"\n",
    "det_model_dir = workdb.get_config(\"det___ml_PP-OCRv3_det___ai_hub_det_08_02_90_random_k_fold_5_1___default_config___finetune\")[\"inference_model_dir\"]\n",
    "rec_model_dir = workdb.get_config(\"rec___korean_PP-OCRv3_rec___rec_08_02_90_random_k_fold_5_1___default_config___finetune\")[\"inference_model_dir\"]\n",
    "save_dir = f\"{project.PROJECT_ROOT}/inference/PPOCR_PPOCR_tuned_aihub\"\n",
    "full_infer(image_dir, det_model_dir, rec_model_dir, save_dir)\n",
    "\n"
   ]
  },
  {
   "cell_type": "code",
   "execution_count": 42,
   "metadata": {},
   "outputs": [
    {
     "data": {
      "text/plain": [
       "['en_PP-OCRv3_det',\n",
       " 'korean_PP-OCRv3_rec',\n",
       " 'ml_PP-OCRv3_det',\n",
       " 'MobileNetV3_large_x0_5']"
      ]
     },
     "execution_count": 42,
     "metadata": {},
     "output_type": "execute_result"
    }
   ],
   "source": [
    "modeldb.get_all_id()"
   ]
  },
  {
   "cell_type": "code",
   "execution_count": null,
   "metadata": {},
   "outputs": [],
   "source": []
  }
 ],
 "metadata": {
  "kernelspec": {
   "display_name": "paddlelabel",
   "language": "python",
   "name": "python3"
  },
  "language_info": {
   "codemirror_mode": {
    "name": "ipython",
    "version": 3
   },
   "file_extension": ".py",
   "mimetype": "text/x-python",
   "name": "python",
   "nbconvert_exporter": "python",
   "pygments_lexer": "ipython3",
   "version": "3.10.13"
  }
 },
 "nbformat": 4,
 "nbformat_minor": 2
}
