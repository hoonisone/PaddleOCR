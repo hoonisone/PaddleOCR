{
 "cells": [
  {
   "cell_type": "code",
   "execution_count": null,
   "metadata": {},
   "outputs": [],
   "source": [
    "import sys\n",
    "\n",
    "sys.path.append(\"/home/code\")"
   ]
  },
  {
   "cell_type": "code",
   "execution_count": null,
   "metadata": {},
   "outputs": [],
   "source": [
    "\n",
    "from database import *\n",
    "import pandas as pd\n",
    "import matplotlib.pyplot as plt\n",
    "workdb = WorkDB()\n",
    "\n",
    "workdb.get_all_id()\n",
    "df = workdb.get_report_df(\"det_PPOCR_sangmu\")\n",
    "\n",
    "train_df = df[df[\"dataset\"] == \"train\"]\n",
    "eval_df = df[df[\"dataset\"] == \"eval\"]\n",
    "\n",
    "plt.plot(train_df[\"version\"], train_df[\"recall\"], label=\"train_recall\")\n",
    "plt.plot(train_df[\"version\"], train_df[\"precision\"], label=\"train_precision\")\n",
    "\n",
    "plt.plot(eval_df[\"version\"], eval_df[\"recall\"], label=\"eval_recall\")\n",
    "plt.plot(eval_df[\"version\"], eval_df[\"precision\"], label=\"eval_precision\")\n",
    "plt.legend()"
   ]
  }
 ],
 "metadata": {
  "language_info": {
   "name": "python"
  }
 },
 "nbformat": 4,
 "nbformat_minor": 2
}
