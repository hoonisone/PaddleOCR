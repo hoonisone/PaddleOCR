{
 "cells": [
  {
   "cell_type": "code",
   "execution_count": 6,
   "metadata": {},
   "outputs": [
    {
     "name": "stdout",
     "output_type": "stream",
     "text": [
      "409 1846 3284\n"
     ]
    }
   ],
   "source": [
    "from pathlib import Path\n",
    "from PIL import Image\n",
    "path = [\n",
    "    Path(\"/home/labelsets/direct_collection_v1/test_label.txt\")\n",
    "]\n",
    "lines = []\n",
    "for p in path:\n",
    "    with open(p) as f:\n",
    "        lines += [line.rstrip(\"\\n\") for line in f.readlines()]\n",
    "\n",
    "Path(\"/home/horizontal\").mkdir(parents=True, exist_ok=True)\n",
    "Path(\"/home/square\").mkdir(parents=True, exist_ok=True)\n",
    "Path(\"/home/vertical\").mkdir(parents=True, exist_ok=True)\n",
    "\n",
    "vn, sn, hn = 0, 0, 0\n",
    "for line in lines:\n",
    "    image_path, label = line.split(\"\\t\")\n",
    "    image = Image.open(Path(\"/home/datasets\")/image_path)\n",
    "    w, h = image.size\n",
    "    if h > w*2: # vertical\n",
    "        vn += 1\n",
    "        image.save(f\"/home/vertical/{vn}.png\")\n",
    "        with open(\"/home/vertical_test_label.txt\", \"a\") as f:\n",
    "            f.write(line+\"\\n\")\n",
    "        with open(\"/home/vertical_test_infer.txt\", \"a\") as f:\n",
    "            f.write(image_path+\"\\n\")\n",
    "    elif h*2 > w: # vertical\n",
    "        sn += 1\n",
    "        image.save(f\"/home/square/{sn}.png\")\n",
    "        with open(\"/home/square_test_label.txt\", \"a\") as f:\n",
    "            f.write(line+\"\\n\")\n",
    "        with open(\"/home/square_test_infer.txt\", \"a\") as f:\n",
    "            f.write(image_path+\"\\n\")\n",
    "    else: # horizental\n",
    "        hn += 1\n",
    "        image.save(f\"/home/horizontal/{hn}.png\")\n",
    "        with open(\"/home/horizontal_test_label.txt\", \"a\") as f:\n",
    "            f.write(line+\"\\n\")\n",
    "\n",
    "        with open(\"/home/horizontal_test_infer.txt\", \"a\") as f:\n",
    "            f.write(image_path+\"\\n\")\n",
    "print(vn, sn, hn)\n",
    "\n",
    "\n"
   ]
  },
  {
   "cell_type": "code",
   "execution_count": 16,
   "metadata": {},
   "outputs": [
    {
     "name": "stdout",
     "output_type": "stream",
     "text": [
      "77 1226 4003\n"
     ]
    }
   ],
   "source": [
    "from pathlib import Path\n",
    "from PIL import Image\n",
    "path = [\n",
    "    Path(\"/home/datasets/outsourcing1(exception)_str/label.txt\"),\n",
    "    # Path(\"/home/datasets/outsourcing1(exception)_str/label.txt\"),\n",
    "]\n",
    "lines = []\n",
    "for p in path:\n",
    "    with open(p) as f:\n",
    "        lines += [line.rstrip(\"\\n\") for line in f.readlines()]\n",
    "\n",
    "Path(\"/home/horizontal\").mkdir(parents=True, exist_ok=True)\n",
    "Path(\"/home/square\").mkdir(parents=True, exist_ok=True)\n",
    "Path(\"/home/vertical\").mkdir(parents=True, exist_ok=True)\n",
    "\n",
    "vn, sn, hn = 0, 0, 0\n",
    "for line in lines:\n",
    "    image_path, label = line.split(\"\\t\")\n",
    "    image = Image.open(Path(\"/home/datasets/outsourcing1_str\")/image_path)\n",
    "    w, h = image.size\n",
    "    if h > w*2: # vertical\n",
    "        vn += 1\n",
    "        # image.save(f\"/home/vertical/{vn}.png\")\n",
    "        # with open(\"/home/vertical_test_label.txt\", \"a\") as f:\n",
    "        #     f.write(line+\"\\n\")\n",
    "        # with open(\"/home/vertical_test_infer.txt\", \"a\") as f:\n",
    "        #     f.write(image_path+\"\\n\")\n",
    "    elif h*2 > w: # vertical\n",
    "        sn += 1\n",
    "        # image.save(f\"/home/square/{sn}.png\")\n",
    "        # with open(\"/home/square_test_label.txt\", \"a\") as f:\n",
    "        #     f.write(line+\"\\n\")\n",
    "        # with open(\"/home/square_test_infer.txt\", \"a\") as f:\n",
    "        #     f.write(image_path+\"\\n\")\n",
    "    else: # horizental\n",
    "        hn += 1\n",
    "        # image.save(f\"/home/horizontal/{hn}.png\")\n",
    "        # with open(\"/home/horizontal_test_label.txt\", \"a\") as f:\n",
    "        #     f.write(line+\"\\n\")\n",
    "\n",
    "        # with open(\"/home/horizontal_test_infer.txt\", \"a\") as f:\n",
    "        #     f.write(image_path+\"\\n\")\n",
    "print(vn, sn, hn)\n",
    "\n",
    "\n"
   ]
  },
  {
   "cell_type": "code",
   "execution_count": 1,
   "metadata": {},
   "outputs": [],
   "source": [
    "import string\n",
    "\n",
    "\n",
    "alphabet = list(string.ascii_lowercase)+list(string.ascii_uppercase)\n",
    "def has_alphabets(text):\n",
    "    for char in text:\n",
    "        if char in alphabet:\n",
    "            return True\n",
    "    return False\n",
    "\n",
    "\n"
   ]
  },
  {
   "cell_type": "code",
   "execution_count": 30,
   "metadata": {},
   "outputs": [],
   "source": [
    "\n",
    "\n",
    "def f(path):    \n",
    "    path = Path(path)\n",
    "    e_lines = []\n",
    "    k_lines = []\n",
    "    with open(path) as f:\n",
    "        lines = [line.rstrip(\"\\n\") for line in f.readlines()]\n",
    "    \n",
    "    for line in lines:\n",
    "        img_path, label = line.split(\"\\t\")\n",
    "        if has_alphabets(label):\n",
    "            e_lines.append(line)\n",
    "        else:\n",
    "            k_lines.append(line)\n",
    "    \n",
    "    k_path = path.parent/f\"{path.stem}_korean{path.suffix}\"\n",
    "    with open(k_path, \"a\") as f:\n",
    "        f.write(\"\\n\".join(k_lines))\n",
    "        \n",
    "    k_path = path.parent/f\"{path.stem}_korean_infer{path.suffix}\"\n",
    "    with open(k_path, \"a\") as f:\n",
    "        f.write(\"\\n\".join([line.split(\"\\t\")[0] for line in k_lines]))\n",
    "   \n",
    "    e_path = path.parent/f\"{path.stem}_english{path.suffix}\"\n",
    "    with open(e_path, \"a\") as f:\n",
    "        f.write(\"\\n\".join(e_lines))\n",
    "        \n",
    "    e_path = path.parent/f\"{path.stem}_english_infer{path.suffix}\"\n",
    "    with open(e_path, \"a\") as f:\n",
    "        f.write(\"\\n\".join([line.split(\"\\t\")[0] for line in e_lines]))\n",
    "    \n",
    "\n",
    "f(\"/home/labelsets/full_dataset_str_v1/vertical_test_label.txt\")\n",
    "f(\"/home/labelsets/full_dataset_str_v1/horizontal_test_label.txt\")\n",
    "f(\"/home/labelsets/full_dataset_str_v1/square_test_label.txt\")"
   ]
  },
  {
   "cell_type": "code",
   "execution_count": 24,
   "metadata": {},
   "outputs": [
    {
     "data": {
      "text/plain": [
       "PosixPath('abc(korean).txt')"
      ]
     },
     "execution_count": 24,
     "metadata": {},
     "output_type": "execute_result"
    }
   ],
   "source": [
    "from pathlib import Path\n",
    "path = Path(\"abc.txt\")\n"
   ]
  },
  {
   "cell_type": "code",
   "execution_count": 2,
   "metadata": {},
   "outputs": [
    {
     "name": "stdout",
     "output_type": "stream",
     "text": [
      "428 2272 8812\n",
      "64 1219 4791\n"
     ]
    }
   ],
   "source": [
    "\n",
    "\n",
    "from pathlib import Path\n",
    "from PIL import Image\n",
    "path = [\n",
    "    Path(\"/home/labelsets/direct_collection_v1/eval_label.txt\"),\n",
    "    Path(\"/home/labelsets/direct_collection_v1/train_label.txt\")\n",
    "]\n",
    "lines = []\n",
    "for p in path:\n",
    "    with open(p) as f:\n",
    "        lines += [line.rstrip(\"\\n\") for line in f.readlines()]\n",
    "\n",
    "kvn, ksn, khn = 0, 0, 0\n",
    "evn, esn, ehn = 0, 0, 0\n",
    "for line in lines:\n",
    "    image_path, label = line.split(\"\\t\")\n",
    "    image = Image.open(Path(\"/home/datasets\")/image_path)\n",
    "    w, h = image.size\n",
    "    if h > w*2: # vertical\n",
    "        if has_alphabets(label):\n",
    "            evn += 1\n",
    "        else:\n",
    "            kvn += 1\n",
    "    elif h*2 > w: # vertical\n",
    "        if has_alphabets(label):\n",
    "            esn += 1\n",
    "        else:\n",
    "            ksn += 1\n",
    "    else: # horizental\n",
    "        if has_alphabets(label):\n",
    "            ehn += 1\n",
    "        else:\n",
    "            khn += 1\n",
    "print(kvn, ksn, khn)\n",
    "print(evn, esn, ehn)\n",
    "\n",
    "\n",
    "\n"
   ]
  },
  {
   "cell_type": "code",
   "execution_count": null,
   "metadata": {},
   "outputs": [],
   "source": []
  }
 ],
 "metadata": {
  "kernelspec": {
   "display_name": ".venv",
   "language": "python",
   "name": "python3"
  },
  "language_info": {
   "codemirror_mode": {
    "name": "ipython",
    "version": 3
   },
   "file_extension": ".py",
   "mimetype": "text/x-python",
   "name": "python",
   "nbconvert_exporter": "python",
   "pygments_lexer": "ipython3",
   "version": "3.7.14"
  }
 },
 "nbformat": 4,
 "nbformat_minor": 2
}
