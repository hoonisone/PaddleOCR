{
 "cells": [
  {
   "cell_type": "code",
   "execution_count": 2,
   "metadata": {},
   "outputs": [],
   "source": [
    "import os\n",
    "os.chdir(\"/home\")\n"
   ]
  },
  {
   "cell_type": "code",
   "execution_count": 4,
   "metadata": {},
   "outputs": [
    {
     "name": "stdout",
     "output_type": "stream",
     "text": [
      "**세트 별 개수와 norm_dis 평균 출력**\n",
      "set 0 => sample num = 1385, norm_dis = 0.22915457372309336 \n",
      "set 1 => sample num = 1385, norm_dis = 0.22896338093037533 \n",
      "set 2 => sample num = 1385, norm_dis = 0.22856639781548307 \n",
      "set 3 => sample num = 1384, norm_dis = 0.22918631388064212 \n"
     ]
    }
   ],
   "source": [
    "from random import sample\n",
    "from tool import norm_edit_dis\n",
    "from pathlib import Path\n",
    "infer_path = \"/home/works/rec_PPOCR_sangmu_and_outsourcing_final_v2/inference_result\"\n",
    "label_path = \"/home/labelsets/sangmu_str_only_test/test_label.txt\"\n",
    "n = 4\n",
    "\n",
    "## infer 결과와 레이블 정보 결합\n",
    "with open(label_path) as f:\n",
    "    lines = [line.rstrip(\"\\n\").split(\"\\t\") for line in f.readlines()]\n",
    "    label_dict = {}\n",
    "    for path, label in lines:\n",
    "        label_dict[\"/home/datasets/\"+path] = label\n",
    "\n",
    "with open(infer_path) as f:\n",
    "    lines = [line.rstrip(\"\\t\").split(\"\\t\") for line in f.readlines()]\n",
    "    lines = [[path, pred, conf, label_dict[path], norm_edit_dis(pred, label_dict[path])] for path, pred, conf in lines]\n",
    "\n",
    "# norm_edit에 따라 구간 별로 구분 (0.1, 0.2, ... 1)\n",
    "samples = [[] for i in range(11)]\n",
    "for path, pred, conf, label, dis in lines:\n",
    "    idx = int(float(dis)*10)\n",
    "    samples[idx].append([path, pred, conf, label, dis])\n",
    "\n",
    "# 세트 구분\n",
    "samples = sum(samples, [])\n",
    "batches = [[] for i in range(n)]\n",
    "for i, sample in enumerate(samples):\n",
    "    idx = i%n\n",
    "    batches[idx].append(sample)\n",
    "    \n",
    "# 결과 요약 출력\n",
    "print(\"**세트 별 개수와 norm_dis 평균 출력**\")\n",
    "for i, batch in enumerate(batches):\n",
    "    print(f\"set {i} => sample num = {len(batch)}, norm_dis = {sum([float(x[4]) for x in batch])/len(batch)} \", )\n",
    "\n",
    "\n",
    "for i, batch in enumerate(batches):\n",
    "    with open(f\"batch_{i}.txt\", \"w\") as f:\n",
    "        for path, pred, conf, label, dis in batch:\n",
    "            path = \"/\".join(path.split(\"/\")[3:])  \n",
    "            f.write(f\"{path}\\t{label}\\n\")\n",
    "    "
   ]
  },
  {
   "cell_type": "code",
   "execution_count": null,
   "metadata": {},
   "outputs": [],
   "source": []
  }
 ],
 "metadata": {
  "kernelspec": {
   "display_name": ".venv",
   "language": "python",
   "name": "python3"
  },
  "language_info": {
   "codemirror_mode": {
    "name": "ipython",
    "version": 3
   },
   "file_extension": ".py",
   "mimetype": "text/x-python",
   "name": "python",
   "nbconvert_exporter": "python",
   "pygments_lexer": "ipython3",
   "version": "3.7.14"
  }
 },
 "nbformat": 4,
 "nbformat_minor": 2
}
