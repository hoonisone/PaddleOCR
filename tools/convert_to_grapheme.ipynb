{
 "cells": [
  {
   "cell_type": "code",
   "execution_count": 1,
   "metadata": {},
   "outputs": [
    {
     "data": {
      "text/plain": [
       "'하마하'"
      ]
     },
     "execution_count": 1,
     "metadata": {},
     "output_type": "execute_result"
    }
   ],
   "source": [
    "jamo_to_choseong = {\n",
    "            'ᄀ': '가', 'ᄁ': '까', 'ᄂ': '나', 'ᄃ': '다', 'ᄄ': '따', 'ᄅ': '라',\n",
    "            'ᄆ': '마', 'ᄇ': '바', 'ᄈ': '빠', 'ᄉ': '사', 'ᄊ': '싸', 'ᄋ': '아',\n",
    "            'ᄌ': '자', 'ᄍ': '짜', 'ᄎ': '차', 'ᄏ': '카', 'ᄐ': '타', 'ᄑ': '파', 'ᄒ': '하'\n",
    "        }\n",
    "\n",
    "def convert_to_choseong(text):\n",
    "    result = ''\n",
    "    for char in text:\n",
    "        # 한글 유니코드 범위인지 확인\n",
    "        if 44032 <= ord(char) <= 55203:\n",
    "            # 초성 구하기\n",
    "            choseong_index = (ord(char) - 44032) // 588\n",
    "            # 초성을 문자로 변환하여 결과에 추가\n",
    "            choseong = chr(choseong_index + 0x1100)  # 초성 유니코드 시작값은 0x1100입니다.\n",
    "            result += choseong\n",
    "        else:\n",
    "            # 한글이 아니면 그대로 결과에 추가\n",
    "            result += char\n",
    "            \n",
    "    def convert_to_choseong2(text):\n",
    "        # 한글 자음에 대응하는 초성 유니코드 값과 해당하는 문자를 사전으로 정의\n",
    "        \n",
    "\n",
    "        result = ''\n",
    "        for char in text:\n",
    "            if char in jamo_to_choseong:\n",
    "                # 한글 자음인 경우 해당하는 초성으로 변환하여 결과에 추가\n",
    "                result += jamo_to_choseong[char]\n",
    "            else:\n",
    "                # 한글 자음이 아니면 그대로 결과에 추가\n",
    "                result += char\n",
    "        return result\n",
    "    return convert_to_choseong2(result)"
   ]
  },
  {
   "cell_type": "code",
   "execution_count": 2,
   "metadata": {},
   "outputs": [],
   "source": [
    "def convert(path):\n",
    "    with open(path) as f:\n",
    "        lines = [line.rstrip(\"\\n\").split(\"\\t\") for line in f.readlines()]\n",
    "\n",
    "    with open(path, \"w\") as f:\n",
    "        for path, label in lines:\n",
    "            f.write(f\"{path}\\t{convert_to_choseong(label)}\\n\")\n",
    "            \n",
    "convert(\"/home/labelsets/aihub_rec_all_90:05:05_grapheme/train_label.txt\")\n",
    "convert(\"/home/labelsets/aihub_rec_all_90:05:05_grapheme/eval_label.txt\")\n",
    "convert(\"/home/labelsets/aihub_rec_all_90:05:05_grapheme/test_label.txt\") \n",
    "\n"
   ]
  },
  {
   "cell_type": "code",
   "execution_count": null,
   "metadata": {},
   "outputs": [],
   "source": []
  }
 ],
 "metadata": {
  "kernelspec": {
   "display_name": ".venv",
   "language": "python",
   "name": "python3"
  },
  "language_info": {
   "codemirror_mode": {
    "name": "ipython",
    "version": 3
   },
   "file_extension": ".py",
   "mimetype": "text/x-python",
   "name": "python",
   "nbconvert_exporter": "python",
   "pygments_lexer": "ipython3",
   "version": "3.7.14"
  }
 },
 "nbformat": 4,
 "nbformat_minor": 2
}
