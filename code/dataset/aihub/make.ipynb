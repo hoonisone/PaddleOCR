{
 "cells": [
  {
   "cell_type": "code",
   "execution_count": 7,
   "metadata": {},
   "outputs": [],
   "source": [
    "from dataset.aihub import *"
   ]
  },
  {
   "cell_type": "code",
   "execution_count": 8,
   "metadata": {},
   "outputs": [],
   "source": [
    "def class_ratio_check(path):\n",
    "    with open(path) as f:\n",
    "        data = f.readlines()\n",
    "    x = [Path(line.rstrip('\\n').split('\\t')[0]) for line in data]\n",
    "    dir_list= [v.parent.stem for v in x]\n",
    "    return pd.Series(dir_list).value_counts()\n",
    "\n",
    "def to_paddle_y(y):\n",
    "    result = []\n",
    "    \n",
    "    for annotation in y:\n",
    "        try:\n",
    "            result.append({\"transcription\":annotation[\"label\"], \"points\":annotation[\"bbox\"]})\n",
    "        except:\n",
    "            print(annotation)\n",
    "            continue\n",
    "    return json.dumps(result)"
   ]
  },
  {
   "cell_type": "code",
   "execution_count": 9,
   "metadata": {},
   "outputs": [
    {
     "name": "stdout",
     "output_type": "stream",
     "text": [
      "*******Checked Dir List*******\n",
      "E:\\workspace\\paddleocr\\datasets\\ai_hub_korean_det\\train1\\source\\간판\\가로형간판\n",
      "E:\\workspace\\paddleocr\\datasets\\ai_hub_korean_det\\val1\\source\\간판\\가로형간판\n",
      "E:\\workspace\\paddleocr\\datasets\\ai_hub_korean_det\\train2\\source\\간판\\가로형간판\\가로형간판1\n",
      "E:\\workspace\\paddleocr\\datasets\\ai_hub_korean_det\\train2\\source\\간판\\가로형간판\\가로형간판2\n",
      "E:\\workspace\\paddleocr\\datasets\\ai_hub_korean_det\\train2\\source\\간판\\가로형간판\\가로형간판3\n",
      "E:\\workspace\\paddleocr\\datasets\\ai_hub_korean_det\\train2\\source\\간판\\가로형간판\\가로형간판4\n",
      "E:\\workspace\\paddleocr\\datasets\\ai_hub_korean_det\\train2\\source\\간판\\가로형간판\\가로형간판5\n",
      "E:\\workspace\\paddleocr\\datasets\\ai_hub_korean_det\\val2\\source\\간판\\가로형간판\n",
      "******************************\n"
     ]
    }
   ],
   "source": [
    "dataset = HangulRealImageDataset()\n",
    "dataset_dir = dataset.dataset_dir\n",
    "dataset = HangulRealImage_BoxDetectionDataset(dataset)"
   ]
  },
  {
   "cell_type": "code",
   "execution_count": null,
   "metadata": {},
   "outputs": [],
   "source": [
    "n = 1\n",
    "print(f\"(2/{n}) Make label file\")#######################################################\n",
    "print(len(dataset))\n",
    "label_list = []\n",
    "    \n",
    "for i in range(len(dataset)):\n",
    "    print(i)\n",
    "    label = dataset.get_y(i)\n",
    "    relative_path = dataset.get_x_path(i).relative_to(dataset_dir)\n",
    "    \n",
    "    \n",
    "    label = to_paddle_y(label)\n",
    "    paddle_label = f\"{relative_path}\\t{label}\"\n",
    "    label_list.append(paddle_label)\n",
    "    \n",
    "open(Path(dataset_dir)/\"가로형간판.txt\",\"w\").write(\"\\n\".join(label_list))"
   ]
  }
 ],
 "metadata": {
  "kernelspec": {
   "display_name": "paddle_env",
   "language": "python",
   "name": "python3"
  },
  "language_info": {
   "codemirror_mode": {
    "name": "ipython",
    "version": 3
   },
   "file_extension": ".py",
   "mimetype": "text/x-python",
   "name": "python",
   "nbconvert_exporter": "python",
   "pygments_lexer": "ipython3",
   "version": "3.8.18"
  }
 },
 "nbformat": 4,
 "nbformat_minor": 2
}
