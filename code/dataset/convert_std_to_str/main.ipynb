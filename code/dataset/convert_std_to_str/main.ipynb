{
 "cells": [
  {
   "cell_type": "markdown",
   "metadata": {},
   "source": [
    "### PPOCR 형식의 STD 데이터 셋을 PPOCR 형식 STR 데이터 셋으로 변환\n",
    "1. 이미지에서 텍스트만 잘라서 저장\n",
    "2. 레이블 파일 생성"
   ]
  },
  {
   "cell_type": "code",
   "execution_count": 1,
   "metadata": {},
   "outputs": [],
   "source": [
    "from dataset import *\n",
    "from tools import polygon_utility\n",
    "\n",
    "def make_and_save_recognition_dataset(dataset, save_dir, dir_size=1000, label_file_name = \"label.txt\"):\n",
    "    assert not save_dir.exists(), f\"please remove {save_dir}\"\n",
    "    label_path = save_dir/label_file_name\n",
    "    image_idx = 0\n",
    "\n",
    "    for i in range(len(dataset)):  \n",
    "        try:\n",
    "            image = dataset.get_x(i)[\"image\"]\n",
    "            labels = dataset.get_y(i)\n",
    "                \n",
    "            for label in labels:\n",
    "                polygon =  label[\"polygon\"]\n",
    "                text = label[\"text\"]\n",
    "                \n",
    "                cropped_image = polygon_utility.crop_by_polygon(image, polygon)\n",
    "                image_path = save_dir/f\"{(image_idx//dir_size + 1)}\"/f\"{image_idx+1}.png\"\n",
    "                image_path.parent.mkdir(parents=True, exist_ok=True)\n",
    "                cropped_image.save(image_path)\n",
    "                with open(label_path, \"a\") as f:\n",
    "                    image = str(image_path.relative_to(save_dir)).replace('\\\\', '/')\n",
    "                    f.write(f\"{image}\\t{text}\\n\")\n",
    "\n",
    "                image_idx += 1\n",
    "        except:\n",
    "            continue"
   ]
  },
  {
   "cell_type": "code",
   "execution_count": 3,
   "metadata": {},
   "outputs": [],
   "source": [
    "order = [[\"sangmu_std_MH\", \"sangmu_str_MH\"],\n",
    "        [\"sangmu_std_DI\", \"sangmu_str_DI\"],\n",
    "        [\"sangmu_std_DH\", \"sangmu_str_DH\"]]\n",
    "\n",
    "for _std, _str in order:\n",
    "    dataset = PPOCR_STD_Dataset_Loader(f\"E:/workspace/paddleocr/datasets/{_std}\", label_file_name=\"label.txt\")\n",
    "    save_dir = Path(f\"E:/workspace/paddleocr/datasets/{_str}\")\n",
    "    make_and_save_recognition_dataset(dataset, save_dir, dir_size=1000, label_file_name=\"label.txt\")\n",
    "\n"
   ]
  },
  {
   "cell_type": "code",
   "execution_count": null,
   "metadata": {},
   "outputs": [],
   "source": []
  }
 ],
 "metadata": {
  "kernelspec": {
   "display_name": "paddle_env",
   "language": "python",
   "name": "python3"
  },
  "language_info": {
   "codemirror_mode": {
    "name": "ipython",
    "version": 3
   },
   "file_extension": ".py",
   "mimetype": "text/x-python",
   "name": "python",
   "nbconvert_exporter": "python",
   "pygments_lexer": "ipython3",
   "version": "3.8.18"
  }
 },
 "nbformat": 4,
 "nbformat_minor": 2
}
