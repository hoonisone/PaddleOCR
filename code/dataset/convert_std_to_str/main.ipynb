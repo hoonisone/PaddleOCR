{
 "cells": [
  {
   "cell_type": "markdown",
   "metadata": {},
   "source": [
    "### PPOCR 형식의 STD 데이터 셋을 PPOCR 형식 STR 데이터 셋으로 변환\n",
    "1. 이미지에서 텍스트만 잘라서 저장\n",
    "2. 레이블 파일 생성"
   ]
  },
  {
   "cell_type": "code",
   "execution_count": 2,
   "metadata": {},
   "outputs": [],
   "source": [
    "from dataset import *\n",
    "import project\n",
    "from tools import polygon_utility\n",
    "\n",
    "def make_and_save_recognition_dataset(dataset, save_dir, dir_size=1000, label_file_name = \"label.txt\"):\n",
    "    # assert not save_dir.exists(), f\"please remove {save_dir}\"\n",
    "    label_path = save_dir/label_file_name\n",
    "    image_idx = 602752\n",
    "\n",
    "    for i in range(366294, len(dataset)):  \n",
    "        try:\n",
    "            image = dataset.get_x(i)[\"image\"]\n",
    "            labels = dataset.get_y(i)\n",
    "    \n",
    "            for label in labels:\n",
    "                \n",
    "                polygon =  label[\"polygon\"]\n",
    "                text = label[\"text\"]\n",
    "                if text == \"xxx\":\n",
    "                    continue\n",
    "                \n",
    "                cropped_image = polygon_utility.crop_by_polygon(image, polygon)\n",
    "                image_path = save_dir/f\"{(image_idx//dir_size + 1)}\"/f\"{image_idx+1}.png\"\n",
    "                image_path.parent.mkdir(parents=True, exist_ok=True)\n",
    "                cropped_image.save(image_path)\n",
    "                with open(label_path, \"a\") as f:\n",
    "                    image_name = str(image_path.relative_to(save_dir)).replace('\\\\', '/')\n",
    "                    f.write(f\"{image_name}\\t{text}\\n\")\n",
    "\n",
    "                image_idx += 1\n",
    "        except:\n",
    "            continue"
   ]
  },
  {
   "cell_type": "code",
   "execution_count": 3,
   "metadata": {},
   "outputs": [],
   "source": [
    "order = [[\"sangmu_std_MH\", \"sangmu_str_MH\"],\n",
    "        [\"sangmu_std_DI\", \"sangmu_str_DI\"],\n",
    "        [\"sangmu_std_DH\", \"sangmu_str_DH\"]]\n",
    "\n",
    "order = [[\"sangmu_std_MH\", \"sangmu_str_MH_v2\"],\n",
    "        [\"sangmu_std_DI\", \"sangmu_str_DI_v2\"],\n",
    "        [\"sangmu_std_DH\", \"sangmu_str_DH_v2\"]]\n",
    "\n",
    "\n",
    "order = [[\"aihub_det\", \"aihub_rec_3\"]]\n",
    "\n",
    "for _std, _str in order:\n",
    "    dataset = PPOCR_STD_Dataset_Loader(f\"{project.PROJECT_ROOT}/datasets/{_std}\", label_file_name=\"label.txt\")\n",
    "    save_dir = Path(f\"{project.PROJECT_ROOT}/datasets/{_str}\")\n",
    "    make_and_save_recognition_dataset(dataset, save_dir, dir_size=1000, label_file_name=\"label.txt\")\n"
   ]
  },
  {
   "cell_type": "code",
   "execution_count": 5,
   "metadata": {},
   "outputs": [
    {
     "ename": "AssertionError",
     "evalue": "please remove \\home\\datasets\\aihub_rec_2",
     "output_type": "error",
     "traceback": [
      "\u001b[1;31m---------------------------------------------------------------------------\u001b[0m",
      "\u001b[1;31mAssertionError\u001b[0m                            Traceback (most recent call last)",
      "Cell \u001b[1;32mIn[5], line 3\u001b[0m\n\u001b[0;32m      1\u001b[0m dataset\n\u001b[0;32m      2\u001b[0m save_dir \u001b[38;5;241m=\u001b[39m Path(\u001b[38;5;124mf\u001b[39m\u001b[38;5;124m\"\u001b[39m\u001b[38;5;124m/home/datasets/aihub_rec_2\u001b[39m\u001b[38;5;124m\"\u001b[39m)\n\u001b[1;32m----> 3\u001b[0m \u001b[43mmake_and_save_recognition_dataset\u001b[49m\u001b[43m(\u001b[49m\u001b[43mdataset\u001b[49m\u001b[43m,\u001b[49m\u001b[43m \u001b[49m\u001b[43msave_dir\u001b[49m\u001b[43m,\u001b[49m\u001b[43m \u001b[49m\u001b[43mdir_size\u001b[49m\u001b[38;5;241;43m=\u001b[39;49m\u001b[38;5;241;43m1000\u001b[39;49m\u001b[43m,\u001b[49m\u001b[43m \u001b[49m\u001b[43mlabel_file_name\u001b[49m\u001b[38;5;241;43m=\u001b[39;49m\u001b[38;5;124;43m\"\u001b[39;49m\u001b[38;5;124;43mlabel.txt\u001b[39;49m\u001b[38;5;124;43m\"\u001b[39;49m\u001b[43m)\u001b[49m\n",
      "Cell \u001b[1;32mIn[1], line 6\u001b[0m, in \u001b[0;36mmake_and_save_recognition_dataset\u001b[1;34m(dataset, save_dir, dir_size, label_file_name)\u001b[0m\n\u001b[0;32m      5\u001b[0m \u001b[38;5;28;01mdef\u001b[39;00m \u001b[38;5;21mmake_and_save_recognition_dataset\u001b[39m(dataset, save_dir, dir_size\u001b[38;5;241m=\u001b[39m\u001b[38;5;241m1000\u001b[39m, label_file_name \u001b[38;5;241m=\u001b[39m \u001b[38;5;124m\"\u001b[39m\u001b[38;5;124mlabel.txt\u001b[39m\u001b[38;5;124m\"\u001b[39m):\n\u001b[1;32m----> 6\u001b[0m     \u001b[38;5;28;01massert\u001b[39;00m \u001b[38;5;129;01mnot\u001b[39;00m save_dir\u001b[38;5;241m.\u001b[39mexists(), \u001b[38;5;124mf\u001b[39m\u001b[38;5;124m\"\u001b[39m\u001b[38;5;124mplease remove \u001b[39m\u001b[38;5;132;01m{\u001b[39;00msave_dir\u001b[38;5;132;01m}\u001b[39;00m\u001b[38;5;124m\"\u001b[39m\n\u001b[0;32m      7\u001b[0m     label_path \u001b[38;5;241m=\u001b[39m save_dir\u001b[38;5;241m/\u001b[39mlabel_file_name\n\u001b[0;32m      8\u001b[0m     image_idx \u001b[38;5;241m=\u001b[39m \u001b[38;5;241m0\u001b[39m\n",
      "\u001b[1;31mAssertionError\u001b[0m: please remove \\home\\datasets\\aihub_rec_2"
     ]
    }
   ],
   "source": [
    "dataset\n",
    "save_dir = Path(f\"{project.PROJECT_ROOT}/datasets/aihub_rec_3\")\n",
    "make_and_save_recognition_dataset(dataset, save_dir, dir_size=1000, label_file_name=\"label.txt\")"
   ]
  },
  {
   "cell_type": "code",
   "execution_count": null,
   "metadata": {},
   "outputs": [],
   "source": []
  }
 ],
 "metadata": {
  "kernelspec": {
   "display_name": "paddle_env",
   "language": "python",
   "name": "python3"
  },
  "language_info": {
   "codemirror_mode": {
    "name": "ipython",
    "version": 3
   },
   "file_extension": ".py",
   "mimetype": "text/x-python",
   "name": "python",
   "nbconvert_exporter": "python",
   "pygments_lexer": "ipython3",
   "version": "3.8.18"
  }
 },
 "nbformat": 4,
 "nbformat_minor": 2
}
