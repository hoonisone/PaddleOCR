{
 "cells": [
  {
   "cell_type": "markdown",
   "metadata": {},
   "source": [
    "### PPOCR 형식의 STD 데이터 셋을 PPOCR 형식 STR 데이터 셋으로 변환\n",
    "1. 이미지에서 텍스트만 잘라서 저장\n",
    "2. 레이블 파일 생성"
   ]
  },
  {
   "cell_type": "code",
   "execution_count": 1,
   "metadata": {},
   "outputs": [],
   "source": [
    "from dataset import *\n",
    "from tools import polygon_utility\n",
    "\n",
    "def make_and_save_recognition_dataset(dataset, save_dir, dir_size=1000, label_file_name = \"label.txt\"):\n",
    "    assert not save_dir.exists(), f\"please remove {save_dir}\"\n",
    "    label_path = save_dir/label_file_name\n",
    "    image_idx = 0\n",
    "\n",
    "    for i in range(len(dataset)):  \n",
    "        try:\n",
    "            image = dataset.get_x(i)[\"image\"]\n",
    "            labels = dataset.get_y(i)\n",
    "                \n",
    "            for label in labels:\n",
    "                polygon =  label[\"polygon\"]\n",
    "                text = label[\"text\"]\n",
    "                \n",
    "                cropped_image = polygon_utility.crop_by_polygon(image, polygon)\n",
    "                image_path = save_dir/f\"{(image_idx//dir_size + 1)}\"/f\"{image_idx+1}.png\"\n",
    "                image_path.parent.mkdir(parents=True, exist_ok=True)\n",
    "                cropped_image.save(image_path)\n",
    "                with open(label_path, \"a\") as f:\n",
    "                    image = str(image_path.relative_to(save_dir)).replace('\\\\', '/')\n",
    "                    f.write(f\"{image}\\t{text}\\n\")\n",
    "\n",
    "                image_idx += 1\n",
    "        except:\n",
    "            continue"
   ]
  },
  {
   "cell_type": "code",
   "execution_count": 2,
   "metadata": {},
   "outputs": [
    {
     "ename": "FileNotFoundError",
     "evalue": "[Errno 2] No such file or directory: 'E:\\\\workspace\\\\paddleocr\\\\datasets\\\\sangmu_std_MH\\\\images\\\\Label.txt'",
     "output_type": "error",
     "traceback": [
      "\u001b[1;31m---------------------------------------------------------------------------\u001b[0m",
      "\u001b[1;31mFileNotFoundError\u001b[0m                         Traceback (most recent call last)",
      "Cell \u001b[1;32mIn[2], line 6\u001b[0m\n\u001b[0;32m      1\u001b[0m order \u001b[38;5;241m=\u001b[39m [[\u001b[38;5;124m\"\u001b[39m\u001b[38;5;124msangmu_std_MH\u001b[39m\u001b[38;5;124m\"\u001b[39m, \u001b[38;5;124m\"\u001b[39m\u001b[38;5;124msangmu_str_MH\u001b[39m\u001b[38;5;124m\"\u001b[39m],\n\u001b[0;32m      2\u001b[0m         [\u001b[38;5;124m\"\u001b[39m\u001b[38;5;124msangmu_std_DI\u001b[39m\u001b[38;5;124m\"\u001b[39m, \u001b[38;5;124m\"\u001b[39m\u001b[38;5;124msangmu_str_DI\u001b[39m\u001b[38;5;124m\"\u001b[39m],\n\u001b[0;32m      3\u001b[0m         [\u001b[38;5;124m\"\u001b[39m\u001b[38;5;124msangmu_std_DH\u001b[39m\u001b[38;5;124m\"\u001b[39m, \u001b[38;5;124m\"\u001b[39m\u001b[38;5;124msangmu_str_DH\u001b[39m\u001b[38;5;124m\"\u001b[39m]]\n\u001b[0;32m      5\u001b[0m \u001b[38;5;28;01mfor\u001b[39;00m _std, _str \u001b[38;5;129;01min\u001b[39;00m order:\n\u001b[1;32m----> 6\u001b[0m     dataset \u001b[38;5;241m=\u001b[39m \u001b[43mPPOCR_STD_Dataset_Loader\u001b[49m\u001b[43m(\u001b[49m\u001b[38;5;124;43mf\u001b[39;49m\u001b[38;5;124;43m\"\u001b[39;49m\u001b[38;5;124;43mE:/workspace/paddleocr/datasets/\u001b[39;49m\u001b[38;5;132;43;01m{\u001b[39;49;00m\u001b[43m_std\u001b[49m\u001b[38;5;132;43;01m}\u001b[39;49;00m\u001b[38;5;124;43m\"\u001b[39;49m\u001b[43m,\u001b[49m\u001b[43m \u001b[49m\u001b[43mlabel_file_name\u001b[49m\u001b[38;5;241;43m=\u001b[39;49m\u001b[38;5;124;43m\"\u001b[39;49m\u001b[38;5;124;43mimages/Label.txt\u001b[39;49m\u001b[38;5;124;43m\"\u001b[39;49m\u001b[43m)\u001b[49m\n\u001b[0;32m      7\u001b[0m     save_dir \u001b[38;5;241m=\u001b[39m Path(\u001b[38;5;124mf\u001b[39m\u001b[38;5;124m\"\u001b[39m\u001b[38;5;124mE:/workspace/paddleocr/datasets/\u001b[39m\u001b[38;5;132;01m{\u001b[39;00m_str\u001b[38;5;132;01m}\u001b[39;00m\u001b[38;5;124m\"\u001b[39m)\n\u001b[0;32m      8\u001b[0m     make_and_save_recognition_dataset(dataset, save_dir, dir_size\u001b[38;5;241m=\u001b[39m\u001b[38;5;241m1000\u001b[39m, label_file_name\u001b[38;5;241m=\u001b[39m\u001b[38;5;124m\"\u001b[39m\u001b[38;5;124mlabel.txt\u001b[39m\u001b[38;5;124m\"\u001b[39m)\n",
      "File \u001b[1;32mE:\\workspace\\paddleocr\\code\\dataset\\__init__.py:194\u001b[0m, in \u001b[0;36mPPOCR_STD_Dataset_Loader.__init__\u001b[1;34m(self, path, label_file_name)\u001b[0m\n\u001b[0;32m    192\u001b[0m \u001b[38;5;28;01mdef\u001b[39;00m \u001b[38;5;21m__init__\u001b[39m(\u001b[38;5;28mself\u001b[39m, path, label_file_name):\n\u001b[0;32m    193\u001b[0m     label_path \u001b[38;5;241m=\u001b[39m Path(path)\u001b[38;5;241m/\u001b[39mlabel_file_name\n\u001b[1;32m--> 194\u001b[0m     \u001b[38;5;28;01mwith\u001b[39;00m \u001b[38;5;28;43mopen\u001b[39;49m\u001b[43m(\u001b[49m\u001b[43mlabel_path\u001b[49m\u001b[43m)\u001b[49m \u001b[38;5;28;01mas\u001b[39;00m f:\n\u001b[0;32m    195\u001b[0m         lines \u001b[38;5;241m=\u001b[39m [line\u001b[38;5;241m.\u001b[39mrstrip(\u001b[38;5;124m\"\u001b[39m\u001b[38;5;130;01m\\n\u001b[39;00m\u001b[38;5;124m\"\u001b[39m) \u001b[38;5;28;01mfor\u001b[39;00m line \u001b[38;5;129;01min\u001b[39;00m f\u001b[38;5;241m.\u001b[39mreadlines()]\n\u001b[0;32m    196\u001b[0m         \u001b[38;5;28mself\u001b[39m\u001b[38;5;241m.\u001b[39mx_path_list \u001b[38;5;241m=\u001b[39m [Path(path)\u001b[38;5;241m/\u001b[39mline\u001b[38;5;241m.\u001b[39msplit(\u001b[38;5;124m\"\u001b[39m\u001b[38;5;130;01m\\t\u001b[39;00m\u001b[38;5;124m\"\u001b[39m)[\u001b[38;5;241m0\u001b[39m] \u001b[38;5;28;01mfor\u001b[39;00m line \u001b[38;5;129;01min\u001b[39;00m lines]\n",
      "\u001b[1;31mFileNotFoundError\u001b[0m: [Errno 2] No such file or directory: 'E:\\\\workspace\\\\paddleocr\\\\datasets\\\\sangmu_std_MH\\\\images\\\\Label.txt'"
     ]
    }
   ],
   "source": [
    "order = [[\"sangmu_std_MH\", \"sangmu_str_MH\"],\n",
    "        [\"sangmu_std_DI\", \"sangmu_str_DI\"],\n",
    "        [\"sangmu_std_DH\", \"sangmu_str_DH\"]]\n",
    "\n",
    "for _std, _str in order:\n",
    "    dataset = PPOCR_STD_Dataset_Loader(f\"E:/workspace/paddleocr/datasets/{_std}\", label_file_name=\"images/Label.txt\")\n",
    "    save_dir = Path(f\"E:/workspace/paddleocr/datasets/{_str}\")\n",
    "    make_and_save_recognition_dataset(dataset, save_dir, dir_size=1000, label_file_name=\"label.txt\")\n",
    "\n"
   ]
  },
  {
   "cell_type": "code",
   "execution_count": null,
   "metadata": {},
   "outputs": [],
   "source": []
  }
 ],
 "metadata": {
  "kernelspec": {
   "display_name": "paddle_env",
   "language": "python",
   "name": "python3"
  },
  "language_info": {
   "codemirror_mode": {
    "name": "ipython",
    "version": 3
   },
   "file_extension": ".py",
   "mimetype": "text/x-python",
   "name": "python",
   "nbconvert_exporter": "python",
   "pygments_lexer": "ipython3",
   "version": "3.8.18"
  }
 },
 "nbformat": 4,
 "nbformat_minor": 2
}
