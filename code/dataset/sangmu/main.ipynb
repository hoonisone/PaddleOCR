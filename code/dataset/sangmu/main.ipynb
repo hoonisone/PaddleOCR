{
 "cells": [
  {
   "cell_type": "code",
   "execution_count": 2,
   "metadata": {},
   "outputs": [
    {
     "name": "stdout",
     "output_type": "stream",
     "text": [
      "모든 파일 이름 로드\n",
      "파일 이름 유효성 체크\n",
      "이름만 추출 (확장자 제거 및 중복 제거)\n"
     ]
    },
    {
     "ename": "FileNotFoundError",
     "evalue": "[Errno 2] No such file or directory: '/home/origin_datasets/sangmu_real_image_det/0.jpg'",
     "output_type": "error",
     "traceback": [
      "\u001b[0;31m---------------------------------------------------------------------------\u001b[0m",
      "\u001b[0;31mFileNotFoundError\u001b[0m                         Traceback (most recent call last)",
      "\u001b[0;32m/tmp/ipykernel_1100364/649601781.py\u001b[0m in \u001b[0;36m<module>\u001b[0;34m\u001b[0m\n\u001b[1;32m     43\u001b[0m \u001b[0;34m\u001b[0m\u001b[0m\n\u001b[1;32m     44\u001b[0m \u001b[0;32mfor\u001b[0m \u001b[0mi\u001b[0m \u001b[0;32min\u001b[0m \u001b[0mrange\u001b[0m\u001b[0;34m(\u001b[0m\u001b[0mlen\u001b[0m\u001b[0;34m(\u001b[0m\u001b[0mnames\u001b[0m\u001b[0;34m)\u001b[0m\u001b[0;34m+\u001b[0m\u001b[0;36m1\u001b[0m\u001b[0;34m)\u001b[0m\u001b[0;34m:\u001b[0m\u001b[0;34m\u001b[0m\u001b[0;34m\u001b[0m\u001b[0m\n\u001b[0;32m---> 45\u001b[0;31m     \u001b[0mimg\u001b[0m \u001b[0;34m=\u001b[0m \u001b[0mImage\u001b[0m\u001b[0;34m.\u001b[0m\u001b[0mopen\u001b[0m\u001b[0;34m(\u001b[0m\u001b[0mPath\u001b[0m\u001b[0;34m(\u001b[0m\u001b[0mpath\u001b[0m\u001b[0;34m)\u001b[0m\u001b[0;34m/\u001b[0m\u001b[0;34mf\"{i}.jpg\"\u001b[0m\u001b[0;34m)\u001b[0m\u001b[0;34m\u001b[0m\u001b[0;34m\u001b[0m\u001b[0m\n\u001b[0m\u001b[1;32m     46\u001b[0m     \u001b[0mlabels\u001b[0m \u001b[0;34m=\u001b[0m \u001b[0mload_labels\u001b[0m\u001b[0;34m(\u001b[0m\u001b[0mPath\u001b[0m\u001b[0;34m(\u001b[0m\u001b[0mpath\u001b[0m\u001b[0;34m)\u001b[0m\u001b[0;34m/\u001b[0m\u001b[0;34mf\"{i}.txt\"\u001b[0m\u001b[0;34m)\u001b[0m\u001b[0;34m\u001b[0m\u001b[0;34m\u001b[0m\u001b[0m\n\u001b[1;32m     47\u001b[0m     \u001b[0mW\u001b[0m\u001b[0;34m,\u001b[0m \u001b[0mH\u001b[0m \u001b[0;34m=\u001b[0m \u001b[0mimg\u001b[0m\u001b[0;34m.\u001b[0m\u001b[0msize\u001b[0m\u001b[0;34m\u001b[0m\u001b[0;34m\u001b[0m\u001b[0m\n",
      "\u001b[0;32m/home/.venv/lib/python3.7/site-packages/PIL/Image.py\u001b[0m in \u001b[0;36mopen\u001b[0;34m(fp, mode, formats)\u001b[0m\n\u001b[1;32m   3234\u001b[0m \u001b[0;34m\u001b[0m\u001b[0m\n\u001b[1;32m   3235\u001b[0m     \u001b[0;32mif\u001b[0m \u001b[0mfilename\u001b[0m\u001b[0;34m:\u001b[0m\u001b[0;34m\u001b[0m\u001b[0;34m\u001b[0m\u001b[0m\n\u001b[0;32m-> 3236\u001b[0;31m         \u001b[0mfp\u001b[0m \u001b[0;34m=\u001b[0m \u001b[0mbuiltins\u001b[0m\u001b[0;34m.\u001b[0m\u001b[0mopen\u001b[0m\u001b[0;34m(\u001b[0m\u001b[0mfilename\u001b[0m\u001b[0;34m,\u001b[0m \u001b[0;34m\"rb\"\u001b[0m\u001b[0;34m)\u001b[0m\u001b[0;34m\u001b[0m\u001b[0;34m\u001b[0m\u001b[0m\n\u001b[0m\u001b[1;32m   3237\u001b[0m         \u001b[0mexclusive_fp\u001b[0m \u001b[0;34m=\u001b[0m \u001b[0;32mTrue\u001b[0m\u001b[0;34m\u001b[0m\u001b[0;34m\u001b[0m\u001b[0m\n\u001b[1;32m   3238\u001b[0m \u001b[0;34m\u001b[0m\u001b[0m\n",
      "\u001b[0;31mFileNotFoundError\u001b[0m: [Errno 2] No such file or directory: '/home/origin_datasets/sangmu_real_image_det/0.jpg'"
     ]
    }
   ],
   "source": [
    "from pathlib import Path\n",
    "from PIL import Image\n",
    "import time\n",
    "\n",
    "path = \"/home/origin_datasets/sangmu_real_image_det\"\n",
    "target_path = \"/home/origin_datasets/sangmu_real_image_det(cropped)\"\n",
    "\n",
    "\n",
    "print(\"모든 파일 이름 로드\")##########################################\n",
    "files = Path(path).glob(\"*\")\n",
    "files = [str(file) for file in files]\n",
    "\n",
    "print(\"파일 이름 유효성 체크\")##########################################\n",
    "for file in files:\n",
    "    assert file[:-4]+\".jpg\" in files\n",
    "    assert file[:-4]+\".txt\" in files\n",
    "\n",
    "\n",
    "print(\"이름만 추출 (확장자 제거 및 중복 제거)\")##########################################\n",
    "names = [file[:-4] for file in files]\n",
    "names = list(set(names))\n",
    "\n",
    "# print(\"이름 변경 (심플하게)\")##########################################\n",
    "# for i, name in enumerate(names):\n",
    "#     i += 1\n",
    "#     for ext in [\".jpg\", \".txt\"]:\n",
    "#         path = Path(name+ext)\n",
    "#         target_path = path.parent/f\"{i}{ext}\"\n",
    "#         path.rename(target_path)\n",
    "        \n",
    "\n",
    "time.sleep(3)\n",
    "def load_labels(path):\n",
    "    with open(path) as f:\n",
    "        lines = [line.rstrip(\"\\n\") for line in f.readlines()]\n",
    "    lines = [line.split(\" \")[1:] for line in lines]\n",
    "    lines = [[float(x), float(y), float(w), float(h)] for x, y, w, h in lines] # 중심좌표 x, y, 길이 w, h (비율)\n",
    "    lines = [[x-w/2, y-h/2, w, h] for x, y, w, h in lines] # 좌측 상단 x, y, 길이, w, h\n",
    "    return lines\n",
    "\n",
    "target_path = Path(target_path)\n",
    "target_path.mkdir(parents=True, exist_ok=True)\n",
    "\n",
    "for i in range(len(names)+1):\n",
    "    img = Image.open(Path(path)/f\"{i}.jpg\")\n",
    "    labels = load_labels(Path(path)/f\"{i}.txt\")\n",
    "    W, H = img.size\n",
    "    labels = [[x*W, y*H, w*W, h*H] for x, y, w, h in labels] # 비율을 길이로 변환\n",
    "    labels = [[x, y, x+w, y+h] for x, y, w, h in labels] # 좌측상단, 우측 하단\n",
    "    for label in labels:\n",
    "        cropped_img = img.crop(label)\n",
    "        if 0 not in cropped_img.size:\n",
    "            cropped_img.save(str(target_path/f\"{i}.jpg\"))\n",
    "        \n",
    "# 모든 파일 이름 로드\n",
    "\n"
   ]
  },
  {
   "cell_type": "code",
   "execution_count": 6,
   "metadata": {},
   "outputs": [
    {
     "ename": "KeyboardInterrupt",
     "evalue": "",
     "output_type": "error",
     "traceback": [
      "\u001b[1;31m---------------------------------------------------------------------------\u001b[0m",
      "\u001b[1;31mKeyboardInterrupt\u001b[0m                         Traceback (most recent call last)",
      "Cell \u001b[1;32mIn[6], line 21\u001b[0m\n\u001b[0;32m     19\u001b[0m     labels \u001b[38;5;241m=\u001b[39m [[x, y, x\u001b[38;5;241m+\u001b[39mw, y\u001b[38;5;241m+\u001b[39mh] \u001b[38;5;28;01mfor\u001b[39;00m x, y, w, h \u001b[38;5;129;01min\u001b[39;00m labels] \u001b[38;5;66;03m# 좌측상단, 우측 하단\u001b[39;00m\n\u001b[0;32m     20\u001b[0m     \u001b[38;5;28;01mfor\u001b[39;00m label \u001b[38;5;129;01min\u001b[39;00m labels:\n\u001b[1;32m---> 21\u001b[0m         cropped_img \u001b[38;5;241m=\u001b[39m \u001b[43mimg\u001b[49m\u001b[38;5;241;43m.\u001b[39;49m\u001b[43mcrop\u001b[49m\u001b[43m(\u001b[49m\u001b[43mlabel\u001b[49m\u001b[43m)\u001b[49m\n\u001b[0;32m     22\u001b[0m         cropped_img\u001b[38;5;241m.\u001b[39msave(\u001b[38;5;28mstr\u001b[39m(target_path\u001b[38;5;241m/\u001b[39m\u001b[38;5;124mf\u001b[39m\u001b[38;5;124m\"\u001b[39m\u001b[38;5;132;01m{\u001b[39;00mi\u001b[38;5;132;01m}\u001b[39;00m\u001b[38;5;124m.jpg\u001b[39m\u001b[38;5;124m\"\u001b[39m))\n\u001b[0;32m     24\u001b[0m \u001b[38;5;66;03m# 모든 파일 이름 로드\u001b[39;00m\n",
      "File \u001b[1;32mc:\\Users\\admin\\.conda\\envs\\paddlelabel\\lib\\site-packages\\PIL\\Image.py:1213\u001b[0m, in \u001b[0;36mImage.crop\u001b[1;34m(self, box)\u001b[0m\n\u001b[0;32m   1210\u001b[0m     msg \u001b[38;5;241m=\u001b[39m \u001b[38;5;124m\"\u001b[39m\u001b[38;5;124mCoordinate \u001b[39m\u001b[38;5;124m'\u001b[39m\u001b[38;5;124mlower\u001b[39m\u001b[38;5;124m'\u001b[39m\u001b[38;5;124m is less than \u001b[39m\u001b[38;5;124m'\u001b[39m\u001b[38;5;124mupper\u001b[39m\u001b[38;5;124m'\u001b[39m\u001b[38;5;124m\"\u001b[39m\n\u001b[0;32m   1211\u001b[0m     \u001b[38;5;28;01mraise\u001b[39;00m \u001b[38;5;167;01mValueError\u001b[39;00m(msg)\n\u001b[1;32m-> 1213\u001b[0m \u001b[38;5;28;43mself\u001b[39;49m\u001b[38;5;241;43m.\u001b[39;49m\u001b[43mload\u001b[49m\u001b[43m(\u001b[49m\u001b[43m)\u001b[49m\n\u001b[0;32m   1214\u001b[0m \u001b[38;5;28;01mreturn\u001b[39;00m \u001b[38;5;28mself\u001b[39m\u001b[38;5;241m.\u001b[39m_new(\u001b[38;5;28mself\u001b[39m\u001b[38;5;241m.\u001b[39m_crop(\u001b[38;5;28mself\u001b[39m\u001b[38;5;241m.\u001b[39mim, box))\n",
      "File \u001b[1;32mc:\\Users\\admin\\.conda\\envs\\paddlelabel\\lib\\site-packages\\PIL\\ImageFile.py:269\u001b[0m, in \u001b[0;36mImageFile.load\u001b[1;34m(self)\u001b[0m\n\u001b[0;32m    266\u001b[0m         \u001b[38;5;28;01mraise\u001b[39;00m \u001b[38;5;167;01mOSError\u001b[39;00m(msg)\n\u001b[0;32m    268\u001b[0m b \u001b[38;5;241m=\u001b[39m b \u001b[38;5;241m+\u001b[39m s\n\u001b[1;32m--> 269\u001b[0m n, err_code \u001b[38;5;241m=\u001b[39m \u001b[43mdecoder\u001b[49m\u001b[38;5;241;43m.\u001b[39;49m\u001b[43mdecode\u001b[49m\u001b[43m(\u001b[49m\u001b[43mb\u001b[49m\u001b[43m)\u001b[49m\n\u001b[0;32m    270\u001b[0m \u001b[38;5;28;01mif\u001b[39;00m n \u001b[38;5;241m<\u001b[39m \u001b[38;5;241m0\u001b[39m:\n\u001b[0;32m    271\u001b[0m     \u001b[38;5;28;01mbreak\u001b[39;00m\n",
      "\u001b[1;31mKeyboardInterrupt\u001b[0m: "
     ]
    }
   ],
   "source": [
    "from PIL import Image\n",
    "\n",
    "def load_labels(path):\n",
    "    with open(path) as f:\n",
    "        lines = [line.rstrip(\"\\n\") for line in f.readlines()]\n",
    "    lines = [line.split(\" \")[1:] for line in lines]\n",
    "    lines = [[float(x), float(y), float(w), float(h)] for x, y, w, h in lines] # 중심좌표 x, y, 길이 w, h (비율)\n",
    "    lines = [[x-w/2, y-h/2, w, h] for x, y, w, h in lines] # 좌측 상단 x, y, 길이, w, h\n",
    "    return lines\n",
    "\n",
    "target_path = Path(target_path)\n",
    "target_path.mkdir(parents=True, exist_ok=True)\n",
    "\n",
    "for i in range(1, len(names)+1):\n",
    "    img = Image.open(Path(path)/f\"{i}.jpg\")\n",
    "    labels = load_labels(Path(path)/f\"{i}.txt\")\n",
    "    W, H = img.size\n",
    "    labels = [[x*W, y*H, w*W, h*H] for x, y, w, h in labels] # 비율을 길이로 변환\n",
    "    labels = [[x, y, x+w, y+h] for x, y, w, h in labels] # 좌측상단, 우측 하단\n",
    "    for label in labels:\n",
    "        cropped_img = img.crop(label)\n",
    "        cropped_img.save(str(target_path/f\"{i}.jpg\"))\n",
    "        \n",
    "# 모든 파일 이름 로드\n"
   ]
  },
  {
   "cell_type": "code",
   "execution_count": 19,
   "metadata": {},
   "outputs": [],
   "source": [
    "# from pathlib import Path\n",
    "# path = \"D:/Hoonisone/OneDrive - GIST/5.SCI 연구실/1.과제 & 연구/[2023] 불법옥외간판(외주)/데이터/상무지구 야외 촬영/동익 (detection)/train\"\n",
    "# path = Path(path)\n",
    "# files = path.glob(\"*\")\n",
    "# dir = path/\"images\"\n",
    "# dir.mkdir(parents=True, exist_ok=True)\n",
    "# for file in files:\n",
    "#     if \".jpg\" in str(file):\n",
    "#         file.rename(dir/file.name)"
   ]
  },
  {
   "cell_type": "code",
   "execution_count": null,
   "metadata": {},
   "outputs": [],
   "source": []
  }
 ],
 "metadata": {
  "kernelspec": {
   "display_name": "paddlelabel",
   "language": "python",
   "name": "python3"
  },
  "language_info": {
   "codemirror_mode": {
    "name": "ipython",
    "version": 3
   },
   "file_extension": ".py",
   "mimetype": "text/x-python",
   "name": "python",
   "nbconvert_exporter": "python",
   "pygments_lexer": "ipython3",
   "version": "3.7.14"
  }
 },
 "nbformat": 4,
 "nbformat_minor": 2
}
