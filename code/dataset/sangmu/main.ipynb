{
 "cells": [
  {
   "cell_type": "code",
   "execution_count": 1,
   "metadata": {},
   "outputs": [
    {
     "name": "stdout",
     "output_type": "stream",
     "text": [
      "모든 파일 이름 로드\n",
      "파일 이름 유효성 체크\n",
      "이름만 추출 (확장자 제거 및 중복 제거)\n",
      "이름 변경 (심플하게)\n",
      "['E:\\\\workspace\\\\paddleocr\\\\origin_datasets\\\\sangmu_real_image_det\\\\2', 'E:\\\\workspace\\\\paddleocr\\\\origin_datasets\\\\sangmu_real_image_det\\\\1']\n"
     ]
    }
   ],
   "source": [
    "from pathlib import Path\n",
    "\n",
    "path = \"E:\\workspace\\paddleocr\\origin_datasets\\sangmu_real_image_det\"\n",
    "target_path = \"E:\\workspace\\paddleocr\\origin_datasets\\sangmu_real_image_det2\"\n",
    "\n",
    "\n",
    "print(\"모든 파일 이름 로드\")##########################################\n",
    "files = Path(path).glob(\"*\")\n",
    "files = [str(file) for file in files]\n",
    "\n",
    "print(\"파일 이름 유효성 체크\")##########################################\n",
    "for file in files:\n",
    "    assert file[:-4]+\".jpg\" in files\n",
    "    assert file[:-4]+\".txt\" in files\n",
    "\n",
    "\n",
    "print(\"이름만 추출 (확장자 제거 및 중복 제거)\")##########################################\n",
    "names = [file[:-4] for file in files]\n",
    "names = list(set(names))\n",
    "\n",
    "print(\"이름 변경 (심플하게)\")##########################################\n",
    "# rename\n",
    "# for i, name in enumerate(names):\n",
    "#     i += 1\n",
    "#     for ext in [\".jpg\", \".txt\"]:\n",
    "#         path = Path(name+ext)\n",
    "#         print(path.exists())\n",
    "#         target_path = path.parent/f\"{i}{ext}\"\n",
    "#         path.rename(target_path)\n"
   ]
  },
  {
   "cell_type": "code",
   "execution_count": 16,
   "metadata": {},
   "outputs": [],
   "source": [
    "from PIL import Image\n",
    "\n",
    "def load_labels(path):\n",
    "    with open(path) as f:\n",
    "        lines = [line.rstrip(\"\\n\") for line in f.readlines()]\n",
    "    lines = [line.split(\" \")[1:] for line in lines]\n",
    "    lines = [[float(x), float(y), float(w), float(h)] for x, y, w, h in lines] # 중심좌표 x, y, 길이 w, h (비율)\n",
    "    lines = [[x-w/2, y-h/2, w, h] for x, y, w, h in lines] # 좌측 상단 x, y, 길이, w, h\n",
    "    return lines\n",
    "\n",
    "target_path = Path(target_path)\n",
    "target_path.mkdir(parents=True, exist_ok=True)\n",
    "\n",
    "for i in range(1, len(names)+1):\n",
    "    img = Image.open(Path(path)/f\"{i}.jpg\")\n",
    "    labels = load_labels(Path(path)/f\"{i}.txt\")\n",
    "    W, H = img.size\n",
    "    labels = [[x*W, y*H, w*W, h*H] for x, y, w, h in labels] # 비율을 길이로 변환\n",
    "    labels = [[x, y, x+w, y+h] for x, y, w, h in labels] # 좌측상단, 우측 하단\n",
    "    for label in labels:\n",
    "        cropped_img = img.crop(label)\n",
    "        cropped_img.save(str(target_path/f\"{i}.jpg\"))\n",
    "        \n",
    "# 모든 파일 이름 로드\n"
   ]
  },
  {
   "cell_type": "code",
   "execution_count": null,
   "metadata": {},
   "outputs": [],
   "source": []
  }
 ],
 "metadata": {
  "kernelspec": {
   "display_name": "paddlelabel",
   "language": "python",
   "name": "python3"
  },
  "language_info": {
   "codemirror_mode": {
    "name": "ipython",
    "version": 3
   },
   "file_extension": ".py",
   "mimetype": "text/x-python",
   "name": "python",
   "nbconvert_exporter": "python",
   "pygments_lexer": "ipython3",
   "version": "3.10.13"
  }
 },
 "nbformat": 4,
 "nbformat_minor": 2
}
