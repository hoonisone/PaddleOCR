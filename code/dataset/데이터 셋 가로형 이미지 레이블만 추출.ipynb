{
 "cells": [
  {
   "cell_type": "code",
   "execution_count": 1,
   "metadata": {},
   "outputs": [],
   "source": [
    "from pathlib import Path\n",
    "from PIL import Image\n",
    "path = \"/home/datasets/aihub_rec/label.txt\"\n",
    "new_path = \"/home/datasets/aihub_rec/horizontal_label.txt\"\n",
    "\n",
    "with open(path) as f:\n",
    "    lines = [line.rstrip(\"\\n\").split(\"\\t\") for line in f.readlines()]\n",
    "\n",
    "new_lines = []\n",
    "for path, label in lines:\n",
    "    img = Image.open(Path(\"/home/datasets/aihub_rec/\")/path)\n",
    "    w, h = img.size\n",
    "    if w > h*1.2:\n",
    "        new_lines.append(f\"{path}\\t{label}\")\n",
    "        \n",
    "with open(new_path, \"w\") as f:\n",
    "    for new_line in new_lines:\n",
    "        f.write(f\"{new_line}\\n\")"
   ]
  }
 ],
 "metadata": {
  "kernelspec": {
   "display_name": ".venv",
   "language": "python",
   "name": "python3"
  },
  "language_info": {
   "codemirror_mode": {
    "name": "ipython",
    "version": 3
   },
   "file_extension": ".py",
   "mimetype": "text/x-python",
   "name": "python",
   "nbconvert_exporter": "python",
   "pygments_lexer": "ipython3",
   "version": "3.7.14"
  }
 },
 "nbformat": 4,
 "nbformat_minor": 2
}
