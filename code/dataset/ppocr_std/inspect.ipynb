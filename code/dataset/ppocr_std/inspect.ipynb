{
 "cells": [
  {
   "cell_type": "code",
   "execution_count": 9,
   "metadata": {},
   "outputs": [
    {
     "name": "stdout",
     "output_type": "stream",
     "text": [
      "0\n",
      "0\n",
      "0\n",
      "176\n",
      "838\n"
     ]
    }
   ],
   "source": [
    "from pathlib import Path\n",
    "\n",
    "\n",
    "def check_invalide_iamge(data_dir, label_file):\n",
    "    with open(data_dir/label_file) as f:\n",
    "        images = [line.rstrip(\"\\n\").split(\"\\t\")[0] for line in f.readlines()]\n",
    "        \n",
    "    not_exist_count = [(data_dir/image).exists() for image in images].count(False)\n",
    "    print(not_exist_count)\n",
    "\n",
    "def correct(data_dir, label_file):\n",
    "    with open(data_dir/label_file) as f:\n",
    "        images = [line.rstrip(\"\\n\").split(\"\\t\")[0] for line in f.readlines()]\n",
    "            \n",
    "    lines = [line.rstrip(\"\\n\") for line in open(data_dir/label_file)]\n",
    "    new_lines = []\n",
    "\n",
    "    for line in lines:\n",
    "        if (data_dir/line.split(\"\\t\")[0]).exists():\n",
    "            new_lines.append(line)\n",
    "    with open(data_dir/label_file, \"w\") as f:\n",
    "        f.write(\"\\n\".join(new_lines))\n",
    "    \n",
    "    \n",
    "data_dir = Path(\"E:\\workspace\\paddleocr\\datasets\\sangmu_std_DH\")\n",
    "label_file = Path(\"E:\\workspace\\paddleocr\\datasets\\sangmu_std_DH\\label.txt\")\n",
    "check_invalide_iamge(data_dir, label_file)\n",
    "\n",
    "data_dir = Path(\"E:\\workspace\\paddleocr\\datasets\\sangmu_std_MH\")\n",
    "label_file = Path(\"E:\\workspace\\paddleocr\\datasets\\sangmu_std_MH\\label.txt\")\n",
    "check_invalide_iamge(data_dir, label_file)\n",
    "\n",
    "\n",
    "data_dir = Path(\"E:\\workspace\\paddleocr\\datasets\\sangmu_std_DI\")\n",
    "label_file = Path(\"E:\\workspace\\paddleocr\\datasets\\sangmu_std_DI\\label.txt\")\n",
    "check_invalide_iamge(data_dir, label_file)\n",
    "\n",
    "data_dir = Path(\"E:\\workspace\\paddleocr\\datasets\\external_service1(exception)_std\")\n",
    "label_file = Path(\"E:\\workspace\\paddleocr\\datasets\\external_service1(exception)_std\\label.txt\")\n",
    "check_invalide_iamge(data_dir, label_file)\n",
    "\n",
    "data_dir = Path(\"E:\\workspace\\paddleocr\\datasets\\external_service1_std\")\n",
    "label_file = Path(\"E:\\workspace\\paddleocr\\datasets\\external_service1_std\\label.txt\")\n",
    "check_invalide_iamge(data_dir, label_file)"
   ]
  },
  {
   "cell_type": "code",
   "execution_count": null,
   "metadata": {},
   "outputs": [],
   "source": []
  }
 ],
 "metadata": {
  "kernelspec": {
   "display_name": "paddle_env",
   "language": "python",
   "name": "python3"
  },
  "language_info": {
   "codemirror_mode": {
    "name": "ipython",
    "version": 3
   },
   "file_extension": ".py",
   "mimetype": "text/x-python",
   "name": "python",
   "nbconvert_exporter": "python",
   "pygments_lexer": "ipython3",
   "version": "3.8.18"
  }
 },
 "nbformat": 4,
 "nbformat_minor": 2
}
