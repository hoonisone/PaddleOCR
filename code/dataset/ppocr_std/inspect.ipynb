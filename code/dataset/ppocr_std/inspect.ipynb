{
 "cells": [
  {
   "cell_type": "code",
   "execution_count": 1,
   "metadata": {},
   "outputs": [],
   "source": [
    "from pathlib import Path\n",
    "import json\n",
    "\n",
    "INVALID_CHARACTOR = [\"\\\\\"]\n",
    "\n",
    "\n",
    "def check_encoding(data_dir, label_file, encoding=\"utf-8\"):\n",
    "    # 인코딩 형식 확인\n",
    "    try:\n",
    "        with open(data_dir/label_file, encoding=encoding) as f:\n",
    "            f.readlines()\n",
    "            print(f\"Using correct encoding: {True}\")\n",
    "    except:\n",
    "        print(f\"Using correct encoding: {True}\")\n",
    "    \n",
    "def check_invalide_iamge(data_dir, label_file):\n",
    "    with open(data_dir/label_file, encoding='utf-8') as f:\n",
    "        lines = [line.rstrip(\"\\n\") for line in f.readlines()]\n",
    "        images = [line.split(\"\\t\")[0] for line in lines]\n",
    "        annoations = [line.split(\"\\t\")[1] for line in lines]\n",
    "    \n",
    "    not_exist_count = [(data_dir/image).exists() for image in images].count(False)\n",
    "    print(f\"Image not exist : {not_exist_count}/{len(images)}\")\n",
    "\n",
    "def check_invalide_charactor(data_dir, label_file, encoding='utf-8', correct = False):\n",
    "    with open(data_dir/label_file, encoding=encoding) as f:\n",
    "        lines = [line.rstrip(\"\\n\") for line in f.readlines()]\n",
    "        images = [line.split(\"\\t\")[0] for line in lines]\n",
    "        annoations = [line.split(\"\\t\")[1] for line in lines]\n",
    "\n",
    "    invalid_charactor_count = 0\n",
    "    for annotation in annoations:\n",
    "        labels = json.loads(annotation)\n",
    "        for label in labels:\n",
    "            if sum([label[\"transcription\"].count(charactor) for charactor in INVALID_CHARACTOR]) > 0:\n",
    "                invalid_charactor_count += 1\n",
    "                break\n",
    "            \n",
    "    print(f\"Invalid charactor: {invalid_charactor_count}/{len(annoations)}\")    \n",
    "\n",
    "def correct(data_dir, label_file):\n",
    "    with open(data_dir/label_file) as f:\n",
    "        images = [line.rstrip(\"\\n\").split(\"\\t\")[0] for line in f.readlines()]\n",
    "            \n",
    "    lines = [line.rstrip(\"\\n\") for line in open(data_dir/label_file)]\n",
    "    new_lines = []\n",
    "\n",
    "    for line in lines:\n",
    "        if (data_dir/line.split(\"\\t\")[0]).exists():\n",
    "            new_lines.append(line)\n",
    "    with open(data_dir/label_file, \"w\") as f:\n",
    "        f.write(\"\\n\".join(new_lines))\n",
    "\n",
    "def correct_encoding(data_dir, label_file):\n",
    "    # 텍스트 파일에서 한글이 /uxxxx 형식으로 되어 json으로 읽지 못하는 케이스\n",
    "    with open(data_dir/label_file, encoding=\"utf-8\") as f:\n",
    "        lines = [line.rstrip(\"\\n\") for line in f.readlines()]\n",
    "\n",
    "    images = [line.split(\"\\t\")[0] for line in lines]\n",
    "    annoations = [line.split(\"\\t\")[1] for line in lines]\n",
    "\n",
    "    def decode_unicode_escape(seq):\n",
    "        return bytes(seq, 'utf-8').decode('unicode-escape')\n",
    "\n",
    "    annoations = [decode_unicode_escape(annotation) for annotation in annoations]\n",
    "    lines = [f\"{images}\\t{annoations}\" for images, annoations in zip(images, annoations)]\n",
    "    print(lines)\n",
    "\n",
    "def check(data_dir, label_file):\n",
    "    check_encoding(data_dir, label_file)\n",
    "    check_invalide_iamge(data_dir, label_file)\n",
    "    check_invalide_charactor(data_dir, label_file)\n",
    "    print()"
   ]
  },
  {
   "cell_type": "code",
   "execution_count": 112,
   "metadata": {},
   "outputs": [
    {
     "name": "stdout",
     "output_type": "stream",
     "text": [
      "Using correct encoding: True\n",
      "Image not exist : 0/566\n",
      "Invalid charactor: 0/566\n",
      "\n",
      "Using correct encoding: True\n",
      "Image not exist : 0/501\n",
      "Invalid charactor: 0/501\n",
      "\n",
      "Using correct encoding: True\n",
      "Image not exist : 0/568\n",
      "Invalid charactor: 0/568\n",
      "\n",
      "Using correct encoding: True\n",
      "Image not exist : 0/484\n",
      "Invalid charactor: 0/484\n",
      "\n",
      "Using correct encoding: True\n",
      "Image not exist : 0/1649\n",
      "Invalid charactor: 0/1649\n",
      "\n"
     ]
    }
   ],
   "source": [
    "data_dir = Path(\"E:\\workspace\\paddleocr\\datasets\\sangmu_std_DH\")\n",
    "label_file = Path(\"E:\\workspace\\paddleocr\\datasets\\sangmu_std_DH\\label.txt\")\n",
    "check(data_dir, label_file)\n",
    "\n",
    "data_dir = Path(\"E:\\workspace\\paddleocr\\datasets\\sangmu_std_MH\")\n",
    "label_file = Path(\"E:\\workspace\\paddleocr\\datasets\\sangmu_std_MH\\label.txt\")\n",
    "check(data_dir, label_file)\n",
    "\n",
    "\n",
    "data_dir = Path(\"E:\\workspace\\paddleocr\\datasets\\sangmu_std_DI\")\n",
    "label_file = Path(\"E:\\workspace\\paddleocr\\datasets\\sangmu_std_DI\\label.txt\")\n",
    "check(data_dir, label_file)\n",
    "\n",
    "data_dir = Path(\"E:\\workspace\\paddleocr\\datasets\\outsourcing1(exception)_std\")\n",
    "label_file = Path(\"E:\\workspace\\paddleocr\\datasets\\outsourcing1(exception)_std\\label.txt\")\n",
    "check(data_dir, label_file)\n",
    "\n",
    "data_dir = Path(\"E:\\workspace\\paddleocr\\datasets\\outsourcing1_std\")\n",
    "label_file = Path(\"E:\\workspace\\paddleocr\\datasets\\outsourcing1_std\\label.txt\")\n",
    "check(data_dir, label_file)\n"
   ]
  },
  {
   "cell_type": "code",
   "execution_count": 2,
   "metadata": {},
   "outputs": [
    {
     "data": {
      "text/plain": [
       "1"
      ]
     },
     "execution_count": 2,
     "metadata": {},
     "output_type": "execute_result"
    }
   ],
   "source": [
    "\"찌개\\ㅁㅁ\".count(\"\\\\\")\n"
   ]
  },
  {
   "cell_type": "code",
   "execution_count": 3,
   "metadata": {},
   "outputs": [
    {
     "data": {
      "text/plain": [
       "[{'transcription': 'BODYFRIEND',\n",
       "  'points': [[12, 3], [2027, 3], [2027, 349], [12, 349]],\n",
       "  'difficult': True}]"
      ]
     },
     "execution_count": 3,
     "metadata": {},
     "output_type": "execute_result"
    }
   ],
   "source": [
    "import json\n",
    "x = \"\"\"[{\"transcription\": \"BODYFRIEND\", \"points\": [[12, 3], [2027, 3], [2027, 349], [12, 349]], \"difficult\": true}]\"\"\"\n",
    "json.loads(x)"
   ]
  },
  {
   "cell_type": "code",
   "execution_count": null,
   "metadata": {},
   "outputs": [],
   "source": []
  }
 ],
 "metadata": {
  "kernelspec": {
   "display_name": "paddle_env",
   "language": "python",
   "name": "python3"
  },
  "language_info": {
   "codemirror_mode": {
    "name": "ipython",
    "version": 3
   },
   "file_extension": ".py",
   "mimetype": "text/x-python",
   "name": "python",
   "nbconvert_exporter": "python",
   "pygments_lexer": "ipython3",
   "version": "3.8.18"
  }
 },
 "nbformat": 4,
 "nbformat_minor": 2
}
