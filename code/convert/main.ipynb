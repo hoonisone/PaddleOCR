{
 "cells": [
  {
   "cell_type": "code",
   "execution_count": 10,
   "metadata": {},
   "outputs": [
    {
     "name": "stdout",
     "output_type": "stream",
     "text": [
      "['images/1.png', '[{\"transcription\": \"IBK WM 센터 광주\", \"points\": [[535, 27], [2683, 27], [2683, 343], [535, 343]], \"difficult\": false}, {\"transcription\": \"IBK 기업은행\", \"points\": [[2777, 63], [3343, 63], [3343, 163], [2777, 163]], \"difficult\": false}, {\"transcription\": \"IBK 투자증권\", \"points\": [[2797, 171], [3362, 171], [3362, 274], [2797, 274]], \"difficult\": false}]']\n",
      "['images/1.png', '[{\"transcription\": \"NH농협은행\", \"points\": [[226, 67], [808, 67], [808, 172], [226, 172]], \"difficult\": false}, {\"transcription\": \"365 Auto Bank\", \"points\": [[1010, 132], [2332, 132], [2332, 376], [1010, 376]], \"difficult\": false}]']\n",
      "['images/1.png', '[{\"transcription\": \"TIMESTOWER\", \"points\": [[16, 6], [153, 9], [147, 39], [475, 52], [509, 13], [636, 18], [642, 41], [1016, 59], [1051, 67], [1071, 179], [25, 159], [12, 40]], \"difficult\": false}]']\n"
     ]
    }
   ],
   "source": [
    "import io\n",
    "from PIL import Image\n",
    "from pathlib import Path\n",
    "import lmdb\n",
    "\n",
    "def paddle_to_lmdb(dir_path):\n",
    "    with lmdb.open(dir_path, map_size=274877906944) as env:\n",
    "                                      \n",
    "        dir_path = Path(dir_path)\n",
    "        \n",
    "        \n",
    "        with open(dir_path/\"label.txt\") as f:\n",
    "            samples = [line.rstrip('\\n').split('\\t') for line in f.readlines()]\n",
    "                        \n",
    "        with env.begin(write=True) as txn:        \n",
    "            print(samples[0])\n",
    "            for i, [img_path, label] in enumerate(samples):\n",
    "                # image save\n",
    "                with open(dir_path/img_path, \"rb\") as f:\n",
    "                    img = f.read()\n",
    "                txn.put(f'image-{i:09d}'.encode(), img)\n",
    "                \n",
    "                # label save\n",
    "                txn.put(f'label-{i:09d}'.encode(), label.encode())\n",
    "\n",
    "            txn.put('num-samples'.encode(), str(len(samples)).encode())\n",
    "\n",
    "paddle_to_lmdb(dir_path = \"/home/datasets/sangmu_std_MH\")\n",
    "paddle_to_lmdb(dir_path = \"/home/datasets/sangmu_std_DI\")\n",
    "paddle_to_lmdb(dir_path = \"/home/datasets/sangmu_std_DH\")"
   ]
  },
  {
   "cell_type": "code",
   "execution_count": 25,
   "metadata": {},
   "outputs": [
    {
     "name": "stdout",
     "output_type": "stream",
     "text": [
      "['train/1009_2.png', 'YOU']\n"
     ]
    }
   ],
   "source": [
    "# paddle_to_lmdb(dir_path = \"/home/datasets/outsourcing1_std\")\n",
    "# paddle_to_lmdb(dir_path = \"/home/datasets/outsourcing1_str\")\n",
    "# paddle_to_lmdb(dir_path = \"/home/datasets/outsourcing1(exception)_std\")\n",
    "# paddle_to_lmdb(dir_path = \"/home/datasets/outsourcing1(exception)_str\")\n",
    "# paddle_to_lmdb(dir_path = \"/home/datasets/rec_ic03\")\n",
    "# paddle_to_lmdb(dir_path = \"/home/datasets/rec_ic13\")\n",
    "# paddle_to_lmdb(dir_path = \"/home/datasets/rec_ic15\")\n",
    "# paddle_to_lmdb(dir_path = \"/home/datasets/rec_SVTP\")\n",
    "# paddle_to_lmdb(dir_path = \"/home/datasets/rec_SVT\")\n",
    "# paddle_to_lmdb(dir_path = \"/home/datasets/rec_CUTE80\")\n",
    "# paddle_to_lmdb(dir_path = \"/home/datasets/rec_IIIT5K\")"
   ]
  },
  {
   "cell_type": "code",
   "execution_count": 12,
   "metadata": {},
   "outputs": [],
   "source": [
    "import io\n",
    "from PIL import Image\n",
    "from pathlib import Path\n",
    "import lmdb\n",
    "\n",
    "def paddle_to_lmdb_for_labelset(dir_path, datadir, task = \"train\"):\n",
    "    dir_path = Path(dir_path)                              \n",
    "    datadir = Path(datadir)\n",
    "    (dir_path/task).mkdir(exist_ok=True, parents=True)\n",
    "    with lmdb.open(str(dir_path/task), map_size=274877906944) as env:\n",
    "        \n",
    "        \n",
    "        \n",
    "        with open(dir_path/f\"{task}_label.txt\") as f:\n",
    "            samples = [line.rstrip('\\n').split('\\t') for line in f.readlines()]\n",
    "                        \n",
    "        with env.begin(write=True) as txn:        \n",
    "            for i, [img_path, label] in enumerate(samples):\n",
    "                # image save\n",
    "                with open(datadir/img_path, \"rb\") as f:\n",
    "                    img = f.read()\n",
    "                txn.put(f'image-{i:09d}'.encode(), img)\n",
    "                \n",
    "                # label save\n",
    "                txn.put(f'label-{i:09d}'.encode(), label.encode())\n",
    "\n",
    "            txn.put('num-samples'.encode(), str(len(samples)).encode())\n",
    "\n",
    "paddle_to_lmdb_for_labelset(dir_path = \"/home/labelsets/aihub_rec_50000_8_1_1\", task = \"train\", datadir=\"/home/datasets\")\n",
    "paddle_to_lmdb_for_labelset(dir_path = \"/home/labelsets/aihub_rec_50000_8_1_1\", task = \"eval\", datadir=\"/home/datasets\")\n",
    "paddle_to_lmdb_for_labelset(dir_path = \"/home/labelsets/aihub_rec_50000_8_1_1\", task = \"test\", datadir=\"/home/datasets\")"
   ]
  },
  {
   "cell_type": "code",
   "execution_count": null,
   "metadata": {},
   "outputs": [],
   "source": []
  }
 ],
 "metadata": {
  "kernelspec": {
   "display_name": ".venv",
   "language": "python",
   "name": "python3"
  },
  "language_info": {
   "codemirror_mode": {
    "name": "ipython",
    "version": 3
   },
   "file_extension": ".py",
   "mimetype": "text/x-python",
   "name": "python",
   "nbconvert_exporter": "python",
   "pygments_lexer": "ipython3",
   "version": "3.7.14"
  }
 },
 "nbformat": 4,
 "nbformat_minor": 2
}
