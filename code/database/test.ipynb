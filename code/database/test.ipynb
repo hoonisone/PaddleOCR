{
 "cells": [
  {
   "cell_type": "code",
   "execution_count": 2,
   "metadata": {},
   "outputs": [
    {
     "name": "stdout",
     "output_type": "stream",
     "text": [
      "['ICDAR2015', 'korean_image_det', 'korean_image_rec', 'test1', 'test2']\n",
      "\n",
      "ICDAR2015\n",
      "{'name': 'ICDAR2015', 'task': ['STD', 'STR'], 'labelfiles': ['train_label.txt', 'test_label.txt'], 'options': []}\n"
     ]
    }
   ],
   "source": [
    "from database import *\n",
    "\n",
    "mdb = DatasetDB()\n",
    "print(mdb.get_all_id())\n",
    "print()\n",
    "id = mdb.get_all_id()[0]\n",
    "print(id)\n",
    "print(mdb.get_config(id))"
   ]
  },
  {
   "cell_type": "code",
   "execution_count": 1,
   "metadata": {},
   "outputs": [
    {
     "name": "stdout",
     "output_type": "stream",
     "text": [
      "{'datasets': ['test1', 'test2'], 'label': {'eval': ['labelsets\\\\test\\\\eval_label.txt'], 'infer': ['labelsets\\\\test\\\\infer_label.txt'], 'test': ['labelsets\\\\test\\\\test_label.txt'], 'train': ['labelsets\\\\test\\\\train_label.txt']}, 'name': 'test', 'seed': 100, 'split': {'eval_ratio': 4, 'test_ratio': 80, 'train_ratio': 16}}\n"
     ]
    },
    {
     "ename": "AssertionError",
     "evalue": "The labelset test already exists!",
     "output_type": "error",
     "traceback": [
      "\u001b[1;31m---------------------------------------------------------------------------\u001b[0m",
      "\u001b[1;31mAssertionError\u001b[0m                            Traceback (most recent call last)",
      "Cell \u001b[1;32mIn[1], line 8\u001b[0m\n\u001b[0;32m      3\u001b[0m \u001b[38;5;66;03m# labeldb.make(\"test\", [\"test1\", \"test2\"], [16, 4, 80], random_seed=100)\u001b[39;00m\n\u001b[0;32m      4\u001b[0m \u001b[38;5;66;03m# name = labeldb.get_all_id()[0]\u001b[39;00m\n\u001b[0;32m      5\u001b[0m \u001b[38;5;66;03m# print(name)\u001b[39;00m\n\u001b[0;32m      6\u001b[0m \u001b[38;5;28mprint\u001b[39m(labeldb\u001b[38;5;241m.\u001b[39mget_config(\u001b[38;5;124m\"\u001b[39m\u001b[38;5;124mtest\u001b[39m\u001b[38;5;124m\"\u001b[39m))\n\u001b[1;32m----> 8\u001b[0m \u001b[43mlabeldb\u001b[49m\u001b[38;5;241;43m.\u001b[39;49m\u001b[43mmake_k_fold\u001b[49m\u001b[43m(\u001b[49m\u001b[43m[\u001b[49m\u001b[38;5;124;43m\"\u001b[39;49m\u001b[38;5;124;43mtest\u001b[39;49m\u001b[38;5;124;43m\"\u001b[39;49m\u001b[43m]\u001b[49m\u001b[43m,\u001b[49m\u001b[43m \u001b[49m\u001b[38;5;124;43m\"\u001b[39;49m\u001b[38;5;124;43mtest_k_fold\u001b[39;49m\u001b[38;5;124;43m\"\u001b[39;49m\u001b[43m,\u001b[49m\u001b[43m \u001b[49m\u001b[38;5;241;43m5\u001b[39;49m\u001b[43m)\u001b[49m\n\u001b[0;32m      9\u001b[0m \u001b[38;5;66;03m# labeldb.make_k_fold([\"test_k_fold_5_1\", \"test_k_fold_5_2\"], \"test_k_fold2\", 5)\u001b[39;00m\n\u001b[0;32m     10\u001b[0m \u001b[38;5;66;03m# labeldb.make_k_fold([\"test_k_fold2_5_1\", \"test_k_fold2_5_2\"], \"test_k_fold2\", 5)\u001b[39;00m\n\u001b[0;32m     11\u001b[0m \u001b[38;5;66;03m# print(labeldb.get_config(\"test_k_fold2_5_1\"))\u001b[39;00m\n\u001b[0;32m     12\u001b[0m \n\u001b[0;32m     13\u001b[0m \u001b[38;5;66;03m# print(LabelsetDB().get(\"ai_hub_det_08_02_90_random_k_fold_5_1\"))\u001b[39;00m\n",
      "File \u001b[1;32mE:\\workspace\\paddleocr\\code\\database\\labelset_db.py:94\u001b[0m, in \u001b[0;36mLabelsetDB.make_k_fold\u001b[1;34m(self, labelsets, name, k, random_seed)\u001b[0m\n\u001b[0;32m     92\u001b[0m new_names \u001b[38;5;241m=\u001b[39m [\u001b[38;5;124mf\u001b[39m\u001b[38;5;124m\"\u001b[39m\u001b[38;5;132;01m{\u001b[39;00mname\u001b[38;5;132;01m}\u001b[39;00m\u001b[38;5;124m_\u001b[39m\u001b[38;5;132;01m{\u001b[39;00mk\u001b[38;5;132;01m}\u001b[39;00m\u001b[38;5;124m_\u001b[39m\u001b[38;5;132;01m{\u001b[39;00mi\u001b[38;5;241m+\u001b[39m\u001b[38;5;241m1\u001b[39m\u001b[38;5;132;01m}\u001b[39;00m\u001b[38;5;124m\"\u001b[39m \u001b[38;5;28;01mfor\u001b[39;00m i \u001b[38;5;129;01min\u001b[39;00m \u001b[38;5;28mrange\u001b[39m(k)]\n\u001b[0;32m     93\u001b[0m \u001b[38;5;28;01mfor\u001b[39;00m new_name \u001b[38;5;129;01min\u001b[39;00m new_names:\n\u001b[1;32m---> 94\u001b[0m     \u001b[38;5;28;01massert\u001b[39;00m new_name \u001b[38;5;129;01mnot\u001b[39;00m \u001b[38;5;129;01min\u001b[39;00m \u001b[38;5;28mself\u001b[39m\u001b[38;5;241m.\u001b[39mget_all_id(), \u001b[38;5;124mf\u001b[39m\u001b[38;5;124m\"\u001b[39m\u001b[38;5;124mThe labelset \u001b[39m\u001b[38;5;132;01m{\u001b[39;00mlabelset\u001b[38;5;132;01m}\u001b[39;00m\u001b[38;5;124m already exists!\u001b[39m\u001b[38;5;124m\"\u001b[39m     \n\u001b[0;32m     96\u001b[0m \u001b[38;5;28mprint\u001b[39m(\u001b[38;5;124m\"\u001b[39m\u001b[38;5;124m1. Load all label files\u001b[39m\u001b[38;5;124m\"\u001b[39m)\n\u001b[0;32m     98\u001b[0m whole_labels \u001b[38;5;241m=\u001b[39m []\n",
      "\u001b[1;31mAssertionError\u001b[0m: The labelset test already exists!"
     ]
    }
   ],
   "source": [
    "from database import *\n",
    "labeldb = LabelsetDB()\n",
    "# labeldb.make(\"test\", [\"test1\", \"test2\"], [16, 4, 80], random_seed=100)\n",
    "# name = labeldb.get_all_id()[0]\n",
    "# print(name)\n",
    "print(labeldb.get_config(\"test\"))\n",
    "\n",
    "labeldb.make_k_fold([\"test\"], \"test_k_fold\", 5)\n",
    "# labeldb.make_k_fold([\"test_k_fold_5_1\", \"test_k_fold_5_2\"], \"test_k_fold2\", 5)\n",
    "# labeldb.make_k_fold([\"test_k_fold2_5_1\", \"test_k_fold2_5_2\"], \"test_k_fold2\", 5)\n",
    "# print(labeldb.get_config(\"test_k_fold2_5_1\"))\n",
    "\n",
    "# print(LabelsetDB().get(\"ai_hub_det_08_02_90_random_k_fold_5_1\"))"
   ]
  },
  {
   "cell_type": "code",
   "execution_count": 2,
   "metadata": {},
   "outputs": [
    {
     "data": {
      "text/plain": [
       "{'name': 'en_PP-OCRv3_det',\n",
       " 'pretrained_weight_path': 'E:/workspace/paddleocr/models/pretrained'}"
      ]
     },
     "execution_count": 2,
     "metadata": {},
     "output_type": "execute_result"
    }
   ],
   "source": [
    "from database import *\n",
    "modeldb = ModelDB()\n",
    "modeldb.get_all_id()\n",
    "modeldb.get_config(\"en_PP-OCRv3_det\")"
   ]
  },
  {
   "cell_type": "markdown",
   "metadata": {},
   "source": []
  },
  {
   "cell_type": "code",
   "execution_count": 3,
   "metadata": {},
   "outputs": [
    {
     "ename": "AttributeError",
     "evalue": "'WorkDB' object has no attribute 'get_all_id'",
     "output_type": "error",
     "traceback": [
      "\u001b[1;31m---------------------------------------------------------------------------\u001b[0m",
      "\u001b[1;31mAttributeError\u001b[0m                            Traceback (most recent call last)",
      "Cell \u001b[1;32mIn[3], line 3\u001b[0m\n\u001b[0;32m      1\u001b[0m \u001b[38;5;28;01mfrom\u001b[39;00m \u001b[38;5;21;01mdatabase\u001b[39;00m \u001b[38;5;28;01mimport\u001b[39;00m \u001b[38;5;241m*\u001b[39m\n\u001b[0;32m      2\u001b[0m workdb \u001b[38;5;241m=\u001b[39m WorkDB()\n\u001b[1;32m----> 3\u001b[0m \u001b[43mworkdb\u001b[49m\u001b[38;5;241;43m.\u001b[39;49m\u001b[43mget_all_id\u001b[49m()\n",
      "\u001b[1;31mAttributeError\u001b[0m: 'WorkDB' object has no attribute 'get_all_id'"
     ]
    }
   ],
   "source": [
    "from database import *\n",
    "workdb = WorkDB()\n",
    "workdb.get_all_id()"
   ]
  },
  {
   "cell_type": "code",
   "execution_count": 4,
   "metadata": {},
   "outputs": [
    {
     "data": {
      "text/plain": [
       "{'name': 'en_PP-OCRv3_det', 'pretrained': 'pretrained'}"
      ]
     },
     "execution_count": 4,
     "metadata": {},
     "output_type": "execute_result"
    }
   ],
   "source": [
    "ModelDB().get_config(ModelDB().get_all_id()[0])"
   ]
  },
  {
   "cell_type": "code",
   "execution_count": 1,
   "metadata": {},
   "outputs": [
    {
     "data": {
      "text/plain": [
       "'python E:\\\\workspace\\\\paddleocr\\\\code\\\\PaddleOCR\\\\tools\\\\train.py -c E:\\\\workspace\\\\paddleocr\\\\works\\\\test\\\\config.yml -o Global.epoch_num=10'"
      ]
     },
     "execution_count": 1,
     "metadata": {},
     "output_type": "execute_result"
    }
   ],
   "source": [
    "from database import *\n",
    "import project\n",
    "from pathlib import Path\n",
    "config = \"configs\\det\\det_mv3_db.yml\"\n",
    "labelsets = [\"test\", \"test_k_fold_5_1\"]\n",
    "model = \"MobileNetV3_large_x0_5\"\n",
    "name = \"test\"\n",
    "WorkDB().make(name, labelsets, model, config)\n",
    "\n",
    "WorkDB().train(\"test\", 10)\n"
   ]
  },
  {
   "cell_type": "code",
   "execution_count": 3,
   "metadata": {},
   "outputs": [
    {
     "name": "stdout",
     "output_type": "stream",
     "text": [
      "['test']\n"
     ]
    }
   ],
   "source": [
    "import project\n",
    "workdb = WorkDB()\n",
    "print(workdb.get_all_id())\n",
    "\n"
   ]
  },
  {
   "cell_type": "code",
   "execution_count": null,
   "metadata": {},
   "outputs": [],
   "source": []
  }
 ],
 "metadata": {
  "kernelspec": {
   "display_name": "paddlelabel",
   "language": "python",
   "name": "python3"
  },
  "language_info": {
   "codemirror_mode": {
    "name": "ipython",
    "version": 3
   },
   "file_extension": ".py",
   "mimetype": "text/x-python",
   "name": "python",
   "nbconvert_exporter": "python",
   "pygments_lexer": "ipython3",
   "version": "3.10.13"
  }
 },
 "nbformat": 4,
 "nbformat_minor": 2
}
