{
 "cells": [
  {
   "cell_type": "code",
   "execution_count": 1,
   "metadata": {},
   "outputs": [
    {
     "name": "stdout",
     "output_type": "stream",
     "text": [
      "['ai_hub_korean_image_det', 'ai_hub_korean_image_rec', 'ICDAR2015', 'test1', 'test2']\n",
      "\n",
      "ai_hub_korean_image_det\n",
      "{'task': ['STD'], 'labelfiles': ['label.txt'], 'options': [], 'name': 'ai_hub_korean_image_det'}\n"
     ]
    }
   ],
   "source": [
    "from database import *\n",
    "\n",
    "mdb = DatasetDB()\n",
    "print(mdb.get_all_id())\n",
    "print()\n",
    "id = mdb.get_all_id()[0]\n",
    "print(id)\n",
    "print(mdb.get_config(id))"
   ]
  },
  {
   "cell_type": "code",
   "execution_count": 1,
   "metadata": {},
   "outputs": [
    {
     "name": "stdout",
     "output_type": "stream",
     "text": [
      "train1/source/간판/가로형간판/간판_가로형간판_000001.jpg\t[{\"transcription\": \"\\ub9c8\\ud3ec\\ud0d1\\uc548\\uacfc\\uc758\\uc6d0\", \"points\": [[100, 658], [1352, 658], [1352, 819], [100, 819]]}, {\"transcription\": \"xxx\", \"points\": [[170, 818], [1392, 818], [1392, 1193], [170, 1193]]}]\n",
      "2. split and save label files\n",
      "E:\\workspace\\paddleocr\\labelsets\\ai_hub_korean_image_det_16_04_80\n"
     ]
    }
   ],
   "source": [
    "from database import *\n",
    "labeldb = LabelsetDB()\n",
    "# labeldb.make(\"test\", [\"test1\", \"test2\"], [16, 4, 80], random_seed=100)\n",
    "labeldb.make(\"ai_hub_korean_image_det_16_04_80\", [\"ai_hub_korean_image_det\"], [16, 4, 80], random_seed=100)\n",
    "# name = labeldb.get_all_id()[0]\n",
    "# print(name)\n",
    "# print(labeldb.get_config(\"test\"))\n",
    "\n",
    "# labeldb.make_k_fold([\"test\"], \"test_k_fold\", 5)\n",
    "# labeldb.make_k_fold([\"test_k_fold_5_1\", \"test_k_fold_5_2\"], \"test_k_fold2\", 5)\n",
    "# labeldb.make_k_fold([\"test_k_fold2_5_1\", \"test_k_fold2_5_2\"], \"test_k_fold2\", 5)\n",
    "# print(labeldb.get_config(\"test_k_fold2_5_1\"))\n",
    "\n",
    "# print(LabelsetDB().get(\"ai_hub_det_08_02_90_random_k_fold_5_1\"))"
   ]
  },
  {
   "cell_type": "code",
   "execution_count": 5,
   "metadata": {},
   "outputs": [
    {
     "name": "stdout",
     "output_type": "stream",
     "text": [
      "en_PP-OCRv3_det\n",
      "korean_PP-OCRv3_rec\n",
      "ml_PP-OCRv3_det\n",
      "MobileNetV3_large_x0_5\n"
     ]
    }
   ],
   "source": [
    "from database import *\n",
    "modeldb = ModelDB()\n",
    "import os\n",
    "# modeldb.get_config(\"en_PP-OCRv3_det\")\n",
    "for id in modeldb.get_all_id():\n",
    "    print(id)\n",
    "    modeldb.make_inference_model(id)"
   ]
  },
  {
   "cell_type": "code",
   "execution_count": 2,
   "metadata": {},
   "outputs": [],
   "source": [
    "from database import *\n",
    "workdb = WorkDB()\n",
    "for id in workdb.get_all_id():\n",
    "    workdb.make_inference_model(id)\n"
   ]
  },
  {
   "cell_type": "code",
   "execution_count": 4,
   "metadata": {},
   "outputs": [
    {
     "data": {
      "text/plain": [
       "{'name': 'en_PP-OCRv3_det', 'pretrained': 'pretrained'}"
      ]
     },
     "execution_count": 4,
     "metadata": {},
     "output_type": "execute_result"
    }
   ],
   "source": [
    "ModelDB().get_config(ModelDB().get_all_id()[0])"
   ]
  },
  {
   "cell_type": "code",
   "execution_count": 1,
   "metadata": {},
   "outputs": [
    {
     "data": {
      "text/plain": [
       "'python E:\\\\workspace\\\\paddleocr\\\\code\\\\PaddleOCR\\\\tools\\\\train.py -c E:\\\\workspace\\\\paddleocr\\\\works\\\\test\\\\config.yml -o Global.epoch_num=10'"
      ]
     },
     "execution_count": 1,
     "metadata": {},
     "output_type": "execute_result"
    }
   ],
   "source": [
    "from database import *\n",
    "import project\n",
    "from pathlib import Path\n",
    "config = \"configs\\det\\det_mv3_db.yml\"\n",
    "labelsets = [\"test\", \"test_k_fold_5_1\"]\n",
    "model = \"MobileNetV3_large_x0_5\"\n",
    "name = \"test\"\n",
    "WorkDB().make(name, labelsets, model, config)\n",
    "\n",
    "WorkDB().train(\"test\", 10)\n"
   ]
  },
  {
   "cell_type": "code",
   "execution_count": null,
   "metadata": {},
   "outputs": [],
   "source": []
  }
 ],
 "metadata": {
  "kernelspec": {
   "display_name": "paddlelabel",
   "language": "python",
   "name": "python3"
  },
  "language_info": {
   "codemirror_mode": {
    "name": "ipython",
    "version": 3
   },
   "file_extension": ".py",
   "mimetype": "text/x-python",
   "name": "python",
   "nbconvert_exporter": "python",
   "pygments_lexer": "ipython3",
   "version": "3.10.13"
  }
 },
 "nbformat": 4,
 "nbformat_minor": 2
}
