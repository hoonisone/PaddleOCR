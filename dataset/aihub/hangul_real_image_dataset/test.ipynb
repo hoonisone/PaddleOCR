{
 "cells": [
  {
   "cell_type": "code",
   "execution_count": 4,
   "metadata": {},
   "outputs": [],
   "source": [
    "class ExternelKoreanImage_to_PaddleOCR:\n",
    "    def __init__(self, root, dataset):\n",
    "        self.root = root\n",
    "        self.dataset = dataset\n",
    "    \n",
    "    def to_paddle_label(self, label):\n",
    "        for annotation in label[\"annotations\"]:\n",
    "            x, y, w, h = annotation[\"bbox\"]\n",
    "            upper_left = [x, y]\n",
    "            upper_right = [x+w, y]\n",
    "            bottom_right = [x+w, y+h]\n",
    "            bottom_left = [x, y+h]\n",
    "            return {\"transcription\":annotation[\"text\"], \"points\":[upper_left, upper_right, bottom_right, bottom_left]}\n",
    "\n",
    "    def make_paddle_label(self):  \n",
    "        label_list = []\n",
    "        for i in range(len(self.dataset)):\n",
    "            label = self.dataset.get_label(i)\n",
    "            relative_path = self.dataset.get_label_path(i).relative_to(self.root)\n",
    "            label = self.to_paddle_label(label)\n",
    "            paddle_label = f\"{relative_path}\\t{label}\"\n",
    "            label_list.append(paddle_label)\n",
    "            return \"\\n\".join(label_list)\n",
    "        \n"
   ]
  },
  {
   "cell_type": "code",
   "execution_count": 5,
   "metadata": {},
   "outputs": [
    {
     "name": "stdout",
     "output_type": "stream",
     "text": [
      "unzip -O cp949 '/home/dataset/AI-HUB(zip)/030.야외 실제 촬영 한글 이미지/01.데이터/1.Training/라벨링데이터_230216_add/TL1.zip' -d '/home/dataset/AIHUB/030.야외 실제 촬영 한글 이미지/01.데이터/1.Training/라벨링데이터_230216_add/TL1'\n",
      "unzip -O cp949 '/home/dataset/AI-HUB(zip)/030.야외 실제 촬영 한글 이미지/01.데이터/1.Training/원천데이터_230216_add/TS1.zip' -d '/home/dataset/AIHUB/030.야외 실제 촬영 한글 이미지/01.데이터/1.Training/원천데이터_230216_add/TS1'\n",
      "unzip -O cp949 '/home/dataset/AI-HUB(zip)/030.야외 실제 촬영 한글 이미지/01.데이터/2.Validation/라벨링데이터_230216_add/VL1.zip' -d '/home/dataset/AIHUB/030.야외 실제 촬영 한글 이미지/01.데이터/2.Validation/라벨링데이터_230216_add/VL1'\n",
      "unzip -O cp949 '/home/dataset/AI-HUB(zip)/030.야외 실제 촬영 한글 이미지/01.데이터/2.Validation/원천데이터_230216_add/VS1.zip' -d '/home/dataset/AIHUB/030.야외 실제 촬영 한글 이미지/01.데이터/2.Validation/원천데이터_230216_add/VS1'\n",
      "unzip -O cp949 '/home/dataset/AI-HUB(zip)/야외 실제 촬영 한글 이미지/Training/[라벨]Training.zip' -d '/home/dataset/AIHUB/야외 실제 촬영 한글 이미지/Training/[라벨]Training'\n",
      "unzip -O cp949 '/home/dataset/AI-HUB(zip)/야외 실제 촬영 한글 이미지/Training/[원천]Training_간판_가로형간판_원천데이터1.zip' -d '/home/dataset/AIHUB/야외 실제 촬영 한글 이미지/Training/[원천]Training_간판_가로형간판_원천데이터1'\n",
      "unzip -O cp949 '/home/dataset/AI-HUB(zip)/야외 실제 촬영 한글 이미지/Training/[원천]Training_간판_가로형간판_원천데이터2.zip' -d '/home/dataset/AIHUB/야외 실제 촬영 한글 이미지/Training/[원천]Training_간판_가로형간판_원천데이터2'\n",
      "unzip -O cp949 '/home/dataset/AI-HUB(zip)/야외 실제 촬영 한글 이미지/Training/[원천]Training_간판_가로형간판_원천데이터3.zip' -d '/home/dataset/AIHUB/야외 실제 촬영 한글 이미지/Training/[원천]Training_간판_가로형간판_원천데이터3'\n",
      "unzip -O cp949 '/home/dataset/AI-HUB(zip)/야외 실제 촬영 한글 이미지/Training/[원천]Training_간판_가로형간판_원천데이터4.zip' -d '/home/dataset/AIHUB/야외 실제 촬영 한글 이미지/Training/[원천]Training_간판_가로형간판_원천데이터4'\n",
      "unzip -O cp949 '/home/dataset/AI-HUB(zip)/야외 실제 촬영 한글 이미지/Training/[원천]Training_간판_가로형간판_원천데이터5.zip' -d '/home/dataset/AIHUB/야외 실제 촬영 한글 이미지/Training/[원천]Training_간판_가로형간판_원천데이터5'\n",
      "unzip -O cp949 '/home/dataset/AI-HUB(zip)/야외 실제 촬영 한글 이미지/Training/[원천]Training_간판_돌출간판_원천데이터1.zip' -d '/home/dataset/AIHUB/야외 실제 촬영 한글 이미지/Training/[원천]Training_간판_돌출간판_원천데이터1'\n",
      "unzip -O cp949 '/home/dataset/AI-HUB(zip)/야외 실제 촬영 한글 이미지/Training/[원천]Training_간판_돌출간판_원천데이터2.zip' -d '/home/dataset/AIHUB/야외 실제 촬영 한글 이미지/Training/[원천]Training_간판_돌출간판_원천데이터2'\n",
      "unzip -O cp949 '/home/dataset/AI-HUB(zip)/야외 실제 촬영 한글 이미지/Training/[원천]Training_간판_세로형간판_원천데이터.zip' -d '/home/dataset/AIHUB/야외 실제 촬영 한글 이미지/Training/[원천]Training_간판_세로형간판_원천데이터'\n",
      "unzip -O cp949 '/home/dataset/AI-HUB(zip)/야외 실제 촬영 한글 이미지/Training/[원천]Training_간판_실내간판_원천데이터1.zip' -d '/home/dataset/AIHUB/야외 실제 촬영 한글 이미지/Training/[원천]Training_간판_실내간판_원천데이터1'\n",
      "unzip -O cp949 '/home/dataset/AI-HUB(zip)/야외 실제 촬영 한글 이미지/Training/[원천]Training_간판_실내간판_원천데이터2.zip' -d '/home/dataset/AIHUB/야외 실제 촬영 한글 이미지/Training/[원천]Training_간판_실내간판_원천데이터2'\n",
      "unzip -O cp949 '/home/dataset/AI-HUB(zip)/야외 실제 촬영 한글 이미지/Training/[원천]Training_간판_실내안내판_원천데이터1.zip' -d '/home/dataset/AIHUB/야외 실제 촬영 한글 이미지/Training/[원천]Training_간판_실내안내판_원천데이터1'\n",
      "unzip -O cp949 '/home/dataset/AI-HUB(zip)/야외 실제 촬영 한글 이미지/Training/[원천]Training_간판_실내안내판_원천데이터2.zip' -d '/home/dataset/AIHUB/야외 실제 촬영 한글 이미지/Training/[원천]Training_간판_실내안내판_원천데이터2'\n",
      "unzip -O cp949 '/home/dataset/AI-HUB(zip)/야외 실제 촬영 한글 이미지/Training/[원천]Training_간판_지주이용간판_원천데이터.zip' -d '/home/dataset/AIHUB/야외 실제 촬영 한글 이미지/Training/[원천]Training_간판_지주이용간판_원천데이터'\n",
      "unzip -O cp949 '/home/dataset/AI-HUB(zip)/야외 실제 촬영 한글 이미지/Training/[원천]Training_간판_창문이용광고물_원천데이터.zip' -d '/home/dataset/AIHUB/야외 실제 촬영 한글 이미지/Training/[원천]Training_간판_창문이용광고물_원천데이터'\n",
      "unzip -O cp949 '/home/dataset/AI-HUB(zip)/야외 실제 촬영 한글 이미지/Training/[원천]Training_간판_현수막_원천데이터.zip' -d '/home/dataset/AIHUB/야외 실제 촬영 한글 이미지/Training/[원천]Training_간판_현수막_원천데이터'\n",
      "unzip -O cp949 '/home/dataset/AI-HUB(zip)/야외 실제 촬영 한글 이미지/Training/[원천]Training_책표지1.zip' -d '/home/dataset/AIHUB/야외 실제 촬영 한글 이미지/Training/[원천]Training_책표지1'\n",
      "unzip -O cp949 '/home/dataset/AI-HUB(zip)/야외 실제 촬영 한글 이미지/Training/[원천]Training_책표지2.zip' -d '/home/dataset/AIHUB/야외 실제 촬영 한글 이미지/Training/[원천]Training_책표지2'\n",
      "unzip -O cp949 '/home/dataset/AI-HUB(zip)/야외 실제 촬영 한글 이미지/Training/[원천]Training_책표지3.zip' -d '/home/dataset/AIHUB/야외 실제 촬영 한글 이미지/Training/[원천]Training_책표지3'\n",
      "unzip -O cp949 '/home/dataset/AI-HUB(zip)/야외 실제 촬영 한글 이미지/Validation/[라벨]Validation.zip' -d '/home/dataset/AIHUB/야외 실제 촬영 한글 이미지/Validation/[라벨]Validation'\n",
      "unzip -O cp949 '/home/dataset/AI-HUB(zip)/야외 실제 촬영 한글 이미지/Validation/[원천]Validation_간판1.zip' -d '/home/dataset/AIHUB/야외 실제 촬영 한글 이미지/Validation/[원천]Validation_간판1'\n",
      "unzip -O cp949 '/home/dataset/AI-HUB(zip)/야외 실제 촬영 한글 이미지/Validation/[원천]Validation_간판2.zip' -d '/home/dataset/AIHUB/야외 실제 촬영 한글 이미지/Validation/[원천]Validation_간판2'\n",
      "unzip -O cp949 '/home/dataset/AI-HUB(zip)/야외 실제 촬영 한글 이미지/Validation/[원천]Validation_간판3.zip' -d '/home/dataset/AIHUB/야외 실제 촬영 한글 이미지/Validation/[원천]Validation_간판3'\n",
      "unzip -O cp949 '/home/dataset/AI-HUB(zip)/야외 실제 촬영 한글 이미지/Validation/[원천]Validation_책표지.zip' -d '/home/dataset/AIHUB/야외 실제 촬영 한글 이미지/Validation/[원천]Validation_책표지'\n"
     ]
    }
   ],
   "source": [
    "        \n",
    "DATASET_ROOT = \"/home/dataset\"\n",
    "CONFIG_PATH = \"/home/dataset/AI-Hub/ai_hub_config.yml\"\n",
    "\n",
    "args = YamlConfigLoader.load_config(CONFIG_PATH)\n",
    "dataset = ExternelKoreanImage(args)"
   ]
  },
  {
   "cell_type": "code",
   "execution_count": null,
   "metadata": {},
   "outputs": [],
   "source": [
    "\n",
    "\n",
    "converter = ExternelKoreanImage_to_PaddleOCR(DATASET_ROOT, dataset)\n",
    "\n",
    "label_file = converter.make_paddle_label()\n",
    "label_file\n",
    "with open(Path(DATASET_ROOT)/\"label.txt\", \"w\") as f:\n",
    "    f.write(label_file)"
   ]
  },
  {
   "cell_type": "code",
   "execution_count": null,
   "metadata": {},
   "outputs": [],
   "source": [
    "\n",
    "class STRDataExtractor(metaclass=ABCMeta):\n",
    "    def __init__(self, dataset:OpenDataset):\n",
    "        self.dataset = dataset\n",
    "    \n",
    "    def __len__(self)\n",
    "        return len(self.dataset) \n",
    "    \n",
    "    def __getitem__(self, index):\n",
    "        pass\n",
    "    \n",
    "    def get_image(self, index):\n",
    "        self.dataset[index][0]\n",
    "        \n",
    "    def get_image_path(self, index):\n",
    "        self.dataset.get_sample_path(index)[0]\n",
    "        \n",
    "\n",
    "\n",
    "        \n",
    "    def convert(self, input, label):\n",
    "        \n",
    "    def get_image(self, )\n",
    "    def get_bounding_box(self, data):\n",
    "        pass\n",
    "    \n",
    "    def get_text_name(self data):\n",
    "        \n",
    "\n",
    "class ExternelKoreanImage():\n",
    "    def get_line_label_for_image(path):\n",
    "        with open(path) as f:\n",
    "            data = json.load(f)\n",
    "            \n",
    "            for annotation in data[\"annotations\"]:\n",
    "                x, y, w, h = annotation[\"bbox\"]\n",
    "                upper_left = [x, y]\n",
    "                upper_right = [x+w, y]\n",
    "                bottom_right = [x+w, y+h]\n",
    "                bottom_left = [x, y+h]\n",
    "                \n",
    "                label = {\"transcription\":annotation[\"text\"], \"points\":[upper_left, upper_right, bottom_right, bottom_left]}\n",
    "            \n",
    "        label = json.dumps(label)\n",
    "        return f\"{path}\\t{label}\""
   ]
  },
  {
   "cell_type": "code",
   "execution_count": 52,
   "metadata": {},
   "outputs": [
    {
     "ename": "AttributeError",
     "evalue": "'str' object has no attribute 'remove'",
     "output_type": "error",
     "traceback": [
      "\u001b[0;31m---------------------------------------------------------------------------\u001b[0m",
      "\u001b[0;31mAttributeError\u001b[0m                            Traceback (most recent call last)",
      "\u001b[0;32m/tmp/ipykernel_1610562/1933605311.py\u001b[0m in \u001b[0;36m<module>\u001b[0;34m\u001b[0m\n\u001b[0;32m----> 1\u001b[0;31m \u001b[0;34m\"asdf\\n\"\u001b[0m\u001b[0;34m.\u001b[0m\u001b[0mremove\u001b[0m\u001b[0;34m(\u001b[0m\u001b[0;34m-\u001b[0m\u001b[0;36m1\u001b[0m\u001b[0;34m)\u001b[0m\u001b[0;34m\u001b[0m\u001b[0;34m\u001b[0m\u001b[0m\n\u001b[0m",
      "\u001b[0;31mAttributeError\u001b[0m: 'str' object has no attribute 'remove'"
     ]
    }
   ],
   "source": [
    "\"asdf\\n\"."
   ]
  },
  {
   "cell_type": "code",
   "execution_count": 6,
   "metadata": {},
   "outputs": [
    {
     "name": "stdout",
     "output_type": "stream",
     "text": [
      "The save dir /home/dataset/AIHUB/korean_real_outdoor_image exist. The dataset might have been downloaded already. To continue, you can just delete it and do again\n",
      "==========================================\n",
      "aihubshell version 23.09.06 v0.2\n",
      "==========================================\n",
      "Authentication successful.\n"
     ]
    },
    {
     "name": "stderr",
     "output_type": "stream",
     "text": [
      "  % Total    % Received % Xferd  Average Speed   Time    Time     Time  Current\n",
      "                                 Dload  Upload   Total   Spent    Left  Speed\n",
      "  0     0    0     0    0     0      0      0 --:--:-- --:--:-- --:--:--     0\n",
      "100 47.2G    0 47.2G    0     0  5235k      0 --:--:--  2:37:49 --:--:--     0\n",
      "curl: (56) Recv failure: Connection reset by peer\n"
     ]
    },
    {
     "name": "stdout",
     "output_type": "stream",
     "text": [
      "Request successful with HTTP status 200.\n",
      "Download successful.\n",
      "030.야외 실제 촬영 한글 이미지/01.데이터/2.Validation/원천데이터_230216_add/VS1.zip.part0\n",
      "030.야외 실제 촬영 한글 이미지/01.데이터/2.Validation/원천데이터_230216_add/VS1.zip.part1073741824\n",
      "030.야외 실제 촬영 한글 이미지/01.데이터/2.Validation/원천데이터_230216_add/VS1.zip.part2147483648\n",
      "030.야외 실제 촬영 한글 이미지/01.데이터/2.Validation/원천데이터_230216_add/VS1.zip.part3221225472\n",
      "030.야외 실제 촬영 한글 이미지/01.데이터/2.Validation/라벨링데이터_230216_add/VL1.zip.part0\n",
      "030.야외 실제 촬영 한글 이미지/01.데이터/1.Training/원천데이터_230216_add/TS1.zip.part0\n",
      "030.야외 실제 촬영 한글 이미지/01.데이터/1.Training/원천데이터_230216_add/TS1.zip.part1073741824\n",
      "030.야외 실제 촬영 한글 이미지/01.데이터/1.Training/원천데이터_230216_add/TS1.zip.part2147483648\n",
      "030.야외 실제 촬영 한글 이미지/01.데이터/1.Training/원천데이터_230216_add/TS1.zip.part3221225472\n",
      "030.야외 실제 촬영 한글 이미지/01.데이터/1.Training/원천데이터_230216_add/TS1.zip.part4294967296\n",
      "030.야외 실제 촬영 한글 이미지/01.데이터/1.Training/원천데이터_230216_add/TS1.zip.part5368709120\n",
      "030.야외 실제 촬영 한글 이미지/01.데이터/1.Training/원천데이터_230216_add/TS1.zip.part6442450944\n",
      "030.야외 실제 촬영 한글 이미지/01.데이터/1.Training/원천데이터_230216_add/TS1.zip.part7516192768\n",
      "030.야외 실제 촬영 한글 이미지/01.데이터/1.Training/원천데이터_230216_add/TS1.zip.part8589934592\n",
      "030.야외 실제 촬영 한글 이미지/01.데이터/1.Training/원천데이터_230216_add/TS1.zip.part9663676416\n",
      "030.야외 실제 촬영 한글 이미지/01.데이터/1.Training/원천데이터_230216_add/TS1.zip.part10737418240\n",
      "030.야외 실제 촬영 한글 이미지/01.데이터/1.Training/원천데이터_230216_add/TS1.zip.part11811160064\n",
      "030.야외 실제 촬영 한글 이미지/01.데이터/1.Training/원천데이터_230216_add/TS1.zip.part12884901888\n",
      "030.야외 실제 촬영 한글 이미지/01.데이터/1.Training/원천데이터_230216_add/TS1.zip.part13958643712\n",
      "030.야외 실제 촬영 한글 이미지/01.데이터/1.Training/원천데이터_230216_add/TS1.zip.part15032385536\n",
      "030.야외 실제 촬영 한글 이미지/01.데이터/1.Training/원천데이터_230216_add/TS1.zip.part16106127360\n",
      "030.야외 실제 촬영 한글 이미지/01.데이터/1.Training/원천데이터_230216_add/TS1.zip.part17179869184\n",
      "030.야외 실제 촬영 한글 이미지/01.데이터/1.Training/원천데이터_230216_add/TS1.zip.part18253611008\n",
      "030.야외 실제 촬영 한글 이미지/01.데이터/1.Training/원천데이터_230216_add/TS1.zip.part19327352832\n",
      "030.야외 실제 촬영 한글 이미지/01.데이터/1.Training/라벨링데이터_230216_add/TL1.zip.part0\n",
      "030.야외 실제 촬영 한글 이미지/01.데이터/2.Validation/[원천]Validation_책표지.zip.part0\n",
      "030.야외 실제 촬영 한글 이미지/01.데이터/2.Validation/[원천]Validation_책표지.zip.part1073741824\n",
      "030.야외 실제 촬영 한글 이미지/01.데이터/2.Validation/[원천]Validation_책표지.zip.part2147483648\n",
      "030.야외 실제 촬영 한글 이미지/01.데이터/2.Validation/[원천]Validation_책표지.zip.part3221225472\n",
      "030.야외 실제 촬영 한글 이미지/01.데이터/2.Validation/[원천]Validation_책표지.zip.part4294967296\n",
      "030.야외 실제 촬영 한글 이미지/01.데이터/2.Validation/[원천]Validation_책표지.zip.part5368709120\n",
      "030.야외 실제 촬영 한글 이미지/01.데이터/2.Validation/[원천]Validation_책표지.zip.part6442450944\n",
      "030.야외 실제 촬영 한글 이미지/01.데이터/2.Validation/[원천]Validation_책표지.zip.part7516192768\n",
      "030.야외 실제 촬영 한글 이미지/01.데이터/2.Validation/[원천]Validation_간판3.zip.part0\n",
      "030.야외 실제 촬영 한글 이미지/01.데이터/2.Validation/[원천]Validation_간판3.zip.part1073741824\n",
      "030.야외 실제 촬영 한글 이미지/01.데이터/2.Validation/[원천]Validation_간판3.zip.part2147483648\n",
      "030.야외 실제 촬영 한글 이미지/01.데이터/2.Validation/[원천]Validation_간판3.zip.part3221225472\n",
      "030.야외 실제 촬영 한글 이미지/01.데이터/2.Validation/[원천]Validation_간판3.zip.part4294967296\n",
      "030.야외 실제 촬영 한글 이미지/01.데이터/2.Validation/[원천]Validation_간판3.zip.part5368709120\n",
      "030.야외 실제 촬영 한글 이미지/01.데이터/2.Validation/[원천]Validation_간판3.zip.part6442450944\n",
      "030.야외 실제 촬영 한글 이미지/01.데이터/2.Validation/[원천]Validation_간판3.zip.part7516192768\n",
      "030.야외 실제 촬영 한글 이미지/01.데이터/2.Validation/[원천]Validation_간판3.zip.part8589934592\n",
      "030.야외 실제 촬영 한글 이미지/01.데이터/2.Validation/[원천]Validation_간판3.zip.part9663676416\n",
      "030.야외 실제 촬영 한글 이미지/01.데이터/2.Validation/[원천]Validation_간판3.zip.part10737418240\n",
      "030.야외 실제 촬영 한글 이미지/01.데이터/2.Validation/[원천]Validation_간판3.zip.part11811160064\n",
      "030.야외 실제 촬영 한글 이미지/01.데이터/2.Validation/[원천]Validation_간판3.zip.part12884901888\n",
      "030.야외 실제 촬영 한글 이미지/01.데이터/2.Validation/[원천]Validation_간판3.zip.part13958643712\n",
      "030.야외 실제 촬영 한글 이미지/01.데이터/2.Validation/[원천]Validation_간판2.zip.part0\n",
      "030.야외 실제 촬영 한글 이미지/01.데이터/2.Validation/[원천]Validation_간판2.zip.part1073741824\n",
      "030.야외 실제 촬영 한글 이미지/01.데이터/2.Validation/[원천]Validation_간판2.zip.part2147483648\n",
      "030.야외 실제 촬영 한글 이미지/01.데이터/2.Validation/[원천]Validation_간판2.zip.part3221225472\n"
     ]
    },
    {
     "name": "stderr",
     "output_type": "stream",
     "text": [
      "tar: Unexpected EOF in archive\n",
      "tar: rmtlseek not stopped at a record boundary\n",
      "tar: Error is not recoverable: exiting now\n",
      "grep: warning: GREP_OPTIONS is deprecated; please use an alias or script\n"
     ]
    },
    {
     "name": "stdout",
     "output_type": "stream",
     "text": [
      "잠시 기다려 주세요 병합중 입니다. \n",
      "Merging [원천]Validation_간판2.zip in ./030.야외 실제 촬영 한글 이미지/01.데이터/2.Validation\n",
      "Merging [원천]Validation_간판3.zip in ./030.야외 실제 촬영 한글 이미지/01.데이터/2.Validation\n",
      "Merging [원천]Validation_책표지.zip in ./030.야외 실제 촬영 한글 이미지/01.데이터/2.Validation\n"
     ]
    },
    {
     "name": "stderr",
     "output_type": "stream",
     "text": [
      "grep: warning: GREP_OPTIONS is deprecated; please use an alias or script\n"
     ]
    },
    {
     "name": "stdout",
     "output_type": "stream",
     "text": [
      "Merging VS1.zip in ./030.야외 실제 촬영 한글 이미지/01.데이터/2.Validation/원천데이터_230216_add\n"
     ]
    },
    {
     "name": "stderr",
     "output_type": "stream",
     "text": [
      "grep: warning: GREP_OPTIONS is deprecated; please use an alias or script\n",
      "grep: warning: GREP_OPTIONS is deprecated; please use an alias or script\n"
     ]
    },
    {
     "name": "stdout",
     "output_type": "stream",
     "text": [
      "Merging VL1.zip in ./030.야외 실제 촬영 한글 이미지/01.데이터/2.Validation/라벨링데이터_230216_add\n",
      "Merging TS1.zip in ./030.야외 실제 촬영 한글 이미지/01.데이터/1.Training/원천데이터_230216_add\n"
     ]
    },
    {
     "name": "stderr",
     "output_type": "stream",
     "text": [
      "grep: warning: GREP_OPTIONS is deprecated; please use an alias or script\n"
     ]
    },
    {
     "name": "stdout",
     "output_type": "stream",
     "text": [
      "Merging TL1.zip in ./030.야외 실제 촬영 한글 이미지/01.데이터/1.Training/라벨링데이터_230216_add\n",
      "병합이 완료 되었습니다. \n"
     ]
    }
   ],
   "source": [
    "import os\n",
    "from pathlib import Path\n",
    "class AiHubShell:\n",
    "    def __init__(self, id=None, pw=None):\n",
    "        self._id = id if id else os.environ[\"AIHUB_ID\"]\n",
    "        self._pw = pw if pw else os.environ[\"AIHUB_PW\"]\n",
    "        \n",
    "        os.system(\"curl -o 'aihubshell' https://api.aihub.or.kr/api/aihubshell.do\")\n",
    "        os.system(\"chmod +x aihubshell\")\n",
    "        os.system(\"cp aihubshell /usr/bin\")\n",
    "        \n",
    "    @property\n",
    "    def id(self):\n",
    "        if self._id == None:\n",
    "            self._id = input(\"Enter aihub id:\")\n",
    "        return self._id\n",
    "    \n",
    "    @property\n",
    "    def pw(self):\n",
    "        if self._pw == None:\n",
    "            self._pw = input(\"Enter aihub pw:\")\n",
    "        return self._pw\n",
    "    \n",
    "    def download(self, dataset_key, save_dir):\n",
    "        current_path = os.getcwd()\n",
    "        save_dir = Path(save_dir)\n",
    "        \n",
    "        if save_dir.exists():\n",
    "            print(f\"The save dir {save_dir} exist. The dataset might have been downloaded already. To continue, you can just delete it and do again\")\n",
    "            # return \n",
    "        \n",
    "        save_dir.mkdir(parents=True, exist_ok=True)\n",
    "        os.chdir(save_dir)\n",
    "        \n",
    "        # 다운로드\n",
    "        os.system(f\"aihubshell -mode d -aihubid {self.id} -aihubpw '{self.pw}' -datasetkey {dataset_key}\")\n",
    "        os.chdir(current_path) # 작업 디렉터리 복구\n",
    "       \n",
    "AIHUB_ID = \"hoonisone@gmail.com\"\n",
    "AIHUB_PW = \"is6E24nYiWPscH#\"\n",
    "DATASET_KEY = 105\n",
    "SAVE_DIR = \"/home/dataset/AIHUB/korean_real_outdoor_image\"\n",
    "AiHubShell(AIHUB_ID, AIHUB_PW).download(DATASET_KEY, SAVE_DIR)"
   ]
  },
  {
   "cell_type": "code",
   "execution_count": null,
   "metadata": {},
   "outputs": [],
   "source": []
  },
  {
   "cell_type": "code",
   "execution_count": 1,
   "metadata": {},
   "outputs": [
    {
     "name": "stdout",
     "output_type": "stream",
     "text": [
      "Note: The target file '/home/dataset/AIHUB/temp/VL1' already exist. It's not done to unzip this file. For doint this, delete the target file\n",
      "Note: The target file '/home/dataset/AIHUB/temp/VS1' already exist. It's not done to unzip this file. For doint this, delete the target file\n"
     ]
    }
   ],
   "source": [
    "from config_loader import YamlConfigLoader\n",
    "from aihub import ExternelKoreanImage\n",
    "        \n",
    "        \n",
    "DATASET_ROOT = \"/home/dataset\"\n",
    "CONFIG_PATH = \"/home/dataset/AIHUB/tool/ai_hub_config.yml\"\n",
    "args = YamlConfigLoader.load_config(CONFIG_PATH)\n",
    "dataset = ExternelKoreanImage(args)\n",
    "dataset.unzip() # 기본적으로 다운을 받으면 압축되어 있어 이를 풀어줌\n",
    "dataset.clean_zip() # 압축 풀기 후 데이터 셋 안에 중복된 zip 파일들이 있어 이를 삭제"
   ]
  },
  {
   "cell_type": "code",
   "execution_count": 4,
   "metadata": {},
   "outputs": [
    {
     "ename": "FileNotFoundError",
     "evalue": "[Errno 2] No such file or directory: '/home/dataset/AIHUB/temp/VS1/1.간판/가로형간판/간판_가로형간판_018843.json'",
     "output_type": "error",
     "traceback": [
      "\u001b[0;31m---------------------------------------------------------------------------\u001b[0m",
      "\u001b[0;31mFileNotFoundError\u001b[0m                         Traceback (most recent call last)",
      "\u001b[0;32m/tmp/ipykernel_2248567/2995138559.py\u001b[0m in \u001b[0;36m<module>\u001b[0;34m\u001b[0m\n\u001b[0;32m----> 1\u001b[0;31m \u001b[0mdataset\u001b[0m\u001b[0;34m[\u001b[0m\u001b[0;36m1\u001b[0m\u001b[0;34m]\u001b[0m\u001b[0;34m\u001b[0m\u001b[0;34m\u001b[0m\u001b[0m\n\u001b[0m",
      "\u001b[0;32m/home/dataset/AIHUB/tool/open_dataset.py\u001b[0m in \u001b[0;36m__getitem__\u001b[0;34m(self, index)\u001b[0m\n\u001b[1;32m     32\u001b[0m         \u001b[0mimg_path\u001b[0m\u001b[0;34m,\u001b[0m \u001b[0mlabel_path\u001b[0m \u001b[0;34m=\u001b[0m \u001b[0mself\u001b[0m\u001b[0;34m.\u001b[0m\u001b[0mget_sample_path\u001b[0m\u001b[0;34m(\u001b[0m\u001b[0mindex\u001b[0m\u001b[0;34m)\u001b[0m\u001b[0;34m\u001b[0m\u001b[0;34m\u001b[0m\u001b[0m\n\u001b[1;32m     33\u001b[0m         \u001b[0mimg\u001b[0m \u001b[0;34m=\u001b[0m \u001b[0mself\u001b[0m\u001b[0;34m.\u001b[0m\u001b[0mload_image\u001b[0m\u001b[0;34m(\u001b[0m\u001b[0mimg_path\u001b[0m\u001b[0;34m)\u001b[0m\u001b[0;34m\u001b[0m\u001b[0;34m\u001b[0m\u001b[0m\n\u001b[0;32m---> 34\u001b[0;31m         \u001b[0mlabel\u001b[0m \u001b[0;34m=\u001b[0m \u001b[0mself\u001b[0m\u001b[0;34m.\u001b[0m\u001b[0mload_label\u001b[0m\u001b[0;34m(\u001b[0m\u001b[0mlabel_path\u001b[0m\u001b[0;34m)\u001b[0m\u001b[0;34m\u001b[0m\u001b[0;34m\u001b[0m\u001b[0m\n\u001b[0m\u001b[1;32m     35\u001b[0m         \u001b[0;32mreturn\u001b[0m \u001b[0mimg\u001b[0m\u001b[0;34m,\u001b[0m \u001b[0mlabel\u001b[0m\u001b[0;34m\u001b[0m\u001b[0;34m\u001b[0m\u001b[0m\n\u001b[1;32m     36\u001b[0m \u001b[0;34m\u001b[0m\u001b[0m\n",
      "\u001b[0;32m/home/dataset/AIHUB/tool/aihub.py\u001b[0m in \u001b[0;36mload_label\u001b[0;34m(self, path)\u001b[0m\n\u001b[1;32m     21\u001b[0m \u001b[0;34m\u001b[0m\u001b[0m\n\u001b[1;32m     22\u001b[0m     \u001b[0;32mdef\u001b[0m \u001b[0mload_label\u001b[0m\u001b[0;34m(\u001b[0m\u001b[0mself\u001b[0m\u001b[0;34m,\u001b[0m \u001b[0mpath\u001b[0m\u001b[0;34m)\u001b[0m\u001b[0;34m:\u001b[0m\u001b[0;34m\u001b[0m\u001b[0;34m\u001b[0m\u001b[0m\n\u001b[0;32m---> 23\u001b[0;31m         \u001b[0;32mwith\u001b[0m \u001b[0mopen\u001b[0m\u001b[0;34m(\u001b[0m\u001b[0mpath\u001b[0m\u001b[0;34m)\u001b[0m \u001b[0;32mas\u001b[0m \u001b[0mf\u001b[0m\u001b[0;34m:\u001b[0m\u001b[0;34m\u001b[0m\u001b[0;34m\u001b[0m\u001b[0m\n\u001b[0m\u001b[1;32m     24\u001b[0m             \u001b[0;32mreturn\u001b[0m \u001b[0mjson\u001b[0m\u001b[0;34m.\u001b[0m\u001b[0mload\u001b[0m\u001b[0;34m(\u001b[0m\u001b[0mf\u001b[0m\u001b[0;34m)\u001b[0m\u001b[0;34m\u001b[0m\u001b[0;34m\u001b[0m\u001b[0m\n\u001b[1;32m     25\u001b[0m \u001b[0;34m\u001b[0m\u001b[0m\n",
      "\u001b[0;31mFileNotFoundError\u001b[0m: [Errno 2] No such file or directory: '/home/dataset/AIHUB/temp/VS1/1.간판/가로형간판/간판_가로형간판_018843.json'"
     ]
    }
   ],
   "source": [
    "dataset[1]"
   ]
  },
  {
   "cell_type": "code",
   "execution_count": 8,
   "metadata": {},
   "outputs": [],
   "source": [
    "from pathlib import Path\n",
    "Path(\"/home/dataset/hello/test1.txt\").parent.mkdir(parents=True, exist_ok=True)\n",
    "Path(\"/home/dataset/test1.txt\").rename(\"/home/dataset/hello/test1.txt\")"
   ]
  },
  {
   "cell_type": "code",
   "execution_count": 11,
   "metadata": {},
   "outputs": [
    {
     "ename": "FileNotFoundError",
     "evalue": "[Errno 2] No such file or directory: '/home/dataset/hello/hello/test1.txt' -> '/home/dataset/hello/hello/hello/test1.txt'",
     "output_type": "error",
     "traceback": [
      "\u001b[0;31m---------------------------------------------------------------------------\u001b[0m",
      "\u001b[0;31mFileNotFoundError\u001b[0m                         Traceback (most recent call last)",
      "\u001b[0;32m/tmp/ipykernel_2248567/1854688777.py\u001b[0m in \u001b[0;36m<module>\u001b[0;34m\u001b[0m\n\u001b[0;32m----> 1\u001b[0;31m \u001b[0mPath\u001b[0m\u001b[0;34m(\u001b[0m\u001b[0;34m\"/home/dataset/hello/hello/test1.txt\"\u001b[0m\u001b[0;34m)\u001b[0m\u001b[0;34m.\u001b[0m\u001b[0mreplace\u001b[0m\u001b[0;34m(\u001b[0m\u001b[0;34m\"/home/dataset/hello/hello/hello/test1.txt\"\u001b[0m\u001b[0;34m)\u001b[0m\u001b[0;34m\u001b[0m\u001b[0;34m\u001b[0m\u001b[0m\n\u001b[0m",
      "\u001b[0;32m/usr/lib/python3.7/pathlib.py\u001b[0m in \u001b[0;36mreplace\u001b[0;34m(self, target)\u001b[0m\n\u001b[1;32m   1341\u001b[0m         \u001b[0;32mif\u001b[0m \u001b[0mself\u001b[0m\u001b[0;34m.\u001b[0m\u001b[0m_closed\u001b[0m\u001b[0;34m:\u001b[0m\u001b[0;34m\u001b[0m\u001b[0;34m\u001b[0m\u001b[0m\n\u001b[1;32m   1342\u001b[0m             \u001b[0mself\u001b[0m\u001b[0;34m.\u001b[0m\u001b[0m_raise_closed\u001b[0m\u001b[0;34m(\u001b[0m\u001b[0;34m)\u001b[0m\u001b[0;34m\u001b[0m\u001b[0;34m\u001b[0m\u001b[0m\n\u001b[0;32m-> 1343\u001b[0;31m         \u001b[0mself\u001b[0m\u001b[0;34m.\u001b[0m\u001b[0m_accessor\u001b[0m\u001b[0;34m.\u001b[0m\u001b[0mreplace\u001b[0m\u001b[0;34m(\u001b[0m\u001b[0mself\u001b[0m\u001b[0;34m,\u001b[0m \u001b[0mtarget\u001b[0m\u001b[0;34m)\u001b[0m\u001b[0;34m\u001b[0m\u001b[0;34m\u001b[0m\u001b[0m\n\u001b[0m\u001b[1;32m   1344\u001b[0m \u001b[0;34m\u001b[0m\u001b[0m\n\u001b[1;32m   1345\u001b[0m     \u001b[0;32mdef\u001b[0m \u001b[0msymlink_to\u001b[0m\u001b[0;34m(\u001b[0m\u001b[0mself\u001b[0m\u001b[0;34m,\u001b[0m \u001b[0mtarget\u001b[0m\u001b[0;34m,\u001b[0m \u001b[0mtarget_is_directory\u001b[0m\u001b[0;34m=\u001b[0m\u001b[0;32mFalse\u001b[0m\u001b[0;34m)\u001b[0m\u001b[0;34m:\u001b[0m\u001b[0;34m\u001b[0m\u001b[0;34m\u001b[0m\u001b[0m\n",
      "\u001b[0;31mFileNotFoundError\u001b[0m: [Errno 2] No such file or directory: '/home/dataset/hello/hello/test1.txt' -> '/home/dataset/hello/hello/hello/test1.txt'"
     ]
    }
   ],
   "source": [
    "Path(\"/home/dataset/hello/hello/test1.txt\").replace(\"/home/dataset/hello/hello/hello/test1.txt\")"
   ]
  },
  {
   "cell_type": "code",
   "execution_count": null,
   "metadata": {},
   "outputs": [],
   "source": []
  },
  {
   "cell_type": "code",
   "execution_count": 13,
   "metadata": {},
   "outputs": [],
   "source": [
    "ROOT = \"/home/\"\n",
    "\n",
    "\n",
    "def move(origin_path, target_path):\n",
    "    origin_path = Path(origin_path)\n",
    "    target_path = Path(target_path)\n",
    "    target_path.parent.mkdir(parents=True, exist_ok=True)\n",
    "    origin_path.rename(target_path)\n",
    "\n",
    "\n",
    "move(\"/home/dataset/hello/test1.txt\", \"/home/dataset/hello/hello/test1.txt\")\n",
    "\n",
    "    \n",
    "    "
   ]
  },
  {
   "cell_type": "code",
   "execution_count": 15,
   "metadata": {},
   "outputs": [
    {
     "data": {
      "text/plain": [
       "'{\"1\": 2}'"
      ]
     },
     "execution_count": 15,
     "metadata": {},
     "output_type": "execute_result"
    }
   ],
   "source": [
    "import json\n",
    "\n",
    "json.dumps({\"1\":2})\n"
   ]
  },
  {
   "cell_type": "code",
   "execution_count": null,
   "metadata": {},
   "outputs": [],
   "source": []
  }
 ],
 "metadata": {
  "kernelspec": {
   "display_name": "Python 3",
   "language": "python",
   "name": "python3"
  },
  "language_info": {
   "codemirror_mode": {
    "name": "ipython",
    "version": 3
   },
   "file_extension": ".py",
   "mimetype": "text/x-python",
   "name": "python",
   "nbconvert_exporter": "python",
   "pygments_lexer": "ipython3",
   "version": "3.7.14"
  }
 },
 "nbformat": 4,
 "nbformat_minor": 2
}
