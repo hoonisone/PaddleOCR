{
 "cells": [
  {
   "cell_type": "markdown",
   "metadata": {},
   "source": [
    "# Model"
   ]
  },
  {
   "cell_type": "code",
   "execution_count": 1,
   "metadata": {},
   "outputs": [
    {
     "data": {
      "text/plain": [
       "{'inference_model': 'E:/workspace/paddleocr/models/en_PP-OCRv3_det/inference_model/Student/inference.pdmodel',\n",
       " 'inference_model_dir': 'E:/workspace/paddleocr/models/en_PP-OCRv3_det/inference_model/Student',\n",
       " 'inference_model_weight': 'E:/workspace/paddleocr/models/en_PP-OCRv3_det/inference_model/Student/inference.pdiparams',\n",
       " 'pretrained_model_dir': 'E:/workspace/paddleocr/models/en_PP-OCRv3_det/pretrained_model',\n",
       " 'pretrained_model_weight': 'E:/workspace/paddleocr/models/en_PP-OCRv3_det/pretrained_model/pretrained.pdparams',\n",
       " 'train_config': 'E:/workspace/paddleocr/models/en_PP-OCRv3_det/pretrained_model/config.yml'}"
      ]
     },
     "execution_count": 1,
     "metadata": {},
     "output_type": "execute_result"
    }
   ],
   "source": [
    "from database import *\n",
    "modeldb = ModelDB()\n",
    "import os\n",
    "# modeldb.get_config(\"en_PP-OCRv3_det\")\n",
    "modeldb.get_all_id()\n",
    "modeldb.get_config(\"en_PP-OCRv3_det\", relative_to=\"absolute\")\n",
    "# for id in modeldb.get_all_id():\n",
    "#     print(id)\n",
    "#     modeldb.make_inference_model(id)"
   ]
  }
 ],
 "metadata": {
  "kernelspec": {
   "display_name": "Python 3",
   "language": "python",
   "name": "python3"
  },
  "language_info": {
   "codemirror_mode": {
    "name": "ipython",
    "version": 3
   },
   "file_extension": ".py",
   "mimetype": "text/x-python",
   "name": "python",
   "nbconvert_exporter": "python",
   "pygments_lexer": "ipython3",
   "version": "3.7.14"
  }
 },
 "nbformat": 4,
 "nbformat_minor": 2
}
