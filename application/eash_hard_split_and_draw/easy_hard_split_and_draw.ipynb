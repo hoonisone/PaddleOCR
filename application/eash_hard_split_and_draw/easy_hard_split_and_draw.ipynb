{
 "cells": [
  {
   "cell_type": "code",
   "execution_count": 11,
   "metadata": {},
   "outputs": [],
   "source": [
    "from rapidfuzz.distance import Levenshtein\n",
    "import string\n",
    "\n",
    "from termios import VKILL\n",
    "import numpy as np\n",
    "import random\n",
    "\n",
    "\n",
    "def norm_edit_dis(pred, target):\n",
    "    ignore_space = True\n",
    "    is_filter = False\n",
    "\n",
    "    def _normalize_text(text):\n",
    "        text = ''.join(\n",
    "            filter(lambda x: x in (string.digits + string.ascii_letters), text))\n",
    "        return text.lower()\n",
    "        \n",
    "    if ignore_space:\n",
    "        pred = pred.replace(\" \", \"\")\n",
    "        target = target.replace(\" \", \"\")\n",
    "    if is_filter:\n",
    "        pred = _normalize_text(pred)\n",
    "        target = _normalize_text(target)\n",
    "    # return\n",
    "    return Levenshtein.normalized_distance(pred, target)\n",
    "\n",
    "\n",
    "from PIL import Image\n",
    "\n",
    "def get_shape(path):\n",
    "    image = Image.open(path)\n",
    "    w, h = image.size\n",
    "    if h > w*2:\n",
    "        return \"Vertical\"\n",
    "    elif h*2 < w:\n",
    "        return \"Horizontal\"\n",
    "    else:\n",
    "        return \"Square\"\n",
    "\n",
    "import string\n",
    "\n",
    "\n",
    "alphabet = list(string.ascii_lowercase)+list(string.ascii_uppercase)\n",
    "def get_language(text):\n",
    "    for char in text:\n",
    "        if char in alphabet:\n",
    "            return \"English\"\n",
    "    return \"Korean\"\n",
    "\n",
    "def get_count(data_list):\n",
    "\n",
    "    # 범위를 나누어 개수를 세기 위한 리스트 생성\n",
    "    count_list = []\n",
    "\n",
    "    # 0~100 범위를 5개 구간으로 나누고, 각 구간의 개수를 세서 count_list에 추가\n",
    "    for i in range(0, 101, 5):\n",
    "        count = sum(1 for num in data_list if i <= num < i + 5)\n",
    "        count_list.append(count)\n",
    "\n",
    "    return np.array(count_list)\n",
    "    "
   ]
  },
  {
   "cell_type": "code",
   "execution_count": 24,
   "metadata": {},
   "outputs": [
    {
     "name": "stdout",
     "output_type": "stream",
     "text": [
      "5417 122\n"
     ]
    }
   ],
   "source": [
    "\n",
    "\n",
    "result_path = \"/home/works/rec_PPOCR_sangmu_and_outsourcing_final_v5_1/inference_result\"\n",
    "answer_path = \"/home/labelsets/sangmu_test_v1/eval_label.txt\"\n",
    "\n",
    "\n",
    "with open(answer_path) as f:\n",
    "    answer = [line.rstrip(\"\\n\").split(\"\\t\") for line in f.readlines()]\n",
    "    answer = {\"datasets/\"+k: v for k, v in answer}\n",
    "\n",
    "with open(result_path) as f:\n",
    "    target = [line.rstrip(\"\\n\").split(\"\\t\") for line in f.readlines()]\n",
    "    target = {k: v for k, v, _ in target}\n",
    "    # answer = {k: v for k, v in answer}\n",
    "\n",
    "result = []\n",
    "\n",
    "for path, pred in target.items():\n",
    "    label = answer[path]    \n",
    "    dis = norm_edit_dis(pred, label)\n",
    "    level = \"hard\" if dis > 0.6 else \"easy\"\n",
    "    lang = get_language(label)\n",
    "    shape = get_shape(\"home/\"+path)\n",
    "    result.append([path, pred, label, dis, level, lang, shape])\n",
    "     \n",
    "shape_list = [\"Vertical\", \"Square\", \"Horizontal\"]\n",
    "langage_list = [\"English\", \"Korean\"]\n",
    "distance = {shape: {lang: []for lang in langage_list}for shape in shape_list}\n",
    "\n",
    "\n",
    "for path, pred, label, dis, level, lang, shape in result:\n",
    "    distance[shape][lang].append(dis)\n",
    "\n",
    "for shape in shape_list:\n",
    "    for lang in langage_list:\n",
    "        x = distance[shape][lang]\n",
    "        x = 100 - np.array(np.array(x)*10, dtype=int)*10\n",
    "        distance[shape][lang] = x\n",
    "\n",
    "\n",
    "hard = easy = 0\n",
    "with open(\"/home/easy.txt\", \"w\") as easy_f:\n",
    "    with open(\"/home/hard.txt\", \"w\") as hard_f:\n",
    "        for path, pred, label, dis, level, lang, shape in result:\n",
    "            if level == \"hard\":\n",
    "                if random.random() < 0.5:\n",
    "                    hard += 1\n",
    "                    hard_f.write(f\"{path}\\t{label}\\n\")\n",
    "                else:\n",
    "                    easy += 1\n",
    "                    easy_f.write(f\"{path}\\t{label}\\n\")\n",
    "            else:\n",
    "                easy += 1\n",
    "                easy_f.write(f\"{path}\\t{label}\\n\")\n",
    "\n",
    "print(easy, hard)\n"
   ]
  },
  {
   "cell_type": "code",
   "execution_count": 10,
   "metadata": {},
   "outputs": [
    {
     "data": {
      "text/plain": [
       "0.6008285268604632"
      ]
     },
     "execution_count": 10,
     "metadata": {},
     "output_type": "execute_result"
    }
   ],
   "source": []
  },
  {
   "cell_type": "code",
   "execution_count": 4,
   "metadata": {},
   "outputs": [
    {
     "data": {
      "text/plain": [
       "{'Vertical': {'English': 80, 'Korean': 329},\n",
       " 'Square': {'English': 823, 'Korean': 1031},\n",
       " 'Horizontal': {'English': 1316, 'Korean': 1960}}"
      ]
     },
     "execution_count": 4,
     "metadata": {},
     "output_type": "execute_result"
    }
   ],
   "source": [
    "num = {shape: {lang: []for lang in langage_list}for shape in shape_list}\n",
    "for shape in shape_list:\n",
    "    for lang in langage_list:\n",
    "        num[shape][lang] = len(distance[shape][lang])\n",
    "num"
   ]
  },
  {
   "cell_type": "code",
   "execution_count": 19,
   "metadata": {},
   "outputs": [
    {
     "data": {
      "image/png": "[encoded data removed]",
      "text/plain": [
       "<Figure size 1000x600 with 1 Axes>"
      ]
     },
     "metadata": {},
     "output_type": "display_data"
    }
   ],
   "source": [
    "import matplotlib.pyplot as plt\n",
    "import numpy as np\n",
    "\n",
    "# 각 항목의 데이터 생성\n",
    "data = {\n",
    "    \"V_KOR\": get_count(distance[\"Vertical\"][\"Korean\"]),\n",
    "    \"V_ENG\": get_count(distance[\"Vertical\"][\"English\"]),\n",
    "    \"S_KOR\": get_count(distance[\"Square\"][\"Korean\"]),\n",
    "    \"S_ENG\": get_count(distance[\"Square\"][\"English\"]),\n",
    "    \"H_KOR\": get_count(distance[\"Horizontal\"][\"Korean\"]),\n",
    "    \"H_ENG\": get_count(distance[\"Horizontal\"][\"English\"])\n",
    "}\n",
    "\n",
    "data[\"V_ENG\"] = data[\"V_ENG\"]/num[\"Vertical\"][\"English\"] \n",
    "data[\"V_KOR\"] = data[\"V_KOR\"]/num[\"Vertical\"][\"Korean\"]\n",
    "data[\"S_ENG\"] = data[\"S_ENG\"]/num[\"Square\"][\"English\"]\n",
    "data[\"S_KOR\"] = data[\"S_KOR\"]/num[\"Square\"][\"Korean\"]\n",
    "data[\"H_ENG\"] = data[\"H_ENG\"]/num[\"Horizontal\"][\"English\"]\n",
    "data[\"H_KOR\"] = data[\"H_KOR\"]/num[\"Horizontal\"][\"Korean\"]\n",
    "\n",
    "\n",
    "data[\"V_KOR\"] += data[\"V_ENG\"]\n",
    "data[\"S_KOR\"] += data[\"S_ENG\"]\n",
    "data[\"H_KOR\"] += data[\"H_ENG\"]\n",
    "\n",
    "# 데이터 그룹화\n",
    "group1 = [\"V_KOR\", \"S_KOR\", \"H_KOR\"]\n",
    "color1=['orange', 'limegreen', 'skyblue']\n",
    "\n",
    "group2 = [\"V_ENG\", \"S_ENG\", \"H_ENG\"]\n",
    "color2=['red', 'green', 'blue']\n",
    "\n",
    "# 그래프 그리기\n",
    "plt.figure(figsize=(10, 6))\n",
    "\n",
    "bar_width = 2/100\n",
    "\n",
    "\n",
    "\n",
    "\n",
    "# 첫 번째 그룹 그리기\n",
    "for i in range(len(group1)):\n",
    "    key = group1[i]\n",
    "    plt.bar((np.arange(len(data[key]))*5)/100+bar_width * i, data[key], width=bar_width, label=key, color=color1[i])\n",
    "    key = group2[i]\n",
    "    plt.bar((np.arange(len(data[key]))*5)/100 + bar_width * i, data[key], width=bar_width, label=key, color=color2[i])\n",
    "\n",
    "# 두 번째 그룹 그리기 (첫 번째 그룹 위에 중첩)\n",
    "# for i, key in enumerate(group2):\n",
    "\n",
    "# 범례 추가\n",
    "plt.legend(loc='upper left', fancybox=True, shadow=True, ncol=3)\n",
    "\n",
    "# 그래프 제목 및 축 레이블 설정\n",
    "plt.title('Histograms by shape and language')\n",
    "plt.xlabel('1-norm_edit')\n",
    "plt.ylabel('Frequency')\n",
    "\n",
    "# x축 눈금과 레이블 설정\n",
    "# plt.xticks(range(len(data[\"V_KOR\"])), [f'Category {i+1}' for i in range(len(data[\"V_KOR\"]))])\n",
    "plt.xticks(np.arange(0, 101, 10)/100)\n",
    "\n",
    "# 그래프 보이기\n",
    "plt.show()\n"
   ]
  },
  {
   "cell_type": "code",
   "execution_count": 10,
   "metadata": {},
   "outputs": [
    {
     "data": {
      "text/plain": [
       "array([0.04, 0.09, 0.14, 0.19, 0.24, 0.29, 0.34, 0.39, 0.44, 0.49, 0.54,\n",
       "       0.59, 0.64, 0.69, 0.74, 0.79, 0.84, 0.89, 0.94, 0.99, 1.04])"
      ]
     },
     "execution_count": 10,
     "metadata": {},
     "output_type": "execute_result"
    }
   ],
   "source": [
    "(np.arange(len(data[key]))*5 + bar_width * i)/100"
   ]
  },
  {
   "cell_type": "code",
   "execution_count": null,
   "metadata": {},
   "outputs": [],
   "source": []
  }
 ],
 "metadata": {
  "kernelspec": {
   "display_name": ".venv",
   "language": "python",
   "name": "python3"
  },
  "language_info": {
   "codemirror_mode": {
    "name": "ipython",
    "version": 3
   },
   "file_extension": ".py",
   "mimetype": "text/x-python",
   "name": "python",
   "nbconvert_exporter": "python",
   "pygments_lexer": "ipython3",
   "version": "3.7.14"
  }
 },
 "nbformat": 4,
 "nbformat_minor": 2
}
