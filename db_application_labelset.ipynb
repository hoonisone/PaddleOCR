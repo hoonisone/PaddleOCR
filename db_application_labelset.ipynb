{
 "cells": [
  {
   "cell_type": "markdown",
   "metadata": {},
   "source": [
    "# Labelset"
   ]
  },
  {
   "cell_type": "code",
   "execution_count": 1,
   "metadata": {},
   "outputs": [],
   "source": [
    "import pandas as pd\n",
    "\n",
    "# 데이터프레임 출력 설정 변경\n",
    "pd.set_option(\"display.max_columns\", None)  # 모든 열 출력\n",
    "pd.set_option(\"display.max_rows\", None)     # 모든 행 출력\n",
    "pd.set_option(\"display.max_colwidth\", None) # 열 너비 제한 해제\n",
    "pd.set_option(\"display.width\", 0)           # 자동 줄바꿈 비활성화"
   ]
  },
  {
   "cell_type": "code",
   "execution_count": 2,
   "metadata": {},
   "outputs": [
    {
     "data": {
      "text/plain": [
       "[]"
      ]
     },
     "execution_count": 2,
     "metadata": {},
     "output_type": "execute_result"
    }
   ],
   "source": [
    "from database import *\n",
    "labelsetdb = LabelsetDB()\n",
    "labelsetdb.get_all_id()"
   ]
  },
  {
   "cell_type": "code",
   "execution_count": 2,
   "metadata": {},
   "outputs": [
    {
     "ename": "NameError",
     "evalue": "name 'DatasetDB2' is not defined",
     "output_type": "error",
     "traceback": [
      "\u001b[0;31m---------------------------------------------------------------------------\u001b[0m",
      "\u001b[0;31mNameError\u001b[0m                                 Traceback (most recent call last)",
      "\u001b[0;32m/tmp/ipykernel_11073/2750664378.py\u001b[0m in \u001b[0;36m<module>\u001b[0;34m\u001b[0m\n\u001b[1;32m      1\u001b[0m \u001b[0;32mfrom\u001b[0m \u001b[0mdatabase\u001b[0m \u001b[0;32mimport\u001b[0m \u001b[0;34m*\u001b[0m\u001b[0;34m\u001b[0m\u001b[0;34m\u001b[0m\u001b[0m\n\u001b[0;32m----> 2\u001b[0;31m \u001b[0mdatadb\u001b[0m \u001b[0;34m=\u001b[0m \u001b[0mDatasetDB2\u001b[0m\u001b[0;34m(\u001b[0m\u001b[0;34m)\u001b[0m\u001b[0;34m\u001b[0m\u001b[0;34m\u001b[0m\u001b[0m\n\u001b[0m\u001b[1;32m      3\u001b[0m \u001b[0mdatadb\u001b[0m\u001b[0;34m.\u001b[0m\u001b[0mrecord_names\u001b[0m\u001b[0;34m(\u001b[0m\u001b[0;34m)\u001b[0m\u001b[0;34m\u001b[0m\u001b[0;34m\u001b[0m\u001b[0m\n",
      "\u001b[0;31mNameError\u001b[0m: name 'DatasetDB2' is not defined"
     ]
    }
   ],
   "source": [
    "from database import *\n",
    "datadb = DatasetDB2()\n",
    "datadb.record_names()"
   ]
  },
  {
   "cell_type": "code",
   "execution_count": 4,
   "metadata": {},
   "outputs": [
    {
     "data": {
      "text/plain": [
       "[PosixPath('/home/datasets/sangmu_str_MH/dataset_config.yml'),\n",
       " PosixPath('/home/datasets/sangmu_str_DI/dataset_config.yml'),\n",
       " PosixPath('/home/datasets/sangmu_str_DH/dataset_config.yml'),\n",
       " PosixPath('/home/datasets/sangmu_str_MH_v2/dataset_config.yml'),\n",
       " PosixPath('/home/datasets/sangmu_str_DI_v2/dataset_config.yml'),\n",
       " PosixPath('/home/datasets/sangmu_str_DH_v2/dataset_config.yml'),\n",
       " PosixPath('/home/datasets/aihub_rec/dataset_config.yml'),\n",
       " PosixPath('/home/datasets/rec_SVTP/dataset_config.yml'),\n",
       " PosixPath('/home/datasets/rec_SVT/dataset_config.yml'),\n",
       " PosixPath('/home/datasets/rec_IIIT5K/dataset_config.yml'),\n",
       " PosixPath('/home/datasets/rec_ic15/dataset_config.yml'),\n",
       " PosixPath('/home/datasets/rec_ic13/dataset_config.yml'),\n",
       " PosixPath('/home/datasets/rec_ic03/dataset_config.yml'),\n",
       " PosixPath('/home/datasets/rec_CUTE80/dataset_config.yml'),\n",
       " PosixPath('/home/datasets/det_signboard2/dataset_config.yml'),\n",
       " PosixPath('/home/datasets/sangmu_std_DH/dataset_config.yml'),\n",
       " PosixPath('/home/datasets/sangmu_std_DI/dataset_config.yml'),\n",
       " PosixPath('/home/datasets/sangmu_std_MH/dataset_config.yml'),\n",
       " PosixPath('/home/datasets/GIST_rec1/dataset_config.yml'),\n",
       " PosixPath('/home/datasets/GIST_rec2/dataset_config.yml')]"
      ]
     },
     "execution_count": 4,
     "metadata": {},
     "output_type": "execute_result"
    }
   ],
   "source": [
    "from pathlib import Path\n",
    "\n",
    "list(Path(\"/home/datasets\").rglob(\"dataset_config.yml\"))"
   ]
  },
  {
   "cell_type": "code",
   "execution_count": 6,
   "metadata": {},
   "outputs": [
    {
     "data": {
      "text/html": [
       "<div>\n",
       "<style scoped>\n",
       "    .dataframe tbody tr th:only-of-type {\n",
       "        vertical-align: middle;\n",
       "    }\n",
       "\n",
       "    .dataframe tbody tr th {\n",
       "        vertical-align: top;\n",
       "    }\n",
       "\n",
       "    .dataframe thead th {\n",
       "        text-align: right;\n",
       "    }\n",
       "</style>\n",
       "<table border=\"1\" class=\"dataframe\">\n",
       "  <thead>\n",
       "    <tr style=\"text-align: right;\">\n",
       "      <th></th>\n",
       "      <th>id</th>\n",
       "      <th>name</th>\n",
       "      <th>size</th>\n",
       "    </tr>\n",
       "  </thead>\n",
       "  <tbody>\n",
       "    <tr>\n",
       "      <th>0</th>\n",
       "      <td>0</td>\n",
       "      <td>GIST_full_test/main</td>\n",
       "      <td>32872</td>\n",
       "    </tr>\n",
       "    <tr>\n",
       "      <th>1</th>\n",
       "      <td>1</td>\n",
       "      <td>GIST_full_test/horizontal/main</td>\n",
       "      <td>24662</td>\n",
       "    </tr>\n",
       "    <tr>\n",
       "      <th>2</th>\n",
       "      <td>3</td>\n",
       "      <td>GIST_full_test/horizontal/korean/normal</td>\n",
       "      <td>4116</td>\n",
       "    </tr>\n",
       "    <tr>\n",
       "      <th>3</th>\n",
       "      <td>4</td>\n",
       "      <td>GIST_full_test/horizontal/korean/easy</td>\n",
       "      <td>5242</td>\n",
       "    </tr>\n",
       "    <tr>\n",
       "      <th>4</th>\n",
       "      <td>5</td>\n",
       "      <td>GIST_full_test/horizontal/korean/hard</td>\n",
       "      <td>348</td>\n",
       "    </tr>\n",
       "    <tr>\n",
       "      <th>5</th>\n",
       "      <td>6</td>\n",
       "      <td>GIST_full_test/horizontal/korean/unseen</td>\n",
       "      <td>5</td>\n",
       "    </tr>\n",
       "    <tr>\n",
       "      <th>6</th>\n",
       "      <td>7</td>\n",
       "      <td>GIST_full_test/horizontal/korean/main</td>\n",
       "      <td>9711</td>\n",
       "    </tr>\n",
       "    <tr>\n",
       "      <th>7</th>\n",
       "      <td>8</td>\n",
       "      <td>KAIST_rec_full_test/main</td>\n",
       "      <td>5307</td>\n",
       "    </tr>\n",
       "    <tr>\n",
       "      <th>8</th>\n",
       "      <td>9</td>\n",
       "      <td>KAIST_rec_full_test/horizontal/korean/normal</td>\n",
       "      <td>1297</td>\n",
       "    </tr>\n",
       "    <tr>\n",
       "      <th>9</th>\n",
       "      <td>10</td>\n",
       "      <td>KAIST_rec_full_test/horizontal/korean/main</td>\n",
       "      <td>2628</td>\n",
       "    </tr>\n",
       "    <tr>\n",
       "      <th>10</th>\n",
       "      <td>11</td>\n",
       "      <td>KAIST_rec_full_test/horizontal/korean/unseen</td>\n",
       "      <td>2</td>\n",
       "    </tr>\n",
       "    <tr>\n",
       "      <th>11</th>\n",
       "      <td>12</td>\n",
       "      <td>KAIST_rec_full_test/horizontal/korean/hard</td>\n",
       "      <td>153</td>\n",
       "    </tr>\n",
       "    <tr>\n",
       "      <th>12</th>\n",
       "      <td>13</td>\n",
       "      <td>KAIST_rec_full_test/horizontal/korean/easy</td>\n",
       "      <td>1176</td>\n",
       "    </tr>\n",
       "    <tr>\n",
       "      <th>13</th>\n",
       "      <td>14</td>\n",
       "      <td>aihub_rec_full_horizontal_clean_80:10:10/train/main</td>\n",
       "      <td>508666</td>\n",
       "    </tr>\n",
       "    <tr>\n",
       "      <th>14</th>\n",
       "      <td>15</td>\n",
       "      <td>aihub_rec_full_horizontal_clean_80:10:10/train/char_remove_10</td>\n",
       "      <td>490642</td>\n",
       "    </tr>\n",
       "    <tr>\n",
       "      <th>15</th>\n",
       "      <td>16</td>\n",
       "      <td>aihub_rec_full_horizontal_clean_80:10:10/train/char_remove_20</td>\n",
       "      <td>485314</td>\n",
       "    </tr>\n",
       "    <tr>\n",
       "      <th>16</th>\n",
       "      <td>17</td>\n",
       "      <td>aihub_rec_full_horizontal_clean_80:10:10/train/char_remove_30</td>\n",
       "      <td>479611</td>\n",
       "    </tr>\n",
       "    <tr>\n",
       "      <th>17</th>\n",
       "      <td>18</td>\n",
       "      <td>aihub_rec_full_horizontal_clean_80:10:10/train/char_remove_40</td>\n",
       "      <td>474533</td>\n",
       "    </tr>\n",
       "    <tr>\n",
       "      <th>18</th>\n",
       "      <td>19</td>\n",
       "      <td>aihub_rec_full_horizontal_clean_80:10:10/train/char_remove_50</td>\n",
       "      <td>461677</td>\n",
       "    </tr>\n",
       "    <tr>\n",
       "      <th>19</th>\n",
       "      <td>20</td>\n",
       "      <td>aihub_rec_full_horizontal_clean_80:10:10/test/main</td>\n",
       "      <td>63584</td>\n",
       "    </tr>\n",
       "    <tr>\n",
       "      <th>20</th>\n",
       "      <td>21</td>\n",
       "      <td>aihub_rec_full_horizontal_clean_80:10:10/test/verified/easy</td>\n",
       "      <td>36708</td>\n",
       "    </tr>\n",
       "    <tr>\n",
       "      <th>21</th>\n",
       "      <td>22</td>\n",
       "      <td>aihub_rec_full_horizontal_clean_80:10:10/test/verified/hard</td>\n",
       "      <td>2165</td>\n",
       "    </tr>\n",
       "    <tr>\n",
       "      <th>22</th>\n",
       "      <td>23</td>\n",
       "      <td>aihub_rec_full_horizontal_clean_80:10:10/test/verified/normal</td>\n",
       "      <td>23961</td>\n",
       "    </tr>\n",
       "    <tr>\n",
       "      <th>23</th>\n",
       "      <td>24</td>\n",
       "      <td>aihub_rec_full_horizontal_clean_80:10:10/test/verified/unseen</td>\n",
       "      <td>20</td>\n",
       "    </tr>\n",
       "    <tr>\n",
       "      <th>24</th>\n",
       "      <td>25</td>\n",
       "      <td>aihub_rec_full_horizontal_clean_80:10:10/test/verified/main</td>\n",
       "      <td>62854</td>\n",
       "    </tr>\n",
       "    <tr>\n",
       "      <th>25</th>\n",
       "      <td>26</td>\n",
       "      <td>aihub_rec_full_horizontal_clean_80:10:10/eval/main</td>\n",
       "      <td>63583</td>\n",
       "    </tr>\n",
       "    <tr>\n",
       "      <th>26</th>\n",
       "      <td>27</td>\n",
       "      <td>aihub_rec_full_horizontal_clean_80:10:10/eval/easy</td>\n",
       "      <td>36831</td>\n",
       "    </tr>\n",
       "    <tr>\n",
       "      <th>27</th>\n",
       "      <td>28</td>\n",
       "      <td>aihub_rec_full_horizontal_clean_80:10:10/eval/hard</td>\n",
       "      <td>2139</td>\n",
       "    </tr>\n",
       "    <tr>\n",
       "      <th>28</th>\n",
       "      <td>29</td>\n",
       "      <td>aihub_rec_full_horizontal_clean_80:10:10/eval/normal</td>\n",
       "      <td>24586</td>\n",
       "    </tr>\n",
       "    <tr>\n",
       "      <th>29</th>\n",
       "      <td>30</td>\n",
       "      <td>aihub_rec_full_horizontal_clean_80:10:10/eval/unseen</td>\n",
       "      <td>27</td>\n",
       "    </tr>\n",
       "    <tr>\n",
       "      <th>30</th>\n",
       "      <td>31</td>\n",
       "      <td>test</td>\n",
       "      <td>8000</td>\n",
       "    </tr>\n",
       "  </tbody>\n",
       "</table>\n",
       "</div>"
      ],
      "text/plain": [
       "    id                                                           name    size\n",
       "0    0                                            GIST_full_test/main   32872\n",
       "1    1                                 GIST_full_test/horizontal/main   24662\n",
       "2    3                        GIST_full_test/horizontal/korean/normal    4116\n",
       "3    4                          GIST_full_test/horizontal/korean/easy    5242\n",
       "4    5                          GIST_full_test/horizontal/korean/hard     348\n",
       "5    6                        GIST_full_test/horizontal/korean/unseen       5\n",
       "6    7                          GIST_full_test/horizontal/korean/main    9711\n",
       "7    8                                       KAIST_rec_full_test/main    5307\n",
       "8    9                   KAIST_rec_full_test/horizontal/korean/normal    1297\n",
       "9   10                     KAIST_rec_full_test/horizontal/korean/main    2628\n",
       "10  11                   KAIST_rec_full_test/horizontal/korean/unseen       2\n",
       "11  12                     KAIST_rec_full_test/horizontal/korean/hard     153\n",
       "12  13                     KAIST_rec_full_test/horizontal/korean/easy    1176\n",
       "13  14            aihub_rec_full_horizontal_clean_80:10:10/train/main  508666\n",
       "14  15  aihub_rec_full_horizontal_clean_80:10:10/train/char_remove_10  490642\n",
       "15  16  aihub_rec_full_horizontal_clean_80:10:10/train/char_remove_20  485314\n",
       "16  17  aihub_rec_full_horizontal_clean_80:10:10/train/char_remove_30  479611\n",
       "17  18  aihub_rec_full_horizontal_clean_80:10:10/train/char_remove_40  474533\n",
       "18  19  aihub_rec_full_horizontal_clean_80:10:10/train/char_remove_50  461677\n",
       "19  20             aihub_rec_full_horizontal_clean_80:10:10/test/main   63584\n",
       "20  21    aihub_rec_full_horizontal_clean_80:10:10/test/verified/easy   36708\n",
       "21  22    aihub_rec_full_horizontal_clean_80:10:10/test/verified/hard    2165\n",
       "22  23  aihub_rec_full_horizontal_clean_80:10:10/test/verified/normal   23961\n",
       "23  24  aihub_rec_full_horizontal_clean_80:10:10/test/verified/unseen      20\n",
       "24  25    aihub_rec_full_horizontal_clean_80:10:10/test/verified/main   62854\n",
       "25  26             aihub_rec_full_horizontal_clean_80:10:10/eval/main   63583\n",
       "26  27             aihub_rec_full_horizontal_clean_80:10:10/eval/easy   36831\n",
       "27  28             aihub_rec_full_horizontal_clean_80:10:10/eval/hard    2139\n",
       "28  29           aihub_rec_full_horizontal_clean_80:10:10/eval/normal   24586\n",
       "29  30           aihub_rec_full_horizontal_clean_80:10:10/eval/unseen      27\n",
       "30  31                                                           test    8000"
      ]
     },
     "execution_count": 6,
     "metadata": {},
     "output_type": "execute_result"
    }
   ],
   "source": [
    "from database import *\n",
    "datadb = DatasetDB()\n",
    "labelsetdb = LabelsetDB2()\n",
    "# names = labeldb.get_all_id()\n",
    "\n",
    "# labeldb.records\n",
    "# labelsetdb.validate_and_update()\n",
    "labelsetdb.get_record_table()\n",
    "# id = 0\n",
    "# for name in names:\n",
    "#     labelset = labeldb.get_record(name)\n",
    "#     config = labelset.get_config()\n",
    "#     config[\"id\"] = id\n",
    "#     id += 1\n",
    "#     labelset.update_config(config)\n",
    "\n",
    "# label_record = labeldb.get_record(\"GIST_full_test/horizontal/korean/full\")\n",
    "# label_record.get_config()\n",
    "# label_record.get_label()"
   ]
  },
  {
   "cell_type": "code",
   "execution_count": 6,
   "metadata": {},
   "outputs": [
    {
     "name": "stdout",
     "output_type": "stream",
     "text": [
      "3\n",
      "4\n",
      "5\n",
      "7\n",
      "9\n",
      "10\n",
      "12\n",
      "13\n",
      "21\n",
      "22\n",
      "23\n",
      "25\n"
     ]
    }
   ],
   "source": [
    "from database import *\n",
    "labelsetdb = LabelsetDB2()\n",
    "labelsetdb.record_names\n",
    "\n",
    "labelsets = [\"aihub_rec_full_horizontal_clean_80:10:10/test/verified/main\",\n",
    "\"aihub_rec_full_horizontal_clean_80:10:10/test/verified/easy\",\n",
    "\"aihub_rec_full_horizontal_clean_80:10:10/test/verified/normal\",\n",
    "\"aihub_rec_full_horizontal_clean_80:10:10/test/verified/hard\",\n",
    "\n",
    "\"GIST_full_test/horizontal/korean/main\",\n",
    "\"GIST_full_test/horizontal/korean/easy\",\n",
    "\"GIST_full_test/horizontal/korean/normal\",\n",
    "\"GIST_full_test/horizontal/korean/hard\",\n",
    "\n",
    "\"KAIST_rec_full_test/horizontal/korean/main\",\n",
    "\"KAIST_rec_full_test/horizontal/korean/easy\",\n",
    "\"KAIST_rec_full_test/horizontal/korean/normal\",\n",
    "\"KAIST_rec_full_test/horizontal/korean/hard\",]\n",
    "\n",
    "id_list = []\n",
    "for id, labelset in labelsetdb.records.items():\n",
    "    if labelset.name in labelsets:\n",
    "        id_list.append(id)\n",
    "        \n"
   ]
  },
  {
   "cell_type": "code",
   "execution_count": 1,
   "metadata": {},
   "outputs": [
    {
     "name": "stdout",
     "output_type": "stream",
     "text": [
      "/home/labelsets\n",
      "config.yml\n",
      "<generator object Path.glob at 0x7f8151809b50>\n"
     ]
    },
    {
     "ename": "ValueError",
     "evalue": "invalid literal for int() with base 10: 'GIST_full_test/main'",
     "output_type": "error",
     "traceback": [
      "\u001b[0;31m---------------------------------------------------------------------------\u001b[0m",
      "\u001b[0;31mValueError\u001b[0m                                Traceback (most recent call last)",
      "\u001b[0;32m/tmp/ipykernel_933365/3969425289.py\u001b[0m in \u001b[0;36m<module>\u001b[0;34m\u001b[0m\n\u001b[1;32m      1\u001b[0m \u001b[0;32mfrom\u001b[0m \u001b[0mdatabase\u001b[0m \u001b[0;32mimport\u001b[0m \u001b[0;34m*\u001b[0m\u001b[0;34m\u001b[0m\u001b[0;34m\u001b[0m\u001b[0m\n\u001b[1;32m      2\u001b[0m \u001b[0mlabelsetdb\u001b[0m \u001b[0;34m=\u001b[0m \u001b[0mLabelsetDB2\u001b[0m\u001b[0;34m(\u001b[0m\u001b[0;34m)\u001b[0m\u001b[0;34m\u001b[0m\u001b[0;34m\u001b[0m\u001b[0m\n\u001b[0;32m----> 3\u001b[0;31m \u001b[0mlabelsetdb\u001b[0m\u001b[0;34m.\u001b[0m\u001b[0mrecord_names\u001b[0m\u001b[0;34m\u001b[0m\u001b[0;34m\u001b[0m\u001b[0m\n\u001b[0m",
      "\u001b[0;32m/home/code/database/db.py\u001b[0m in \u001b[0;36mrecord_names\u001b[0;34m(self)\u001b[0m\n\u001b[1;32m    207\u001b[0m     \u001b[0;32mdef\u001b[0m \u001b[0mrecord_names\u001b[0m\u001b[0;34m(\u001b[0m\u001b[0mself\u001b[0m\u001b[0;34m)\u001b[0m\u001b[0;34m:\u001b[0m\u001b[0;34m\u001b[0m\u001b[0;34m\u001b[0m\u001b[0m\n\u001b[1;32m    208\u001b[0m         \u001b[0;32mif\u001b[0m \u001b[0mhasattr\u001b[0m\u001b[0;34m(\u001b[0m\u001b[0mself\u001b[0m\u001b[0;34m,\u001b[0m \u001b[0;34m\"__names\"\u001b[0m\u001b[0;34m)\u001b[0m \u001b[0;34m==\u001b[0m \u001b[0;32mFalse\u001b[0m\u001b[0;34m:\u001b[0m\u001b[0;34m\u001b[0m\u001b[0;34m\u001b[0m\u001b[0m\n\u001b[0;32m--> 209\u001b[0;31m             \u001b[0mself\u001b[0m\u001b[0;34m.\u001b[0m\u001b[0m__names\u001b[0m \u001b[0;34m=\u001b[0m \u001b[0mlist\u001b[0m\u001b[0;34m(\u001b[0m\u001b[0mself\u001b[0m\u001b[0;34m.\u001b[0m\u001b[0mrecord_id_to_name\u001b[0m\u001b[0;34m.\u001b[0m\u001b[0mvalues\u001b[0m\u001b[0;34m(\u001b[0m\u001b[0;34m)\u001b[0m\u001b[0;34m)\u001b[0m\u001b[0;34m\u001b[0m\u001b[0;34m\u001b[0m\u001b[0m\n\u001b[0m\u001b[1;32m    210\u001b[0m             \u001b[0mself\u001b[0m\u001b[0;34m.\u001b[0m\u001b[0m__names\u001b[0m\u001b[0;34m.\u001b[0m\u001b[0msort\u001b[0m\u001b[0;34m(\u001b[0m\u001b[0;34m)\u001b[0m\u001b[0;34m\u001b[0m\u001b[0;34m\u001b[0m\u001b[0m\n\u001b[1;32m    211\u001b[0m         \u001b[0;32mreturn\u001b[0m \u001b[0mself\u001b[0m\u001b[0;34m.\u001b[0m\u001b[0m__names\u001b[0m\u001b[0;34m\u001b[0m\u001b[0;34m\u001b[0m\u001b[0m\n",
      "\u001b[0;32m/home/code/database/db.py\u001b[0m in \u001b[0;36mrecord_id_to_name\u001b[0;34m(self)\u001b[0m\n\u001b[1;32m    232\u001b[0m \u001b[0;34m\u001b[0m\u001b[0m\n\u001b[1;32m    233\u001b[0m             \u001b[0;31m# 폴더 경로에서 id와 name을 추출\u001b[0m\u001b[0;34m\u001b[0m\u001b[0;34m\u001b[0m\u001b[0;34m\u001b[0m\u001b[0m\n\u001b[0;32m--> 234\u001b[0;31m             \u001b[0mid_and_names\u001b[0m \u001b[0;34m=\u001b[0m \u001b[0;34m[\u001b[0m\u001b[0mself\u001b[0m\u001b[0;34m.\u001b[0m\u001b[0mdecompose_dir_name\u001b[0m\u001b[0;34m(\u001b[0m\u001b[0mname\u001b[0m\u001b[0;34m)\u001b[0m \u001b[0;32mfor\u001b[0m \u001b[0mname\u001b[0m \u001b[0;32min\u001b[0m \u001b[0mnames\u001b[0m\u001b[0;34m]\u001b[0m\u001b[0;34m\u001b[0m\u001b[0;34m\u001b[0m\u001b[0m\n\u001b[0m\u001b[1;32m    235\u001b[0m             \u001b[0mid_to_name\u001b[0m \u001b[0;34m=\u001b[0m \u001b[0;34m{\u001b[0m\u001b[0mid\u001b[0m\u001b[0;34m:\u001b[0m\u001b[0mname\u001b[0m \u001b[0;32mfor\u001b[0m \u001b[0mid\u001b[0m\u001b[0;34m,\u001b[0m \u001b[0mname\u001b[0m \u001b[0;32min\u001b[0m \u001b[0mid_and_names\u001b[0m\u001b[0;34m}\u001b[0m\u001b[0;34m\u001b[0m\u001b[0;34m\u001b[0m\u001b[0m\n\u001b[1;32m    236\u001b[0m             \u001b[0mself\u001b[0m\u001b[0;34m.\u001b[0m\u001b[0m__id_to_name\u001b[0m \u001b[0;34m=\u001b[0m \u001b[0mid_to_name\u001b[0m\u001b[0;34m\u001b[0m\u001b[0;34m\u001b[0m\u001b[0m\n",
      "\u001b[0;32m/home/code/database/db.py\u001b[0m in \u001b[0;36m<listcomp>\u001b[0;34m(.0)\u001b[0m\n\u001b[1;32m    232\u001b[0m \u001b[0;34m\u001b[0m\u001b[0m\n\u001b[1;32m    233\u001b[0m             \u001b[0;31m# 폴더 경로에서 id와 name을 추출\u001b[0m\u001b[0;34m\u001b[0m\u001b[0;34m\u001b[0m\u001b[0;34m\u001b[0m\u001b[0m\n\u001b[0;32m--> 234\u001b[0;31m             \u001b[0mid_and_names\u001b[0m \u001b[0;34m=\u001b[0m \u001b[0;34m[\u001b[0m\u001b[0mself\u001b[0m\u001b[0;34m.\u001b[0m\u001b[0mdecompose_dir_name\u001b[0m\u001b[0;34m(\u001b[0m\u001b[0mname\u001b[0m\u001b[0;34m)\u001b[0m \u001b[0;32mfor\u001b[0m \u001b[0mname\u001b[0m \u001b[0;32min\u001b[0m \u001b[0mnames\u001b[0m\u001b[0;34m]\u001b[0m\u001b[0;34m\u001b[0m\u001b[0;34m\u001b[0m\u001b[0m\n\u001b[0m\u001b[1;32m    235\u001b[0m             \u001b[0mid_to_name\u001b[0m \u001b[0;34m=\u001b[0m \u001b[0;34m{\u001b[0m\u001b[0mid\u001b[0m\u001b[0;34m:\u001b[0m\u001b[0mname\u001b[0m \u001b[0;32mfor\u001b[0m \u001b[0mid\u001b[0m\u001b[0;34m,\u001b[0m \u001b[0mname\u001b[0m \u001b[0;32min\u001b[0m \u001b[0mid_and_names\u001b[0m\u001b[0;34m}\u001b[0m\u001b[0;34m\u001b[0m\u001b[0;34m\u001b[0m\u001b[0m\n\u001b[1;32m    236\u001b[0m             \u001b[0mself\u001b[0m\u001b[0;34m.\u001b[0m\u001b[0m__id_to_name\u001b[0m \u001b[0;34m=\u001b[0m \u001b[0mid_to_name\u001b[0m\u001b[0;34m\u001b[0m\u001b[0;34m\u001b[0m\u001b[0m\n",
      "\u001b[0;32m/home/code/database/db.py\u001b[0m in \u001b[0;36mdecompose_dir_name\u001b[0;34m(self, dir_name)\u001b[0m\n\u001b[1;32m    274\u001b[0m         \"\"\"\n\u001b[1;32m    275\u001b[0m         \u001b[0msplit\u001b[0m \u001b[0;34m=\u001b[0m \u001b[0mdir_name\u001b[0m\u001b[0;34m.\u001b[0m\u001b[0msplit\u001b[0m\u001b[0;34m(\u001b[0m\u001b[0;34m\"___\"\u001b[0m\u001b[0;34m)\u001b[0m\u001b[0;34m\u001b[0m\u001b[0;34m\u001b[0m\u001b[0m\n\u001b[0;32m--> 276\u001b[0;31m         \u001b[0mid\u001b[0m \u001b[0;34m=\u001b[0m \u001b[0mint\u001b[0m\u001b[0;34m(\u001b[0m\u001b[0msplit\u001b[0m\u001b[0;34m[\u001b[0m\u001b[0;36m0\u001b[0m\u001b[0;34m]\u001b[0m\u001b[0;34m)\u001b[0m\u001b[0;34m\u001b[0m\u001b[0;34m\u001b[0m\u001b[0m\n\u001b[0m\u001b[1;32m    277\u001b[0m         \u001b[0mname\u001b[0m \u001b[0;34m=\u001b[0m \u001b[0;34m\"___\"\u001b[0m\u001b[0;34m.\u001b[0m\u001b[0mjoin\u001b[0m\u001b[0;34m(\u001b[0m\u001b[0msplit\u001b[0m\u001b[0;34m[\u001b[0m\u001b[0;36m1\u001b[0m\u001b[0;34m:\u001b[0m\u001b[0;34m]\u001b[0m\u001b[0;34m)\u001b[0m\u001b[0;34m\u001b[0m\u001b[0;34m\u001b[0m\u001b[0m\n\u001b[1;32m    278\u001b[0m         \u001b[0;32mreturn\u001b[0m \u001b[0mid\u001b[0m\u001b[0;34m,\u001b[0m \u001b[0mname\u001b[0m\u001b[0;34m\u001b[0m\u001b[0;34m\u001b[0m\u001b[0m\n",
      "\u001b[0;31mValueError\u001b[0m: invalid literal for int() with base 10: 'GIST_full_test/main'"
     ]
    }
   ],
   "source": [
    "from database import *\n",
    "labelsetdb = LabelsetDB2()\n",
    "labelsetdb.record_names"
   ]
  },
  {
   "cell_type": "code",
   "execution_count": 1,
   "metadata": {},
   "outputs": [
    {
     "name": "stdout",
     "output_type": "stream",
     "text": [
      "labelsets\n",
      "config.yaml\n"
     ]
    },
    {
     "ename": "KeyError",
     "evalue": "26",
     "output_type": "error",
     "traceback": [
      "\u001b[0;31m---------------------------------------------------------------------------\u001b[0m",
      "\u001b[0;31mKeyError\u001b[0m                                  Traceback (most recent call last)",
      "\u001b[0;32m/tmp/ipykernel_932158/3414844347.py\u001b[0m in \u001b[0;36m<module>\u001b[0;34m\u001b[0m\n\u001b[1;32m      1\u001b[0m \u001b[0;32mfrom\u001b[0m \u001b[0mdatabase\u001b[0m \u001b[0;32mimport\u001b[0m \u001b[0;34m*\u001b[0m\u001b[0;34m\u001b[0m\u001b[0;34m\u001b[0m\u001b[0m\n\u001b[1;32m      2\u001b[0m \u001b[0mlabeldb\u001b[0m \u001b[0;34m=\u001b[0m \u001b[0mLabelsetDB2\u001b[0m\u001b[0;34m(\u001b[0m\u001b[0;34m)\u001b[0m\u001b[0;34m\u001b[0m\u001b[0;34m\u001b[0m\u001b[0m\n\u001b[0;32m----> 3\u001b[0;31m \u001b[0mlabeldb\u001b[0m\u001b[0;34m.\u001b[0m\u001b[0mget_record\u001b[0m\u001b[0;34m(\u001b[0m\u001b[0;36m26\u001b[0m\u001b[0;34m)\u001b[0m\u001b[0;34m.\u001b[0m\u001b[0mget_config\u001b[0m\u001b[0;34m(\u001b[0m\u001b[0;34m)\u001b[0m\u001b[0;34m[\u001b[0m\u001b[0;34m\"name\"\u001b[0m\u001b[0;34m]\u001b[0m\u001b[0;34m\u001b[0m\u001b[0;34m\u001b[0m\u001b[0m\n\u001b[0m",
      "\u001b[0;32m/home/code/database/db.py\u001b[0m in \u001b[0;36mget_record\u001b[0;34m(self, id)\u001b[0m\n\u001b[1;32m    259\u001b[0m         \u001b[0;32mif\u001b[0m \u001b[0misinstance\u001b[0m\u001b[0;34m(\u001b[0m\u001b[0mid\u001b[0m\u001b[0;34m,\u001b[0m \u001b[0mstr\u001b[0m\u001b[0;34m)\u001b[0m\u001b[0;34m:\u001b[0m\u001b[0;34m\u001b[0m\u001b[0;34m\u001b[0m\u001b[0m\n\u001b[1;32m    260\u001b[0m             \u001b[0mid\u001b[0m \u001b[0;34m=\u001b[0m \u001b[0mself\u001b[0m\u001b[0;34m.\u001b[0m\u001b[0mrecord_name_to_id\u001b[0m\u001b[0;34m[\u001b[0m\u001b[0mid\u001b[0m\u001b[0;34m]\u001b[0m\u001b[0;34m\u001b[0m\u001b[0;34m\u001b[0m\u001b[0m\n\u001b[0;32m--> 261\u001b[0;31m         \u001b[0;32mreturn\u001b[0m \u001b[0mself\u001b[0m\u001b[0;34m.\u001b[0m\u001b[0mrecords\u001b[0m\u001b[0;34m[\u001b[0m\u001b[0mid\u001b[0m\u001b[0;34m]\u001b[0m\u001b[0;34m\u001b[0m\u001b[0;34m\u001b[0m\u001b[0m\n\u001b[0m\u001b[1;32m    262\u001b[0m \u001b[0;34m\u001b[0m\u001b[0m\n\u001b[1;32m    263\u001b[0m     \u001b[0;32mdef\u001b[0m \u001b[0mcompose_dir_name\u001b[0m\u001b[0;34m(\u001b[0m\u001b[0mself\u001b[0m\u001b[0;34m,\u001b[0m \u001b[0mid\u001b[0m\u001b[0;34m,\u001b[0m \u001b[0mname\u001b[0m\u001b[0;34m)\u001b[0m\u001b[0;34m:\u001b[0m\u001b[0;34m\u001b[0m\u001b[0;34m\u001b[0m\u001b[0m\n",
      "\u001b[0;31mKeyError\u001b[0m: 26"
     ]
    }
   ],
   "source": [
    "from database import *\n",
    "labeldb = LabelsetDB2()\n",
    "labeldb.get_record(26).get_config()[\"name\"]"
   ]
  },
  {
   "cell_type": "code",
   "execution_count": 4,
   "metadata": {},
   "outputs": [
    {
     "name": "stdout",
     "output_type": "stream",
     "text": [
      "    id                                                           name\n",
      "0    0                                            GIST_full_test/main\n",
      "1    1                                 GIST_full_test/horizontal/main\n",
      "2    2                          GIST_full_test/horizontal/korean/full\n",
      "3    3                        GIST_full_test/horizontal/korean/normal\n",
      "4    4                          GIST_full_test/horizontal/korean/easy\n",
      "5    5                          GIST_full_test/horizontal/korean/hard\n",
      "6    6                        GIST_full_test/horizontal/korean/unseen\n",
      "7    7                          GIST_full_test/horizontal/korean/main\n",
      "8    8                                       KAIST_rec_full_test/main\n",
      "9    9                   KAIST_rec_full_test/horizontal/korean/normal\n",
      "10  10                     KAIST_rec_full_test/horizontal/korean/full\n",
      "11  11                   KAIST_rec_full_test/horizontal/korean/unseen\n",
      "12  12                     KAIST_rec_full_test/horizontal/korean/hard\n",
      "13  13                     KAIST_rec_full_test/horizontal/korean/easy\n",
      "14  14            aihub_rec_full_horizontal_clean_80:10:10/train/main\n",
      "15  15  aihub_rec_full_horizontal_clean_80:10:10/train/char_remove_20\n",
      "16  16  aihub_rec_full_horizontal_clean_80:10:10/train/char_remove_10\n",
      "17  17  aihub_rec_full_horizontal_clean_80:10:10/train/char_remove_30\n",
      "18  18  aihub_rec_full_horizontal_clean_80:10:10/train/char_remove_50\n",
      "19  19  aihub_rec_full_horizontal_clean_80:10:10/train/char_remove_40\n",
      "20  20             aihub_rec_full_horizontal_clean_80:10:10/test/main\n",
      "21  21    aihub_rec_full_horizontal_clean_80:10:10/test/verified/easy\n",
      "22  22    aihub_rec_full_horizontal_clean_80:10:10/test/verified/hard\n",
      "23  23  aihub_rec_full_horizontal_clean_80:10:10/test/verified/normal\n",
      "24  24  aihub_rec_full_horizontal_clean_80:10:10/test/verified/unseen\n",
      "25  25    aihub_rec_full_horizontal_clean_80:10:10/test/verified/main\n",
      "26  26             aihub_rec_full_horizontal_clean_80:10:10/eval/main\n",
      "27  27             aihub_rec_full_horizontal_clean_80:10:10/eval/easy\n",
      "28  28             aihub_rec_full_horizontal_clean_80:10:10/eval/hard\n",
      "29  29           aihub_rec_full_horizontal_clean_80:10:10/eval/normal\n",
      "30  30           aihub_rec_full_horizontal_clean_80:10:10/eval/unseen\n",
      "31  31                                                           test\n"
     ]
    }
   ],
   "source": [
    "print(labeldb.get_record_table().to_string())"
   ]
  },
  {
   "cell_type": "code",
   "execution_count": null,
   "metadata": {},
   "outputs": [
    {
     "data": {
      "text/plain": [
       "WindowsPath('test/hello/world/text.txt')"
      ]
     },
     "execution_count": 3,
     "metadata": {},
     "output_type": "execute_result"
    }
   ],
   "source": [
    "from pathlib import Path\n",
    "x = \"./hello/world/text.txt\"\n",
    "Path(\"./test/\")/x"
   ]
  },
  {
   "cell_type": "markdown",
   "metadata": {},
   "source": [
    "#### 레이블 셋 생성"
   ]
  },
  {
   "cell_type": "code",
   "execution_count": 2,
   "metadata": {},
   "outputs": [
    {
     "name": "stdout",
     "output_type": "stream",
     "text": [
      "aihub_rec [80, 10, 10]\n",
      "2. save label files\n",
      "3. make infer label files\n"
     ]
    }
   ],
   "source": [
    "from database import *\n",
    "datadb = DatasetDB()\n",
    "labeldb = LabelsetDB()\n",
    "datadb.get_all_id()\n",
    "\n",
    "# labeldb.make(\"sangmu_std\", [\"sangmu_std_MH\", \"sangmu_std_DI\", \"sangmu_std_DH\"], split_ratio=[8, 1, 1], random_seed=100)\n",
    "\n",
    "oursourcing_datasets = [\n",
    "    # \"aihub_rec\",\n",
    "    # \"outsourcing_v1_rec\",\n",
    "    # \"outsourcing_v1(exception)_rec\",\n",
    "    # \"outsourcing_v2.1_rec\",\n",
    "    # \"outsourcing_v2.1(exception)_rec\",\n",
    "    # \"outsourcing_v2.2_rec\",\n",
    "    # \"outsourcing_v2.2(exception)_rec\",\n",
    "    # \"outsourcing_v2.3_rec\",\n",
    "    # \"outsourcing_v2.3(exception)_rec\",\n",
    "    # \"outsourcing_v2.4_rec\",\n",
    "    # \"outsourcing_v2.4(exception)_rec\",\n",
    "    # \"outsourcing_v2.5_rec\",\n",
    "    # \"outsourcing_v2.5(exception)_rec\",\n",
    "    # \"outsourcing_v2.6.1_rec\",\n",
    "    # \"outsourcing_v2.6.1(exception)_rec\",\n",
    "    # \"outsourcing_v2.6.2_rec\",\n",
    "    # \"outsourcing_v2.6.2(exception)_rec\",\n",
    "    # \"sangmu_str_MH_v2\",\n",
    "    # \"sangmu_str_DI_v2\",\n",
    "    # \"sangmu_str_DH_v2\"\n",
    "    # \"rec_CUTE80\",\n",
    "    # \"rec_ic03\",\n",
    "    # \"rec_ic13\",\n",
    "    # \"rec_ic15\",\n",
    "    # \"rec_IIIT5K\",\n",
    "    # \"rec_SVT\",\n",
    "    # \"rec_SVTP\"\n",
    "]\n",
    "\n",
    "# labeldb.make(\"test\", oursourcing_datasets, [1, 0, 0], random_seed=100, individual_split_ratio={\n",
    "#     \"sangmu_str_MH_v2\":[0, 1, 0],\n",
    "#     \"sangmu_str_DI_v2\":[0, 1, 0],\n",
    "#     \"sangmu_str_DH_v2\":[0, 1, 0]\n",
    "# }, size=1000)\n",
    "\n",
    "\n",
    "\n",
    "labeldb.make(\"aihub_rec_full_horizontal_clean_80:10:10\", [\"KAIST_rec\"], split_ratio=[80, 10, 10], random_seed=100, size=None)\n",
    "# labeldb.make(\"aihub_rec_30k_horizontal_80:10:10\", [\"aihub_rec\"], split_ratio=[90, 10, 10], random_seed=100, size=30000)\n",
    "# labeldb.make(\"aihub_rec_40k_horizontal_80:10:10\", [\"aihub_rec\"], split_ratio=[90, 10, 10], random_seed=100, size=40000)\n",
    "# labeldb.make(\"aihub_rec_50k_horizontal_80:10:10\", [\"aihub_rec\"], split_ratio=[90, 10, 10], random_seed=100, size=50000)\n",
    "# labeldb.make(\"signboard\", oursourcing_datasets, split_ratio=[8, 1, 1], random_seed=100)\n",
    "# labeldb.make(\"signboard\", oursourcing_datasets, split_ratio=[8, 1, 1], random_seed=100)"
   ]
  },
  {
   "cell_type": "markdown",
   "metadata": {},
   "source": [
    "#### k_fold 레이블 셋 생성"
   ]
  },
  {
   "cell_type": "code",
   "execution_count": 1,
   "metadata": {},
   "outputs": [
    {
     "name": "stdout",
     "output_type": "stream",
     "text": [
      "1. Load all label files\n",
      "2. split labels in k segments\n",
      "3. save\n",
      "labelsets/sangmu_and_outsourcing_rec_v3_k_fold_5_1/train_label.txt\n"
     ]
    },
    {
     "ename": "NameError",
     "evalue": "name 'exit' is not defined",
     "output_type": "error",
     "traceback": [
      "\u001b[0;31m---------------------------------------------------------------------------\u001b[0m",
      "\u001b[0;31mNameError\u001b[0m                                 Traceback (most recent call last)",
      "\u001b[0;32m/tmp/ipykernel_10317/373688230.py\u001b[0m in \u001b[0;36m<module>\u001b[0;34m\u001b[0m\n\u001b[1;32m      1\u001b[0m \u001b[0;32mfrom\u001b[0m \u001b[0mdatabase\u001b[0m \u001b[0;32mimport\u001b[0m \u001b[0;34m*\u001b[0m\u001b[0;34m\u001b[0m\u001b[0;34m\u001b[0m\u001b[0m\n\u001b[1;32m      2\u001b[0m \u001b[0mlabeldb\u001b[0m \u001b[0;34m=\u001b[0m \u001b[0mLabelsetDB\u001b[0m\u001b[0;34m(\u001b[0m\u001b[0;34m)\u001b[0m\u001b[0;34m\u001b[0m\u001b[0;34m\u001b[0m\u001b[0m\n\u001b[0;32m----> 3\u001b[0;31m \u001b[0mlabeldb\u001b[0m\u001b[0;34m.\u001b[0m\u001b[0mmake_k_fold\u001b[0m\u001b[0;34m(\u001b[0m\u001b[0;34m[\u001b[0m\u001b[0;34m\"sangmu_and_outsourcing_rec_v3\"\u001b[0m\u001b[0;34m]\u001b[0m\u001b[0;34m,\u001b[0m \u001b[0;34m\"sangmu_and_outsourcing_rec_v3_k_fold\"\u001b[0m\u001b[0;34m,\u001b[0m \u001b[0mk\u001b[0m\u001b[0;34m=\u001b[0m\u001b[0;36m5\u001b[0m\u001b[0;34m)\u001b[0m\u001b[0;34m\u001b[0m\u001b[0;34m\u001b[0m\u001b[0m\n\u001b[0m\u001b[1;32m      4\u001b[0m \u001b[0;31m# labeldb.get_config(\"sangmu_and_outsourcing_rec_v3_k_fold_5_1\")\u001b[0m\u001b[0;34m\u001b[0m\u001b[0;34m\u001b[0m\u001b[0;34m\u001b[0m\u001b[0m\n",
      "\u001b[0;32m/home/code/database/labelset_db.py\u001b[0m in \u001b[0;36mmake_k_fold\u001b[0;34m(self, labelsets, name, k, random_seed)\u001b[0m\n\u001b[1;32m    155\u001b[0m             \u001b[0mopen\u001b[0m\u001b[0;34m(\u001b[0m\u001b[0mnew_label_dir\u001b[0m\u001b[0;34m/\u001b[0m\u001b[0mLabelsetDB\u001b[0m\u001b[0;34m.\u001b[0m\u001b[0mEVAL_LABEL_FILE\u001b[0m\u001b[0;34m,\u001b[0m \u001b[0;34m\"w\"\u001b[0m\u001b[0;34m)\u001b[0m\u001b[0;34m.\u001b[0m\u001b[0mwrite\u001b[0m\u001b[0;34m(\u001b[0m\u001b[0;34m\"\\n\"\u001b[0m\u001b[0;34m.\u001b[0m\u001b[0mjoin\u001b[0m\u001b[0;34m(\u001b[0m\u001b[0mval\u001b[0m\u001b[0;34m)\u001b[0m\u001b[0;34m)\u001b[0m\u001b[0;34m\u001b[0m\u001b[0;34m\u001b[0m\u001b[0m\n\u001b[1;32m    156\u001b[0m             \u001b[0mprint\u001b[0m\u001b[0;34m(\u001b[0m\u001b[0mnew_label_dir\u001b[0m\u001b[0;34m/\u001b[0m\u001b[0mLabelsetDB\u001b[0m\u001b[0;34m.\u001b[0m\u001b[0mTRAIN_LABEL_FILE\u001b[0m\u001b[0;34m)\u001b[0m\u001b[0;34m\u001b[0m\u001b[0;34m\u001b[0m\u001b[0m\n\u001b[0;32m--> 157\u001b[0;31m             \u001b[0mexit\u001b[0m\u001b[0;34m(\u001b[0m\u001b[0;34m)\u001b[0m\u001b[0;34m\u001b[0m\u001b[0;34m\u001b[0m\u001b[0m\n\u001b[0m\u001b[1;32m    158\u001b[0m             \u001b[0mtrain_infer\u001b[0m \u001b[0;34m=\u001b[0m \u001b[0;34m[\u001b[0m\u001b[0mlabel\u001b[0m\u001b[0;34m.\u001b[0m\u001b[0msplit\u001b[0m\u001b[0;34m(\u001b[0m\u001b[0;34m\"\\t\"\u001b[0m\u001b[0;34m)\u001b[0m\u001b[0;34m[\u001b[0m\u001b[0;36m0\u001b[0m\u001b[0;34m]\u001b[0m \u001b[0;32mfor\u001b[0m \u001b[0mlabel\u001b[0m \u001b[0;32min\u001b[0m \u001b[0mtrain\u001b[0m\u001b[0;34m]\u001b[0m\u001b[0;34m\u001b[0m\u001b[0;34m\u001b[0m\u001b[0m\n\u001b[1;32m    159\u001b[0m             \u001b[0mval_infer\u001b[0m \u001b[0;34m=\u001b[0m \u001b[0;34m[\u001b[0m\u001b[0mlabel\u001b[0m\u001b[0;34m.\u001b[0m\u001b[0msplit\u001b[0m\u001b[0;34m(\u001b[0m\u001b[0;34m\"\\t\"\u001b[0m\u001b[0;34m)\u001b[0m\u001b[0;34m[\u001b[0m\u001b[0;36m0\u001b[0m\u001b[0;34m]\u001b[0m \u001b[0;32mfor\u001b[0m \u001b[0mlabel\u001b[0m \u001b[0;32min\u001b[0m \u001b[0mval\u001b[0m\u001b[0;34m]\u001b[0m\u001b[0;34m\u001b[0m\u001b[0;34m\u001b[0m\u001b[0m\n",
      "\u001b[0;31mNameError\u001b[0m: name 'exit' is not defined"
     ]
    }
   ],
   "source": [
    "from database import *\n",
    "labeldb = LabelsetDB()\n",
    "labeldb.make_k_fold([\"aihub_rec_10000_horizontal_8:1:1\"], \"sangmu_and_outsourcing_rec_v3_k_fold\", k=9)\n",
    "# labeldb.get_config(\"sangmu_and_outsourcing_rec_v3_k_fold_5_1\")"
   ]
  },
  {
   "cell_type": "code",
   "execution_count": 2,
   "metadata": {},
   "outputs": [
    {
     "name": "stdout",
     "output_type": "stream",
     "text": [
      "/home/works/20___SVTR___C+G_utf8___lambda_0.9___epoch_100\n",
      "/home/works/SVTR___C+G_utf8___lambda_0.9___epoch_100___id_20\n",
      "/home/works/4___SVTR___C+G_utf8___lambda_0.9___epoch_150\n",
      "/home/works/SVTR___C+G_utf8___lambda_0.9___epoch_150___id_4\n",
      "/home/works/5___SVTR___G_utf8___epoch_150\n",
      "/home/works/SVTR___G_utf8___epoch_150___id_5\n",
      "/home/works/21___SVTR___G_utf8___epoch_100\n",
      "/home/works/SVTR___G_utf8___epoch_100___id_21\n",
      "/home/works/26___SVTR___C+G_utf8___lambda_0.9___epoch_200\n",
      "/home/works/SVTR___C+G_utf8___lambda_0.9___epoch_200___id_26\n",
      "/home/works/10___SVTR___C+G_utf8___lambda_0.7___epoch_50\n",
      "/home/works/SVTR___C+G_utf8___lambda_0.7___epoch_50___id_10\n",
      "/home/works/6___SVTR___C___epoch_50\n",
      "/home/works/SVTR___C___epoch_50___id_6\n",
      "/home/works/17___SVTR___C___epoch_100\n",
      "/home/works/SVTR___C___epoch_100___id_17\n",
      "/home/works/3___SVTR___C+G_utf8___lambda_0.1___epoch_50\n",
      "/home/works/SVTR___C+G_utf8___lambda_0.1___epoch_50___id_3\n",
      "/home/works/14___SVTR___C+G_utf8___lambda_0.3___epoch_150\n",
      "/home/works/SVTR___C+G_utf8___lambda_0.3___epoch_150___id_14\n",
      "/home/works/25___SVTR___C+G_utf8___lambda_0.7___epoch_200\n",
      "/home/works/SVTR___C+G_utf8___lambda_0.7___epoch_200___id_25\n",
      "/home/works/24___SVTR___C+G_utf8___lambda_0.5___epoch_200\n",
      "/home/works/SVTR___C+G_utf8___lambda_0.5___epoch_200___id_24\n",
      "/home/works/16___SVTR___C___epoch_150\n",
      "/home/works/SVTR___C___epoch_150___id_16\n",
      "/home/works/18___SVTR___C+G_utf8___lambda_0.1___epoch_100\n",
      "/home/works/SVTR___C+G_utf8___lambda_0.1___epoch_100___id_18\n",
      "/home/works/11___SVTR___C+G_utf8___lambda_0.5___epoch_50\n",
      "/home/works/SVTR___C+G_utf8___lambda_0.5___epoch_50___id_11\n",
      "/home/works/13___SVTR___C+G_utf8___lambda_0.5___epoch_150\n",
      "/home/works/SVTR___C+G_utf8___lambda_0.5___epoch_150___id_13\n",
      "/home/works/19___SVTR___C+G_utf8___lambda_0.7___epoch_100\n",
      "/home/works/SVTR___C+G_utf8___lambda_0.7___epoch_100___id_19\n",
      "/home/works/2___SVTR___C+G_utf8___lambda_0.9___epoch_50\n",
      "/home/works/SVTR___C+G_utf8___lambda_0.9___epoch_50___id_2\n",
      "/home/works/22___SVTR___C+G_utf8___lambda_0.1___epoch_200\n",
      "/home/works/SVTR___C+G_utf8___lambda_0.1___epoch_200___id_22\n",
      "/home/works/1___SVTR___C+G_utf8___lambda_0.3___epoch_50\n",
      "/home/works/SVTR___C+G_utf8___lambda_0.3___epoch_50___id_1\n",
      "/home/works/7___SVTR___C+G_utf8___lambda_0.3___epoch_100\n",
      "/home/works/SVTR___C+G_utf8___lambda_0.3___epoch_100___id_7\n",
      "/home/works/12___SVTR___C+G_utf8___lambda_0.7___epoch_150\n",
      "/home/works/SVTR___C+G_utf8___lambda_0.7___epoch_150___id_12\n",
      "/home/works/9___SVTR___G_utf8___epoch_50\n",
      "/home/works/SVTR___G_utf8___epoch_50___id_9\n",
      "/home/works/23___SVTR___C+G_utf8___lambda_0.3___epoch_200\n",
      "/home/works/SVTR___C+G_utf8___lambda_0.3___epoch_200___id_23\n",
      "/home/works/15___SVTR___C+G_utf8___lambda_0.1___epoch_150\n",
      "/home/works/SVTR___C+G_utf8___lambda_0.1___epoch_150___id_15\n",
      "/home/works/8___SVTR___C+G_utf8___lambda_0.5___epoch_100\n",
      "/home/works/SVTR___C+G_utf8___lambda_0.5___epoch_100___id_8\n"
     ]
    }
   ],
   "source": [
    "from pathlib import Path\n",
    "import yaml\n",
    "path_list = Path(\"/home/works\").glob(\"**/work_config.yml\")\n",
    "path_list = list(path_list)\n",
    "\n",
    "from database import *\n",
    "workdb = WorkDB2()\n",
    "\n",
    "for path in path_list:\n",
    "    \n",
    "    origin_path = path.parent\n",
    "    name = origin_path.name\n",
    "    id = name.split(\"___\")[0]\n",
    "    name = \"___\".join(name.split(\"___\")[1:])\n",
    "    new_dir_name = workdb.compose_dir_name(id, name)\n",
    "    new_path = origin_path.parent/new_dir_name\n",
    "    print(origin_path)\n",
    "    print(new_path)\n",
    "    origin_path.rename(new_path)\n",
    "    \n"
   ]
  },
  {
   "cell_type": "code",
   "execution_count": null,
   "metadata": {},
   "outputs": [],
   "source": []
  }
 ],
 "metadata": {
  "kernelspec": {
   "display_name": "Python 3",
   "language": "python",
   "name": "python3"
  },
  "language_info": {
   "codemirror_mode": {
    "name": "ipython",
    "version": 3
   },
   "file_extension": ".py",
   "mimetype": "text/x-python",
   "name": "python",
   "nbconvert_exporter": "python",
   "pygments_lexer": "ipython3",
   "version": "3.7.14"
  }
 },
 "nbformat": 4,
 "nbformat_minor": 2
}
