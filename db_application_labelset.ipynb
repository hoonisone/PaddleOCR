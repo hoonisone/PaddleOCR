{
 "cells": [
  {
   "cell_type": "markdown",
   "metadata": {},
   "source": [
    "# Labelset"
   ]
  },
  {
   "cell_type": "code",
   "execution_count": 8,
   "metadata": {},
   "outputs": [
    {
     "data": {
      "text/plain": [
       "['sangmu_str',\n",
       " 'sangmu_std',\n",
       " 'sangmu_and_outsourcing_str',\n",
       " 'outsourcing_str',\n",
       " 'sangmu_and_outsourcing_std',\n",
       " 'outsourcing_std',\n",
       " 'sangmu_str_v2',\n",
       " 'sangmu_and_outsourcing_str_v2',\n",
       " 'full_dataset_str_v1',\n",
       " 'rec_test']"
      ]
     },
     "execution_count": 8,
     "metadata": {},
     "output_type": "execute_result"
    }
   ],
   "source": [
    "from database import *\n",
    "datadb = DatasetDB()\n",
    "labeldb = LabelsetDB()\n",
    "labeldb.get_all_id()"
   ]
  },
  {
   "cell_type": "code",
   "execution_count": 1,
   "metadata": {},
   "outputs": [
    {
     "data": {
      "text/plain": [
       "'E:/workspace/paddleocr/datasets/id/path'"
      ]
     },
     "execution_count": 1,
     "metadata": {},
     "output_type": "execute_result"
    }
   ],
   "source": [
    "from database import *\n",
    "datadb = DatasetDB()\n",
    "datadb.relative_to(\"id\", \"path\", \"absolute\")\n"
   ]
  },
  {
   "cell_type": "code",
   "execution_count": null,
   "metadata": {},
   "outputs": [
    {
     "data": {
      "text/plain": [
       "WindowsPath('test/hello/world/text.txt')"
      ]
     },
     "execution_count": 3,
     "metadata": {},
     "output_type": "execute_result"
    }
   ],
   "source": [
    "from pathlib import Path\n",
    "x = \"./hello/world/text.txt\"\n",
    "Path(\"./test/\")/x"
   ]
  },
  {
   "cell_type": "markdown",
   "metadata": {},
   "source": [
    "#### 레이블 셋 생성"
   ]
  },
  {
   "cell_type": "code",
   "execution_count": 1,
   "metadata": {},
   "outputs": [
    {
     "name": "stdout",
     "output_type": "stream",
     "text": [
      "rec_signboard1 [80, 10, 10]\n",
      "rec_signboard2 [80, 10, 10]\n",
      "2. save label files\n",
      "3. make infer label files\n"
     ]
    }
   ],
   "source": [
    "from database import *\n",
    "datadb = DatasetDB()\n",
    "labeldb = LabelsetDB()\n",
    "datadb.get_all_id()\n",
    "\n",
    "# labeldb.make(\"sangmu_std\", [\"sangmu_std_MH\", \"sangmu_std_DI\", \"sangmu_std_DH\"], split_ratio=[8, 1, 1], random_seed=100)\n",
    "\n",
    "oursourcing_datasets = [\n",
    "    # \"aihub_rec\",\n",
    "    \"outsourcing_v1_rec\",\n",
    "    \"outsourcing_v1(exception)_rec\",\n",
    "    \"outsourcing_v2.1_rec\",\n",
    "    \"outsourcing_v2.1(exception)_rec\",\n",
    "    \"outsourcing_v2.2_rec\",\n",
    "    \"outsourcing_v2.2(exception)_rec\",\n",
    "    \"outsourcing_v2.3_rec\",\n",
    "    \"outsourcing_v2.3(exception)_rec\",\n",
    "    \"outsourcing_v2.4_rec\",\n",
    "    \"outsourcing_v2.4(exception)_rec\",\n",
    "    \"outsourcing_v2.5_rec\",\n",
    "    \"outsourcing_v2.5(exception)_rec\",\n",
    "    \"outsourcing_v2.6.1_rec\",\n",
    "    \"outsourcing_v2.6.1(exception)_rec\",\n",
    "    \"outsourcing_v2.6.2_rec\",\n",
    "    \"outsourcing_v2.6.2(exception)_rec\",\n",
    "    \"sangmu_str_MH_v2\",\n",
    "    \"sangmu_str_DI_v2\",\n",
    "    \"sangmu_str_DH_v2\"\n",
    "    # \"rec_CUTE80\",\n",
    "    # \"rec_ic03\",\n",
    "    # \"rec_ic13\",\n",
    "    # \"rec_ic15\",\n",
    "    # \"rec_IIIT5K\",\n",
    "    # \"rec_SVT\",\n",
    "    # \"rec_SVTP\"\n",
    "]\n",
    "\n",
    "# labeldb.make(\"test\", oursourcing_datasets, [1, 0, 0], random_seed=100, individual_split_ratio={\n",
    "#     \"sangmu_str_MH_v2\":[0, 1, 0],\n",
    "#     \"sangmu_str_DI_v2\":[0, 1, 0],\n",
    "#     \"sangmu_str_DH_v2\":[0, 1, 0]\n",
    "# }, size=1000)\n",
    "\n",
    "\n",
    "\n",
    "labeldb.make(\"rec_signboard_full\", [\"rec_signboard1\", \"rec_signboard2\"], split_ratio=[80, 10, 10], random_seed=100, size=None)\n",
    "# labeldb.make(\"aihub_rec_30k_horizontal_80:10:10\", [\"aihub_rec\"], split_ratio=[90, 10, 10], random_seed=100, size=30000)\n",
    "# labeldb.make(\"aihub_rec_40k_horizontal_80:10:10\", [\"aihub_rec\"], split_ratio=[90, 10, 10], random_seed=100, size=40000)\n",
    "# labeldb.make(\"aihub_rec_50k_horizontal_80:10:10\", [\"aihub_rec\"], split_ratio=[90, 10, 10], random_seed=100, size=50000)\n",
    "# labeldb.make(\"signboard\", oursourcing_datasets, split_ratio=[8, 1, 1], random_seed=100)\n",
    "# labeldb.make(\"signboard\", oursourcing_datasets, split_ratio=[8, 1, 1], random_seed=100)"
   ]
  },
  {
   "cell_type": "markdown",
   "metadata": {},
   "source": [
    "#### k_fold 레이블 셋 생성"
   ]
  },
  {
   "cell_type": "code",
   "execution_count": 1,
   "metadata": {},
   "outputs": [
    {
     "name": "stdout",
     "output_type": "stream",
     "text": [
      "1. Load all label files\n",
      "2. split labels in k segments\n",
      "3. save\n",
      "labelsets/sangmu_and_outsourcing_rec_v3_k_fold_5_1/train_label.txt\n"
     ]
    },
    {
     "ename": "NameError",
     "evalue": "name 'exit' is not defined",
     "output_type": "error",
     "traceback": [
      "\u001b[0;31m---------------------------------------------------------------------------\u001b[0m",
      "\u001b[0;31mNameError\u001b[0m                                 Traceback (most recent call last)",
      "\u001b[0;32m/tmp/ipykernel_10317/373688230.py\u001b[0m in \u001b[0;36m<module>\u001b[0;34m\u001b[0m\n\u001b[1;32m      1\u001b[0m \u001b[0;32mfrom\u001b[0m \u001b[0mdatabase\u001b[0m \u001b[0;32mimport\u001b[0m \u001b[0;34m*\u001b[0m\u001b[0;34m\u001b[0m\u001b[0;34m\u001b[0m\u001b[0m\n\u001b[1;32m      2\u001b[0m \u001b[0mlabeldb\u001b[0m \u001b[0;34m=\u001b[0m \u001b[0mLabelsetDB\u001b[0m\u001b[0;34m(\u001b[0m\u001b[0;34m)\u001b[0m\u001b[0;34m\u001b[0m\u001b[0;34m\u001b[0m\u001b[0m\n\u001b[0;32m----> 3\u001b[0;31m \u001b[0mlabeldb\u001b[0m\u001b[0;34m.\u001b[0m\u001b[0mmake_k_fold\u001b[0m\u001b[0;34m(\u001b[0m\u001b[0;34m[\u001b[0m\u001b[0;34m\"sangmu_and_outsourcing_rec_v3\"\u001b[0m\u001b[0;34m]\u001b[0m\u001b[0;34m,\u001b[0m \u001b[0;34m\"sangmu_and_outsourcing_rec_v3_k_fold\"\u001b[0m\u001b[0;34m,\u001b[0m \u001b[0mk\u001b[0m\u001b[0;34m=\u001b[0m\u001b[0;36m5\u001b[0m\u001b[0;34m)\u001b[0m\u001b[0;34m\u001b[0m\u001b[0;34m\u001b[0m\u001b[0m\n\u001b[0m\u001b[1;32m      4\u001b[0m \u001b[0;31m# labeldb.get_config(\"sangmu_and_outsourcing_rec_v3_k_fold_5_1\")\u001b[0m\u001b[0;34m\u001b[0m\u001b[0;34m\u001b[0m\u001b[0;34m\u001b[0m\u001b[0m\n",
      "\u001b[0;32m/home/code/database/labelset_db.py\u001b[0m in \u001b[0;36mmake_k_fold\u001b[0;34m(self, labelsets, name, k, random_seed)\u001b[0m\n\u001b[1;32m    155\u001b[0m             \u001b[0mopen\u001b[0m\u001b[0;34m(\u001b[0m\u001b[0mnew_label_dir\u001b[0m\u001b[0;34m/\u001b[0m\u001b[0mLabelsetDB\u001b[0m\u001b[0;34m.\u001b[0m\u001b[0mEVAL_LABEL_FILE\u001b[0m\u001b[0;34m,\u001b[0m \u001b[0;34m\"w\"\u001b[0m\u001b[0;34m)\u001b[0m\u001b[0;34m.\u001b[0m\u001b[0mwrite\u001b[0m\u001b[0;34m(\u001b[0m\u001b[0;34m\"\\n\"\u001b[0m\u001b[0;34m.\u001b[0m\u001b[0mjoin\u001b[0m\u001b[0;34m(\u001b[0m\u001b[0mval\u001b[0m\u001b[0;34m)\u001b[0m\u001b[0;34m)\u001b[0m\u001b[0;34m\u001b[0m\u001b[0;34m\u001b[0m\u001b[0m\n\u001b[1;32m    156\u001b[0m             \u001b[0mprint\u001b[0m\u001b[0;34m(\u001b[0m\u001b[0mnew_label_dir\u001b[0m\u001b[0;34m/\u001b[0m\u001b[0mLabelsetDB\u001b[0m\u001b[0;34m.\u001b[0m\u001b[0mTRAIN_LABEL_FILE\u001b[0m\u001b[0;34m)\u001b[0m\u001b[0;34m\u001b[0m\u001b[0;34m\u001b[0m\u001b[0m\n\u001b[0;32m--> 157\u001b[0;31m             \u001b[0mexit\u001b[0m\u001b[0;34m(\u001b[0m\u001b[0;34m)\u001b[0m\u001b[0;34m\u001b[0m\u001b[0;34m\u001b[0m\u001b[0m\n\u001b[0m\u001b[1;32m    158\u001b[0m             \u001b[0mtrain_infer\u001b[0m \u001b[0;34m=\u001b[0m \u001b[0;34m[\u001b[0m\u001b[0mlabel\u001b[0m\u001b[0;34m.\u001b[0m\u001b[0msplit\u001b[0m\u001b[0;34m(\u001b[0m\u001b[0;34m\"\\t\"\u001b[0m\u001b[0;34m)\u001b[0m\u001b[0;34m[\u001b[0m\u001b[0;36m0\u001b[0m\u001b[0;34m]\u001b[0m \u001b[0;32mfor\u001b[0m \u001b[0mlabel\u001b[0m \u001b[0;32min\u001b[0m \u001b[0mtrain\u001b[0m\u001b[0;34m]\u001b[0m\u001b[0;34m\u001b[0m\u001b[0;34m\u001b[0m\u001b[0m\n\u001b[1;32m    159\u001b[0m             \u001b[0mval_infer\u001b[0m \u001b[0;34m=\u001b[0m \u001b[0;34m[\u001b[0m\u001b[0mlabel\u001b[0m\u001b[0;34m.\u001b[0m\u001b[0msplit\u001b[0m\u001b[0;34m(\u001b[0m\u001b[0;34m\"\\t\"\u001b[0m\u001b[0;34m)\u001b[0m\u001b[0;34m[\u001b[0m\u001b[0;36m0\u001b[0m\u001b[0;34m]\u001b[0m \u001b[0;32mfor\u001b[0m \u001b[0mlabel\u001b[0m \u001b[0;32min\u001b[0m \u001b[0mval\u001b[0m\u001b[0;34m]\u001b[0m\u001b[0;34m\u001b[0m\u001b[0;34m\u001b[0m\u001b[0m\n",
      "\u001b[0;31mNameError\u001b[0m: name 'exit' is not defined"
     ]
    }
   ],
   "source": [
    "from database import *\n",
    "labeldb = LabelsetDB()\n",
    "labeldb.make_k_fold([\"aihub_rec_10000_horizontal_8:1:1\"], \"sangmu_and_outsourcing_rec_v3_k_fold\", k=9)\n",
    "# labeldb.get_config(\"sangmu_and_outsourcing_rec_v3_k_fold_5_1\")"
   ]
  }
 ],
 "metadata": {
  "kernelspec": {
   "display_name": "Python 3",
   "language": "python",
   "name": "python3"
  },
  "language_info": {
   "codemirror_mode": {
    "name": "ipython",
    "version": 3
   },
   "file_extension": ".py",
   "mimetype": "text/x-python",
   "name": "python",
   "nbconvert_exporter": "python",
   "pygments_lexer": "ipython3",
   "version": "3.7.14"
  }
 },
 "nbformat": 4,
 "nbformat_minor": 2
}
